{
  "nbformat": 4,
  "nbformat_minor": 0,
  "metadata": {
    "colab": {
      "name": "1st Yongjib 코드공부.ipynb",
      "provenance": [],
      "collapsed_sections": [
        "P80yB9fFVn1j",
        "SQB1MeGaWuuf",
        "k4JFeAK2Twxd",
        "LXq-JMeGXoQD",
        "8-py2F-ZgBeq",
        "bJka4Dsbjjqq",
        "_9VI36ApRrbL",
        "2iy0X_u5iIE6",
        "w5x1TtdcoJJi"
      ],
      "toc_visible": true,
      "machine_shape": "hm"
    },
    "kernelspec": {
      "display_name": "Python 3",
      "name": "python3"
    },
    "language_info": {
      "name": "python"
    }
  },
  "cells": [
    {
      "cell_type": "markdown",
      "metadata": {
        "id": "P80yB9fFVn1j"
      },
      "source": [
        "# 설명"
      ]
    },
    {
      "cell_type": "markdown",
      "metadata": {
        "id": "Iv7SOUCRWIJ9"
      },
      "source": [
        "[배경]\n",
        "\n",
        "전통적인 금융권은 소상공인 대출 시 신용점수 또는 담보물 위주의 평가를 진행합니다. 한편 한국의 핀테그 기업인 'FUNDA'는 상환기간의 매출을 예측하여 신용점수가 낮거나 담보를 가지지 못하는 우수 상점들에 금융 기회를 제공하려 합니다.\n",
        "\n",
        "이번 대회에서 **상환 기간의 '총 매출'을 예측**하는 모델을 만들어주세요. 펀다에서는 예측된 매출을 기반으로 대출한도를 설정합니다. 모델이 정확할수록 더 낮은 금리와 더 높은 한도를 제공할 수 있게 됩니다."
      ]
    },
    {
      "cell_type": "markdown",
      "metadata": {
        "id": "n6e1b1r8VqkK"
      },
      "source": [
        "[기초설명]\n",
        "\n",
        "한국의 약 2000개 상점의 신용카드 거래 내역이 제공됨.\n",
        "\n",
        "card_id를 기준으로 샘플링 되었으며,\n",
        "amount의 단위는 KRW가 아니다.\n",
        "\n",
        "테스트 파일에서 **각 상점의 마지막 매출 발생일 다음날부터 100일후까지의 매출의 총합을 예측**해야합니다."
      ]
    },
    {
      "cell_type": "markdown",
      "metadata": {
        "id": "SQB1MeGaWuuf"
      },
      "source": [
        "# columns 설명"
      ]
    },
    {
      "cell_type": "markdown",
      "metadata": {
        "id": "Mofomd3QWxn6"
      },
      "source": [
        "store_id\n",
        "* 각 파일에서의 **상점 고유 번호** (**해당기한 내 개업 혹은 폐업한 상점도 있음**)\n",
        "\n",
        "date \n",
        "* 거래일자\n",
        "\n",
        "time\n",
        "* 거래시간\n",
        "\n",
        "card_id\n",
        "* 카드 번호의 hash값\n",
        "\n",
        "amount\n",
        "\n",
        "* 매출 금액, *음수인 경우 취소 거래*\n",
        "\n",
        "installments\n",
        "* 할부 개월 수. 일시불은 빈 문자열\n",
        "\n",
        "days_of_week\n",
        "\n",
        "* 요일, 월요일이 0, 일요일은 6\n",
        "\n",
        "holiday\n",
        "* 1이면 공휴일, 0이면 공휴일 아님\n"
      ]
    },
    {
      "cell_type": "markdown",
      "metadata": {
        "id": "k4JFeAK2Twxd"
      },
      "source": [
        "# import library and data"
      ]
    },
    {
      "cell_type": "code",
      "metadata": {
        "id": "xSL94-PIO6ce"
      },
      "source": [
        "import numpy as np\n",
        "import pandas as pd"
      ],
      "execution_count": null,
      "outputs": []
    },
    {
      "cell_type": "code",
      "metadata": {
        "id": "kHyheHPUT45W"
      },
      "source": [
        "test = pd.read_csv(\"/content/drive/MyDrive/Colab Notebooks/kaggle study/[2]store/test.csv\")"
      ],
      "execution_count": null,
      "outputs": []
    },
    {
      "cell_type": "code",
      "metadata": {
        "id": "BaJnY1JwVK5c"
      },
      "source": [
        "submission = pd.read_csv(\"/content/drive/MyDrive/Colab Notebooks/kaggle study/[2]store/submission.csv\")\n",
        "train = pd.read_csv(\"/content/drive/MyDrive/Colab Notebooks/kaggle study/[2]store/train.csv\")"
      ],
      "execution_count": null,
      "outputs": []
    },
    {
      "cell_type": "code",
      "metadata": {
        "colab": {
          "base_uri": "https://localhost:8080/"
        },
        "id": "s3A6JACPFAEC",
        "outputId": "94306ff8-4fe8-4f95-83a0-2b2fa3b9383e"
      },
      "source": [
        "train.head()"
      ],
      "execution_count": null,
      "outputs": [
        {
          "output_type": "execute_result",
          "data": {
            "text/html": [
              "<div>\n",
              "<style scoped>\n",
              "    .dataframe tbody tr th:only-of-type {\n",
              "        vertical-align: middle;\n",
              "    }\n",
              "\n",
              "    .dataframe tbody tr th {\n",
              "        vertical-align: top;\n",
              "    }\n",
              "\n",
              "    .dataframe thead th {\n",
              "        text-align: right;\n",
              "    }\n",
              "</style>\n",
              "<table border=\"1\" class=\"dataframe\">\n",
              "  <thead>\n",
              "    <tr style=\"text-align: right;\">\n",
              "      <th></th>\n",
              "      <th>store_id</th>\n",
              "      <th>date</th>\n",
              "      <th>time</th>\n",
              "      <th>card_id</th>\n",
              "      <th>amount</th>\n",
              "      <th>installments</th>\n",
              "      <th>days_of_week</th>\n",
              "      <th>holyday</th>\n",
              "    </tr>\n",
              "  </thead>\n",
              "  <tbody>\n",
              "    <tr>\n",
              "      <th>0</th>\n",
              "      <td>0</td>\n",
              "      <td>2016-12-14</td>\n",
              "      <td>18:05:31</td>\n",
              "      <td>d297bba73f</td>\n",
              "      <td>5</td>\n",
              "      <td>NaN</td>\n",
              "      <td>2</td>\n",
              "      <td>0</td>\n",
              "    </tr>\n",
              "    <tr>\n",
              "      <th>1</th>\n",
              "      <td>0</td>\n",
              "      <td>2016-12-14</td>\n",
              "      <td>18:05:54</td>\n",
              "      <td>d297bba73f</td>\n",
              "      <td>-5</td>\n",
              "      <td>NaN</td>\n",
              "      <td>2</td>\n",
              "      <td>0</td>\n",
              "    </tr>\n",
              "    <tr>\n",
              "      <th>2</th>\n",
              "      <td>0</td>\n",
              "      <td>2016-12-19</td>\n",
              "      <td>12:42:31</td>\n",
              "      <td>0880849c05</td>\n",
              "      <td>144</td>\n",
              "      <td>NaN</td>\n",
              "      <td>0</td>\n",
              "      <td>0</td>\n",
              "    </tr>\n",
              "    <tr>\n",
              "      <th>3</th>\n",
              "      <td>0</td>\n",
              "      <td>2016-12-19</td>\n",
              "      <td>12:48:08</td>\n",
              "      <td>8b4f9e0e95</td>\n",
              "      <td>66</td>\n",
              "      <td>NaN</td>\n",
              "      <td>0</td>\n",
              "      <td>0</td>\n",
              "    </tr>\n",
              "    <tr>\n",
              "      <th>4</th>\n",
              "      <td>0</td>\n",
              "      <td>2016-12-19</td>\n",
              "      <td>13:31:08</td>\n",
              "      <td>7ad237eed0</td>\n",
              "      <td>24</td>\n",
              "      <td>NaN</td>\n",
              "      <td>0</td>\n",
              "      <td>0</td>\n",
              "    </tr>\n",
              "  </tbody>\n",
              "</table>\n",
              "</div>"
            ],
            "text/plain": [
              "   store_id        date      time  ... installments  days_of_week  holyday\n",
              "0         0  2016-12-14  18:05:31  ...          NaN             2        0\n",
              "1         0  2016-12-14  18:05:54  ...          NaN             2        0\n",
              "2         0  2016-12-19  12:42:31  ...          NaN             0        0\n",
              "3         0  2016-12-19  12:48:08  ...          NaN             0        0\n",
              "4         0  2016-12-19  13:31:08  ...          NaN             0        0\n",
              "\n",
              "[5 rows x 8 columns]"
            ]
          },
          "metadata": {
            "tags": []
          },
          "execution_count": 184
        }
      ]
    },
    {
      "cell_type": "code",
      "metadata": {
        "colab": {
          "base_uri": "https://localhost:8080/"
        },
        "id": "7wDnmOlYFDLN",
        "outputId": "80ed855c-36d3-43bb-bf31-237e1e68438a"
      },
      "source": [
        "test.head()"
      ],
      "execution_count": null,
      "outputs": [
        {
          "output_type": "execute_result",
          "data": {
            "text/html": [
              "<div>\n",
              "<style scoped>\n",
              "    .dataframe tbody tr th:only-of-type {\n",
              "        vertical-align: middle;\n",
              "    }\n",
              "\n",
              "    .dataframe tbody tr th {\n",
              "        vertical-align: top;\n",
              "    }\n",
              "\n",
              "    .dataframe thead th {\n",
              "        text-align: right;\n",
              "    }\n",
              "</style>\n",
              "<table border=\"1\" class=\"dataframe\">\n",
              "  <thead>\n",
              "    <tr style=\"text-align: right;\">\n",
              "      <th></th>\n",
              "      <th>store_id</th>\n",
              "      <th>date</th>\n",
              "      <th>time</th>\n",
              "      <th>card_id</th>\n",
              "      <th>amount</th>\n",
              "      <th>installments</th>\n",
              "      <th>days_of_week</th>\n",
              "      <th>holyday</th>\n",
              "    </tr>\n",
              "  </thead>\n",
              "  <tbody>\n",
              "    <tr>\n",
              "      <th>0</th>\n",
              "      <td>0</td>\n",
              "      <td>2016-08-01</td>\n",
              "      <td>00:28:15</td>\n",
              "      <td>bf33518373</td>\n",
              "      <td>125</td>\n",
              "      <td>NaN</td>\n",
              "      <td>0</td>\n",
              "      <td>0</td>\n",
              "    </tr>\n",
              "    <tr>\n",
              "      <th>1</th>\n",
              "      <td>0</td>\n",
              "      <td>2016-08-01</td>\n",
              "      <td>01:09:58</td>\n",
              "      <td>7a19a3a92f</td>\n",
              "      <td>90</td>\n",
              "      <td>NaN</td>\n",
              "      <td>0</td>\n",
              "      <td>0</td>\n",
              "    </tr>\n",
              "    <tr>\n",
              "      <th>2</th>\n",
              "      <td>0</td>\n",
              "      <td>2016-08-01</td>\n",
              "      <td>01:47:24</td>\n",
              "      <td>6f9fd7e241</td>\n",
              "      <td>150</td>\n",
              "      <td>NaN</td>\n",
              "      <td>0</td>\n",
              "      <td>0</td>\n",
              "    </tr>\n",
              "    <tr>\n",
              "      <th>3</th>\n",
              "      <td>0</td>\n",
              "      <td>2016-08-01</td>\n",
              "      <td>17:54:43</td>\n",
              "      <td>8bcf1d61b2</td>\n",
              "      <td>362</td>\n",
              "      <td>NaN</td>\n",
              "      <td>0</td>\n",
              "      <td>0</td>\n",
              "    </tr>\n",
              "    <tr>\n",
              "      <th>4</th>\n",
              "      <td>0</td>\n",
              "      <td>2016-08-01</td>\n",
              "      <td>18:48:53</td>\n",
              "      <td>6a722ce674</td>\n",
              "      <td>125</td>\n",
              "      <td>NaN</td>\n",
              "      <td>0</td>\n",
              "      <td>0</td>\n",
              "    </tr>\n",
              "  </tbody>\n",
              "</table>\n",
              "</div>"
            ],
            "text/plain": [
              "   store_id        date      time  ... installments  days_of_week  holyday\n",
              "0         0  2016-08-01  00:28:15  ...          NaN             0        0\n",
              "1         0  2016-08-01  01:09:58  ...          NaN             0        0\n",
              "2         0  2016-08-01  01:47:24  ...          NaN             0        0\n",
              "3         0  2016-08-01  17:54:43  ...          NaN             0        0\n",
              "4         0  2016-08-01  18:48:53  ...          NaN             0        0\n",
              "\n",
              "[5 rows x 8 columns]"
            ]
          },
          "metadata": {
            "tags": []
          },
          "execution_count": 185
        }
      ]
    },
    {
      "cell_type": "code",
      "metadata": {
        "colab": {
          "base_uri": "https://localhost:8080/"
        },
        "id": "ifKVTIRoZJl2",
        "outputId": "80dfb63c-9f66-4f96-bb76-b5fb767400b0"
      },
      "source": [
        "submission.head()"
      ],
      "execution_count": null,
      "outputs": [
        {
          "output_type": "execute_result",
          "data": {
            "text/html": [
              "<div>\n",
              "<style scoped>\n",
              "    .dataframe tbody tr th:only-of-type {\n",
              "        vertical-align: middle;\n",
              "    }\n",
              "\n",
              "    .dataframe tbody tr th {\n",
              "        vertical-align: top;\n",
              "    }\n",
              "\n",
              "    .dataframe thead th {\n",
              "        text-align: right;\n",
              "    }\n",
              "</style>\n",
              "<table border=\"1\" class=\"dataframe\">\n",
              "  <thead>\n",
              "    <tr style=\"text-align: right;\">\n",
              "      <th></th>\n",
              "      <th>store_id</th>\n",
              "      <th>total_sales</th>\n",
              "    </tr>\n",
              "  </thead>\n",
              "  <tbody>\n",
              "    <tr>\n",
              "      <th>0</th>\n",
              "      <td>0</td>\n",
              "      <td>0</td>\n",
              "    </tr>\n",
              "    <tr>\n",
              "      <th>1</th>\n",
              "      <td>1</td>\n",
              "      <td>0</td>\n",
              "    </tr>\n",
              "    <tr>\n",
              "      <th>2</th>\n",
              "      <td>2</td>\n",
              "      <td>0</td>\n",
              "    </tr>\n",
              "    <tr>\n",
              "      <th>3</th>\n",
              "      <td>3</td>\n",
              "      <td>0</td>\n",
              "    </tr>\n",
              "    <tr>\n",
              "      <th>4</th>\n",
              "      <td>4</td>\n",
              "      <td>0</td>\n",
              "    </tr>\n",
              "  </tbody>\n",
              "</table>\n",
              "</div>"
            ],
            "text/plain": [
              "   store_id  total_sales\n",
              "0         0            0\n",
              "1         1            0\n",
              "2         2            0\n",
              "3         3            0\n",
              "4         4            0"
            ]
          },
          "metadata": {
            "tags": []
          },
          "execution_count": 186
        }
      ]
    },
    {
      "cell_type": "code",
      "metadata": {
        "colab": {
          "base_uri": "https://localhost:8080/"
        },
        "id": "u0HEChfYYANd",
        "outputId": "a332380c-e6a1-4f3e-fe06-d3f97b886562"
      },
      "source": [
        "len(train.store_id.unique())"
      ],
      "execution_count": null,
      "outputs": [
        {
          "output_type": "execute_result",
          "data": {
            "text/plain": [
              "1775"
            ]
          },
          "metadata": {
            "tags": []
          },
          "execution_count": 187
        }
      ]
    },
    {
      "cell_type": "code",
      "metadata": {
        "colab": {
          "base_uri": "https://localhost:8080/"
        },
        "id": "x8qe5d_3YhoP",
        "outputId": "6f8e406e-df32-4647-c69f-1efee4f7080d"
      },
      "source": [
        "len(test.store_id.unique()) # 약 1975개의 store 주어짐\n"
      ],
      "execution_count": null,
      "outputs": [
        {
          "output_type": "execute_result",
          "data": {
            "text/plain": [
              "200"
            ]
          },
          "metadata": {
            "tags": []
          },
          "execution_count": 188
        }
      ]
    },
    {
      "cell_type": "markdown",
      "metadata": {
        "id": "LXq-JMeGXoQD"
      },
      "source": [
        "# Pre-processing"
      ]
    },
    {
      "cell_type": "markdown",
      "metadata": {
        "id": "m0cnHWVyZA_Z"
      },
      "source": [
        "##Date 형태 변환 & Time drop"
      ]
    },
    {
      "cell_type": "code",
      "metadata": {
        "id": "f5X6g-R-Va4j"
      },
      "source": [
        "df_copy = test.copy()"
      ],
      "execution_count": null,
      "outputs": []
    },
    {
      "cell_type": "code",
      "metadata": {
        "colab": {
          "base_uri": "https://localhost:8080/"
        },
        "id": "ZMc73faEXt-l",
        "outputId": "a1b4626e-a590-4cb8-fa2c-2b9f1f13c998"
      },
      "source": [
        "print(df_copy.date)\n",
        "df_copy.date = pd.to_datetime(df_copy.date)\n",
        "print('-------------------')\n",
        "print(df_copy.date)"
      ],
      "execution_count": null,
      "outputs": [
        {
          "output_type": "stream",
          "text": [
            "0         2016-08-01\n",
            "1         2016-08-01\n",
            "2         2016-08-01\n",
            "3         2016-08-01\n",
            "4         2016-08-01\n",
            "             ...    \n",
            "473387    2018-03-30\n",
            "473388    2018-03-30\n",
            "473389    2018-03-30\n",
            "473390    2018-03-30\n",
            "473391    2018-03-31\n",
            "Name: date, Length: 473392, dtype: object\n",
            "-------------------\n",
            "0        2016-08-01\n",
            "1        2016-08-01\n",
            "2        2016-08-01\n",
            "3        2016-08-01\n",
            "4        2016-08-01\n",
            "            ...    \n",
            "473387   2018-03-30\n",
            "473388   2018-03-30\n",
            "473389   2018-03-30\n",
            "473390   2018-03-30\n",
            "473391   2018-03-31\n",
            "Name: date, Length: 473392, dtype: datetime64[ns]\n"
          ],
          "name": "stdout"
        }
      ]
    },
    {
      "cell_type": "code",
      "metadata": {
        "colab": {
          "base_uri": "https://localhost:8080/"
        },
        "id": "eDJeABz_X_sD",
        "outputId": "437bfa32-93dc-48d8-8396-390bb01847b9"
      },
      "source": [
        "df_copy.date = pd.to_datetime(df_copy.date.astype(str) + \" \" + df_copy.time, format='%Y-%m-%d %H:%M:%S')\n",
        "df_copy = df_copy.drop('time',axis=1)\n",
        "df_copy.head()"
      ],
      "execution_count": null,
      "outputs": [
        {
          "output_type": "execute_result",
          "data": {
            "text/html": [
              "<div>\n",
              "<style scoped>\n",
              "    .dataframe tbody tr th:only-of-type {\n",
              "        vertical-align: middle;\n",
              "    }\n",
              "\n",
              "    .dataframe tbody tr th {\n",
              "        vertical-align: top;\n",
              "    }\n",
              "\n",
              "    .dataframe thead th {\n",
              "        text-align: right;\n",
              "    }\n",
              "</style>\n",
              "<table border=\"1\" class=\"dataframe\">\n",
              "  <thead>\n",
              "    <tr style=\"text-align: right;\">\n",
              "      <th></th>\n",
              "      <th>store_id</th>\n",
              "      <th>date</th>\n",
              "      <th>card_id</th>\n",
              "      <th>amount</th>\n",
              "      <th>installments</th>\n",
              "      <th>days_of_week</th>\n",
              "      <th>holyday</th>\n",
              "    </tr>\n",
              "  </thead>\n",
              "  <tbody>\n",
              "    <tr>\n",
              "      <th>0</th>\n",
              "      <td>0</td>\n",
              "      <td>2016-08-01 00:28:15</td>\n",
              "      <td>bf33518373</td>\n",
              "      <td>125</td>\n",
              "      <td>NaN</td>\n",
              "      <td>0</td>\n",
              "      <td>0</td>\n",
              "    </tr>\n",
              "    <tr>\n",
              "      <th>1</th>\n",
              "      <td>0</td>\n",
              "      <td>2016-08-01 01:09:58</td>\n",
              "      <td>7a19a3a92f</td>\n",
              "      <td>90</td>\n",
              "      <td>NaN</td>\n",
              "      <td>0</td>\n",
              "      <td>0</td>\n",
              "    </tr>\n",
              "    <tr>\n",
              "      <th>2</th>\n",
              "      <td>0</td>\n",
              "      <td>2016-08-01 01:47:24</td>\n",
              "      <td>6f9fd7e241</td>\n",
              "      <td>150</td>\n",
              "      <td>NaN</td>\n",
              "      <td>0</td>\n",
              "      <td>0</td>\n",
              "    </tr>\n",
              "    <tr>\n",
              "      <th>3</th>\n",
              "      <td>0</td>\n",
              "      <td>2016-08-01 17:54:43</td>\n",
              "      <td>8bcf1d61b2</td>\n",
              "      <td>362</td>\n",
              "      <td>NaN</td>\n",
              "      <td>0</td>\n",
              "      <td>0</td>\n",
              "    </tr>\n",
              "    <tr>\n",
              "      <th>4</th>\n",
              "      <td>0</td>\n",
              "      <td>2016-08-01 18:48:53</td>\n",
              "      <td>6a722ce674</td>\n",
              "      <td>125</td>\n",
              "      <td>NaN</td>\n",
              "      <td>0</td>\n",
              "      <td>0</td>\n",
              "    </tr>\n",
              "  </tbody>\n",
              "</table>\n",
              "</div>"
            ],
            "text/plain": [
              "   store_id                date  ... days_of_week  holyday\n",
              "0         0 2016-08-01 00:28:15  ...            0        0\n",
              "1         0 2016-08-01 01:09:58  ...            0        0\n",
              "2         0 2016-08-01 01:47:24  ...            0        0\n",
              "3         0 2016-08-01 17:54:43  ...            0        0\n",
              "4         0 2016-08-01 18:48:53  ...            0        0\n",
              "\n",
              "[5 rows x 7 columns]"
            ]
          },
          "metadata": {
            "tags": []
          },
          "execution_count": 191
        }
      ]
    },
    {
      "cell_type": "markdown",
      "metadata": {
        "id": "3sjaiBcLaIxg"
      },
      "source": [
        "## negative amount"
      ]
    },
    {
      "cell_type": "markdown",
      "metadata": {
        "id": "Uf21BfIlcO4U"
      },
      "source": [
        "어떤 가게들은 취소거래(return)때문에 하루 매출 자체가 음수가 되는 경우가 있다."
      ]
    },
    {
      "cell_type": "code",
      "metadata": {
        "colab": {
          "base_uri": "https://localhost:8080/"
        },
        "id": "4kNm9QEYaQEG",
        "outputId": "0dec258f-d19e-477a-8220-dcd87d3ce944"
      },
      "source": [
        "df_neg_amount = test.copy()\n",
        "df_neg_amount = df_neg_amount.groupby(['store_id','date'])['amount'].sum()\n",
        "df_neg_amount = pd.DataFrame(df_neg_amount)\n",
        "(df_neg_amount['amount']< 0).sum()"
      ],
      "execution_count": null,
      "outputs": [
        {
          "output_type": "execute_result",
          "data": {
            "text/plain": [
              "49"
            ]
          },
          "metadata": {
            "tags": []
          },
          "execution_count": 192
        }
      ]
    },
    {
      "cell_type": "markdown",
      "metadata": {
        "id": "8-py2F-ZgBeq"
      },
      "source": [
        "## Prediction Interval\n",
        "왜 예측 구간을 사용해야 하는 지"
      ]
    },
    {
      "cell_type": "markdown",
      "metadata": {
        "id": "BMKxbA1ReZOu"
      },
      "source": [
        "**Prediction Interval**\n",
        "\n",
        "What is a Prediction Interval?\n",
        "\n",
        "예측 구간은 **회귀분석의 예측에 사용**되는  **일종의 신뢰구간**의 한 종류이다.\n",
        "(A prediction interval is a type of confidence interval (CI) used with predictions in regression analysis;)\n",
        "\n",
        "기존 모델을 기반으로, **새로운 관측치 값을 예측하는 값의 범위**이다.(it is a range of values that predicts the value of a new observation, based on your existing model.\n",
        ")\n",
        "\n",
        "예측 구간과 신뢰구간은 같은 것이 아니다.(Prediction and confidence intervals are often confused with each other. However, they are not quite the same thing.)"
      ]
    },
    {
      "cell_type": "markdown",
      "metadata": {
        "id": "3ktM6kcKfs2U"
      },
      "source": [
        "신뢰구간은 모집단의 파라미터와 관련된 값의 범위 EX)모집단의 평균\n",
        "\n",
        "예측 간격은 미래값이 떨어질 것으로 예상되는 지점\n",
        "\n",
        "* A confidence interval is a range of values associated with a population parameter. For example, the mean of a population.\n",
        "\n",
        "* A prediction interval is where you expect a future value to fall."
      ]
    },
    {
      "cell_type": "markdown",
      "metadata": {
        "id": "knAxkPf2f_HJ"
      },
      "source": [
        "**신뢰구간은** 불확실성의 정도를 나타내는 **신뢰수준과 항상 연관된다**.\n",
        "\n",
        "예를 들어서, 95% 신뢰 수준에서 배터리의 평균 수명은 100~110시간이라고 할 수 있습니다. \n",
        "\n",
        "즉, 배터리가 100시간~110시간 범위로 떨어지는 가능성(확률)이 95%에 달합니다. \n",
        "\n",
        "마찬가지로, 충분한 샘플과 정확한 시간의 백분율이 있다는 가정하에,\n",
        "\n",
        "**예측 구간은 값이 미래에 어디에 속할지 알려준다.**\n",
        "\n",
        "예를 들어서 **95% 예측 간격 100~110시간**이면 **향후 생산되 배터리가 95%의 시간 범위에 속하게 된다**. **배터리가 이 간격에 속하지 않을 가능성은 5%이다.**\n",
        "\n",
        "\n",
        "**The Uncertainties with Intervals**\n",
        "Just like most things in statistics, it doesn’t mean that you can predict with certainty where one single value will fall.\n",
        "\n",
        "Confidence intervals are always associated with a confidence level, representing a degree of uncertainty (data is random, and so results from statistical analysis are never 100% certain).\n",
        "For example, you might say that the mean life of a battery (at a 95% confidence level) is 100 to 110 hours. This tells you that a battery will fall into the range of 100 to 110 hours 95% of the time.\n",
        "\n",
        "Similarly, the prediction interval tells you where a value will fall in the future, given enough samples, a certain percentage of the time. A 95% prediction interval of 100 to 110 hours for the mean life of a battery tells you that future batteries produced will fall into that range 95% of the time. There is a 5% chance that a battery will not fall into this interval."
      ]
    },
    {
      "cell_type": "markdown",
      "metadata": {
        "id": "D4yye109h1X2"
      },
      "source": [
        "신뢰구간 사용 \n",
        "\n",
        "* 경제 지표\n",
        "\n",
        "그러나 정확한 결과를 얻으려면 신뢰수준 대신 예측 구간을 사용해야 한다.\n",
        "\n",
        "이 신뢰구간를 사용하여 예측 간격을 만들면 간격이 훨씬 좁아집니다.\n",
        "예를 들어 예측 간격은 동일한 신뢰 수준에서 $2,500에서 7,500 사이일 수 있습니다.\n",
        "\n",
        "\n",
        "신뢰 구간을 사용하면 간격에 오류가 더 많이 발생할 가능성이 높습니다. 즉, 값이 예상보다 자주 해당 간격을 벗어나게 됩니다.\n",
        "\n",
        "**When to Use It**\n",
        "It’s very common to use the confidence interval in place of the prediction interval, especially in econometrics. However, you should use a prediction interval instead of a confidence level if you want accurate results. Let’s say you calculate a confidence interval for the mean daily expenditure of your business and find it’s between $5,000 and $6,000. That tells you where the mean probably lies. If you use that CI to make a prediction interval, you will have a much narrower interval. For example, the prediction interval might be $2,500 to $7,500 at the same confidence level. If you do use the confidence interval, it’s highly likely that interval will have more error, meaning that values will fall outside that interval more often than you predict.\n",
        "\n",
        "Be careful when interpreting prediction intervals and coefficients if you transform the response variable: the slope will mean something different and any predictions and confidence/prediction intervals will be for the transformed response (Morgan, 2014)."
      ]
    },
    {
      "cell_type": "markdown",
      "metadata": {
        "id": "bJka4Dsbjjqq"
      },
      "source": [
        "# prediction interval과 prediction의 관계"
      ]
    },
    {
      "cell_type": "markdown",
      "metadata": {
        "id": "bOsNZfLyTzW_"
      },
      "source": [
        "**prediction interval과 prediction의 관계**\n",
        "\n",
        "??"
      ]
    },
    {
      "cell_type": "markdown",
      "metadata": {
        "id": "_9VI36ApRrbL"
      },
      "source": [
        "# amount 음수값 제거"
      ]
    },
    {
      "cell_type": "markdown",
      "metadata": {
        "id": "DPi_WXyRThXy"
      },
      "source": [
        "variance가 크면 prediction interval이 커지게 되어 prediction에 악영향을 줄 수 있다\n",
        "\n",
        "따라서,\n",
        "\n",
        "음수들을 제거한다.\n",
        "\n",
        "음수 제거 방법\n",
        "\n",
        "카드 아이디를 이용하여 어떤 카드의 negative transaction의 거래 시간보다 먼저 이루어지면서 가장 최근 transaction 중\n",
        "1. 절댓값이 같은 양수 가격의 transaction을 제거\n",
        "2. 같은 값이 존재하지 않으면 절대값이 더 큰 양수 transaction 가격에서 음수transaction의 가격만큼 빼는 방법으로 음수들을 제거\n",
        "3. 카드 아이디가 1,2에 해당하지 않을 경우,\n",
        "해당 환불의 실제 구매는 데이터의 시작 시간보다 과거이므로 데이터에서 제외\n",
        "\n"
      ]
    },
    {
      "cell_type": "code",
      "metadata": {
        "id": "0bu1cyUYXeol"
      },
      "source": [
        "import datetime as dt"
      ],
      "execution_count": null,
      "outputs": []
    },
    {
      "cell_type": "code",
      "metadata": {
        "colab": {
          "base_uri": "https://localhost:8080/"
        },
        "id": "aA13pkdZge4x",
        "outputId": "8e3657f4-2371-4392-e22d-d8383e77273a"
      },
      "source": [
        "df_copy"
      ],
      "execution_count": null,
      "outputs": [
        {
          "output_type": "execute_result",
          "data": {
            "text/html": [
              "<div>\n",
              "<style scoped>\n",
              "    .dataframe tbody tr th:only-of-type {\n",
              "        vertical-align: middle;\n",
              "    }\n",
              "\n",
              "    .dataframe tbody tr th {\n",
              "        vertical-align: top;\n",
              "    }\n",
              "\n",
              "    .dataframe thead th {\n",
              "        text-align: right;\n",
              "    }\n",
              "</style>\n",
              "<table border=\"1\" class=\"dataframe\">\n",
              "  <thead>\n",
              "    <tr style=\"text-align: right;\">\n",
              "      <th></th>\n",
              "      <th>store_id</th>\n",
              "      <th>date</th>\n",
              "      <th>card_id</th>\n",
              "      <th>amount</th>\n",
              "      <th>installments</th>\n",
              "      <th>days_of_week</th>\n",
              "      <th>holyday</th>\n",
              "    </tr>\n",
              "  </thead>\n",
              "  <tbody>\n",
              "    <tr>\n",
              "      <th>0</th>\n",
              "      <td>0</td>\n",
              "      <td>2016-08-01 00:28:15</td>\n",
              "      <td>bf33518373</td>\n",
              "      <td>125</td>\n",
              "      <td>NaN</td>\n",
              "      <td>0</td>\n",
              "      <td>0</td>\n",
              "    </tr>\n",
              "    <tr>\n",
              "      <th>1</th>\n",
              "      <td>0</td>\n",
              "      <td>2016-08-01 01:09:58</td>\n",
              "      <td>7a19a3a92f</td>\n",
              "      <td>90</td>\n",
              "      <td>NaN</td>\n",
              "      <td>0</td>\n",
              "      <td>0</td>\n",
              "    </tr>\n",
              "    <tr>\n",
              "      <th>2</th>\n",
              "      <td>0</td>\n",
              "      <td>2016-08-01 01:47:24</td>\n",
              "      <td>6f9fd7e241</td>\n",
              "      <td>150</td>\n",
              "      <td>NaN</td>\n",
              "      <td>0</td>\n",
              "      <td>0</td>\n",
              "    </tr>\n",
              "    <tr>\n",
              "      <th>3</th>\n",
              "      <td>0</td>\n",
              "      <td>2016-08-01 17:54:43</td>\n",
              "      <td>8bcf1d61b2</td>\n",
              "      <td>362</td>\n",
              "      <td>NaN</td>\n",
              "      <td>0</td>\n",
              "      <td>0</td>\n",
              "    </tr>\n",
              "    <tr>\n",
              "      <th>4</th>\n",
              "      <td>0</td>\n",
              "      <td>2016-08-01 18:48:53</td>\n",
              "      <td>6a722ce674</td>\n",
              "      <td>125</td>\n",
              "      <td>NaN</td>\n",
              "      <td>0</td>\n",
              "      <td>0</td>\n",
              "    </tr>\n",
              "    <tr>\n",
              "      <th>...</th>\n",
              "      <td>...</td>\n",
              "      <td>...</td>\n",
              "      <td>...</td>\n",
              "      <td>...</td>\n",
              "      <td>...</td>\n",
              "      <td>...</td>\n",
              "      <td>...</td>\n",
              "    </tr>\n",
              "    <tr>\n",
              "      <th>473387</th>\n",
              "      <td>199</td>\n",
              "      <td>2018-03-30 14:17:59</td>\n",
              "      <td>300d7bc922</td>\n",
              "      <td>65</td>\n",
              "      <td>NaN</td>\n",
              "      <td>4</td>\n",
              "      <td>0</td>\n",
              "    </tr>\n",
              "    <tr>\n",
              "      <th>473388</th>\n",
              "      <td>199</td>\n",
              "      <td>2018-03-30 19:01:54</td>\n",
              "      <td>3ab757718b</td>\n",
              "      <td>65</td>\n",
              "      <td>NaN</td>\n",
              "      <td>4</td>\n",
              "      <td>0</td>\n",
              "    </tr>\n",
              "    <tr>\n",
              "      <th>473389</th>\n",
              "      <td>199</td>\n",
              "      <td>2018-03-30 20:08:03</td>\n",
              "      <td>2d8e9e421c</td>\n",
              "      <td>65</td>\n",
              "      <td>NaN</td>\n",
              "      <td>4</td>\n",
              "      <td>0</td>\n",
              "    </tr>\n",
              "    <tr>\n",
              "      <th>473390</th>\n",
              "      <td>199</td>\n",
              "      <td>2018-03-30 20:11:58</td>\n",
              "      <td>22daeb334e</td>\n",
              "      <td>200</td>\n",
              "      <td>NaN</td>\n",
              "      <td>4</td>\n",
              "      <td>0</td>\n",
              "    </tr>\n",
              "    <tr>\n",
              "      <th>473391</th>\n",
              "      <td>199</td>\n",
              "      <td>2018-03-31 11:41:18</td>\n",
              "      <td>2e698f3302</td>\n",
              "      <td>500</td>\n",
              "      <td>NaN</td>\n",
              "      <td>5</td>\n",
              "      <td>0</td>\n",
              "    </tr>\n",
              "  </tbody>\n",
              "</table>\n",
              "<p>473392 rows × 7 columns</p>\n",
              "</div>"
            ],
            "text/plain": [
              "        store_id                date  ... days_of_week  holyday\n",
              "0              0 2016-08-01 00:28:15  ...            0        0\n",
              "1              0 2016-08-01 01:09:58  ...            0        0\n",
              "2              0 2016-08-01 01:47:24  ...            0        0\n",
              "3              0 2016-08-01 17:54:43  ...            0        0\n",
              "4              0 2016-08-01 18:48:53  ...            0        0\n",
              "...          ...                 ...  ...          ...      ...\n",
              "473387       199 2018-03-30 14:17:59  ...            4        0\n",
              "473388       199 2018-03-30 19:01:54  ...            4        0\n",
              "473389       199 2018-03-30 20:08:03  ...            4        0\n",
              "473390       199 2018-03-30 20:11:58  ...            4        0\n",
              "473391       199 2018-03-31 11:41:18  ...            5        0\n",
              "\n",
              "[473392 rows x 7 columns]"
            ]
          },
          "metadata": {
            "tags": []
          },
          "execution_count": 194
        }
      ]
    },
    {
      "cell_type": "code",
      "metadata": {
        "colab": {
          "base_uri": "https://localhost:8080/"
        },
        "id": "aLd_SV6yhB9I",
        "outputId": "f928075c-4730-41a2-94fe-58d49ff51b2c"
      },
      "source": [
        "df_copy.to_records()"
      ],
      "execution_count": null,
      "outputs": [
        {
          "output_type": "execute_result",
          "data": {
            "text/plain": [
              "rec.array([(     0,   0, '2016-08-01T00:28:15.000000000', 'bf33518373', 125, nan, 0, 0),\n",
              "           (     1,   0, '2016-08-01T01:09:58.000000000', '7a19a3a92f',  90, nan, 0, 0),\n",
              "           (     2,   0, '2016-08-01T01:47:24.000000000', '6f9fd7e241', 150, nan, 0, 0),\n",
              "           ...,\n",
              "           (473389, 199, '2018-03-30T20:08:03.000000000', '2d8e9e421c',  65, nan, 4, 0),\n",
              "           (473390, 199, '2018-03-30T20:11:58.000000000', '22daeb334e', 200, nan, 4, 0),\n",
              "           (473391, 199, '2018-03-31T11:41:18.000000000', '2e698f3302', 500, nan, 5, 0)],\n",
              "          dtype=[('index', '<i8'), ('store_id', '<i8'), ('date', '<M8[ns]'), ('card_id', 'O'), ('amount', '<i8'), ('installments', '<f8'), ('days_of_week', '<i8'), ('holyday', '<i8')])"
            ]
          },
          "metadata": {
            "tags": []
          },
          "execution_count": 195
        }
      ]
    },
    {
      "cell_type": "code",
      "metadata": {
        "colab": {
          "base_uri": "https://localhost:8080/"
        },
        "id": "PH_oYug7bukU",
        "outputId": "d33f3b32-cf13-4457-d945-1ad224e7ae5a"
      },
      "source": [
        "def reduce_noise_by_removing_neg_vals(df_copy):\n",
        "  df_pos = df_copy[df_copy.amount > 0] # 구매\n",
        "  df_neg = df_copy[df_copy.amount < 0] # 환불\n",
        "\n",
        "  start = dt.datetime.now()\n",
        "\n",
        "  array_neg = df_neg.to_records()# array가 된다.\n",
        "  for neg_instance in array_neg:\n",
        "\n",
        "    store_i = neg_instance[1]\n",
        "    date_i = neg_instance[2]\n",
        "    card_i = neg_instance[4]\n",
        "    amt_i = neg_instance[5]\n",
        "\n",
        "    row_i = df_pos[df_pos.store_id == store_i]# 가게찾기\n",
        "    row_i = row_i[row_i.card_id == card_i]#카드 찾기\n",
        "    row_i = row_i[row_i.amount >= abs(amt_i)]#금액 찾기\n",
        "    row_i = row_i[row_i.date < date_i]# 날짜 찾기\n",
        "    \n",
        "    if len(row_i[row_i.amount == abs(amt_i)]) > 0:\n",
        "      row_i = row_i[row_i.amount == abs(amt_i)]\n",
        "      matched_row = row_i[row_i.date == max(row_i.date)]# 가장 최근\n",
        "      df_pos = df_pos.loc[~df_pos.index.isin(matched_row.index), :]\n",
        "\n",
        "    elif len(row_i[row_i.amount > abs(amt_i)]) >0:\n",
        "      matched_row = row_i[row_i.date == max(row_i.date)]\n",
        "      df_pos.loc[matched_row.index,\"amount\"] = matched_row.amount + amt_i # amt_i가 음수\n",
        "      # df_pos.loc[matched_row.index,\"amount\"] +=amt_i # 이것도 가능할듯\n",
        "      # else:\n",
        "        ### pass ###\n",
        "        # 이 경우, 이 환불건의 구매는 데이터 시작 전에 이루어졌다고 판단하여 그냥 없는 것으로 판단\n",
        "\n",
        "  end = dt.datetime.now()\n",
        "  time_took = (end-start).seconds/60\n",
        "  print(\"time_took : \",round(time_took,2))\n",
        "\n",
        "  return df_pos\n",
        "df_pos = reduce_noise_by_removing_neg_vals(df_copy)"
      ],
      "execution_count": null,
      "outputs": [
        {
          "output_type": "stream",
          "text": [
            "time_took :  12.55\n"
          ],
          "name": "stdout"
        }
      ]
    },
    {
      "cell_type": "markdown",
      "metadata": {
        "id": "PzZr2PiR6bch"
      },
      "source": [
        "# Augmented Dickey Fuller test"
      ]
    },
    {
      "cell_type": "markdown",
      "metadata": {
        "id": "MjqvRLq549Ft"
      },
      "source": [
        "staionary : 정상성\n",
        "\n",
        "vs\n",
        "\n",
        "Non-stationary : 비정상성\n",
        "\n",
        "**정상성 시계열 데이터 확인 방법**\n",
        "\n",
        "stationary 한 시계열 데이터인지 아닌지 확인하는 방법들\n",
        "\n",
        "1. 눈으로 보기\n",
        "\n",
        "plotting 해서 시간에 따라 변하는지 본다.\n",
        "\n",
        "2. 간단한 평균 내보기\n",
        " 대략 반으로 쪼개서 앞의 평균과 뒤의 평균이 얼마나 다른지 본다.\n",
        "\n",
        " 3. statistical test : 통계적 검정 시행\n",
        "\n",
        " ADF 검정\n",
        "\n",
        " 검정통계량(ADF statistics)이 Critical Value 보다 작으면 stationary 한 시계열 데이터\n",
        " \n",
        " 혹은,\n",
        "\n",
        "p-value가 설정한 신뢰수준 값(eg.0.05) 보다 작은지 큰지 확인하면 된다.\n",
        "\n",
        "작으면 stationary 한 시계열 데이터\n",
        "\n",
        "---\n",
        "\n",
        "참조\n",
        "https://dodonam.tistory.com/235\n"
      ]
    },
    {
      "cell_type": "markdown",
      "metadata": {
        "id": "u4KOsAnwocBJ"
      },
      "source": [
        "https://byeongkijeong.github.io/ARIMA-with-Python/\n",
        "\n",
        "https://ichi.pro/ko/gigye-hagseub-eul-wihan-sigyeyeol-bunseog-108215694852613\n",
        "\n",
        "시계열 acf,pacf\n",
        "\n",
        "https://direction-f.tistory.com/65\n",
        "\n",
        " qq plot\n",
        "\n",
        " https://blog.naver.com/PostView.nhn?blogId=sw4r&logNo=221026102874&parentCategoryNo=&categoryNo=117&viewDate=&isShowPopularPosts=true&from=search"
      ]
    },
    {
      "cell_type": "markdown",
      "metadata": {
        "id": "BjnkE_Bw6ip7"
      },
      "source": [
        "ADF 검정, Augmented Dicky-Fuller Test\n",
        "\n"
      ]
    },
    {
      "cell_type": "code",
      "metadata": {
        "id": "PzIyTQWri6iL"
      },
      "source": [
        "import matplotlib.pyplot as plt"
      ],
      "execution_count": null,
      "outputs": []
    },
    {
      "cell_type": "code",
      "metadata": {
        "id": "j8R4cwndMhN9"
      },
      "source": [
        "from statsmodels.tsa.stattools import adfuller, kpss\n",
        "from statsmodels.graphics.tsaplots import plot_acf, plot_pacf\n",
        "import statsmodels.api as sm"
      ],
      "execution_count": null,
      "outputs": []
    },
    {
      "cell_type": "markdown",
      "metadata": {
        "id": "L7dzQZ8QhZXm"
      },
      "source": [
        "검정값이 critical value보다 작고\n",
        "\n",
        "p-value가 0.05보다 작으므로\n",
        "\n",
        "통계적으로 볼때, stationary한 시계열 데이터라고 판단할 수 있다!"
      ]
    },
    {
      "cell_type": "code",
      "metadata": {
        "id": "1Mq6cZckStz1"
      },
      "source": [
        "def adf_test(y):\n",
        "    # perform Augmented Dickey Fuller test\n",
        "    print('Results of Augmented Dickey-Fuller test:')\n",
        "    dftest = adfuller(y, autolag='AIC')\n",
        "    dfoutput = pd.Series(dftest[0:4], index=['test statistic', 'p-value', '# of lags', '# of observations'])\n",
        "    # print(dfoutput)\n",
        "    # print('---------------------------')\n",
        "    for key, value in dftest[4].items():\n",
        "        dfoutput['Critical Value ({})'.format(key)] = value\n",
        "\n",
        "    print(dfoutput)\n",
        "\n",
        "# adf_test(df_pos.amount)"
      ],
      "execution_count": null,
      "outputs": []
    },
    {
      "cell_type": "code",
      "metadata": {
        "id": "6TxUtoVTmXQg"
      },
      "source": [
        "# layout = (3, 2)\n",
        "# layout\n",
        "# acf_ax = plt.subplot2grid(layout, (1, 0))\n",
        "# acf_ax"
      ],
      "execution_count": null,
      "outputs": []
    },
    {
      "cell_type": "markdown",
      "metadata": {
        "id": "K28X0mW_-www"
      },
      "source": [
        "판매금액과 로그를 씌운 판매금액이 완전히는 아니지만 어느정도는 정규분포에 비슷함을 QQ plot으로 확인. outlier들의 영향을 줄이기 위해 로그를 씌운 판매금액을 종속변수로 사용하기로 결정.\n"
      ]
    },
    {
      "cell_type": "code",
      "metadata": {
        "id": "-Zmo_4VD3onv",
        "colab": {
          "base_uri": "https://localhost:8080/",
          "height": 1000
        },
        "outputId": "1e4b2921-32f3-49f8-88fb-b8991b112522"
      },
      "source": [
        "def ts_diagnostics(y, lags=None, title='', filename=''):\n",
        "    '''\n",
        "    Calculate acf, pacf, qq plot and Augmented Dickey Fuller test for a given time series\n",
        "    '''\n",
        "    if not isinstance(y, pd.Series):\n",
        "        y = pd.Series(y)\n",
        "\n",
        "    # weekly moving averages (5 day window because of workdays)\n",
        "    rolling_mean = pd.Series.rolling(y, window=2).mean() # 2일치 평균\n",
        "    rolling_std = pd.Series.rolling(y, window=2).std() # 2일치 분산\n",
        "\n",
        "    # 바탕 그리기(축)\n",
        "    fig = plt.figure(figsize=(14, 12))\n",
        "    layout = (3, 2)\n",
        "    ts_ax = plt.subplot2grid(layout, (0, 0), colspan=2)\n",
        "    acf_ax = plt.subplot2grid(layout, (1, 0))\n",
        "    pacf_ax = plt.subplot2grid(layout, (1, 1))\n",
        "    qq_ax = plt.subplot2grid(layout, (2, 0))\n",
        "    hist_ax = plt.subplot2grid(layout, (2, 1))\n",
        "\n",
        "    # time series plot\n",
        "    y.plot(ax=ts_ax)\n",
        "    rolling_mean.plot(ax=ts_ax, color='crimson')\n",
        "    rolling_std.plot(ax=ts_ax, color='darkslateblue')\n",
        "    plt.legend(loc='best')\n",
        "    ts_ax.set_title('time series plot', fontsize=24)\n",
        "\n",
        "    # # acf and pacf\n",
        "    plot_acf(y, lags=lags, ax=acf_ax, alpha=0.5) # plot_acf가 autocorrelation의 그림을 그려준다.\n",
        "    # x축은 lag이고 y축은 correlation이다.\n",
        "    # 0일 때는 당연히 1이다. 왜냐하면 자기 자신과의 관계기 때문에 당연히 1이 나온다.\n",
        "    # x축 부분을 보면 파란색 범위가 보인다. 저 범위를 벗어나 있으면 Autocorrelation이 있다고 판단하고(use_vlines=True) \n",
        "    # 내부에 있다면 Autocorrelation이 없다고 판단한다)\n",
        "\n",
        "    plot_pacf(y, lags=lags, ax=pacf_ax, alpha=0.5)\n",
        "\n",
        "    # # qq plot\n",
        "    sm.qqplot(y, line='s', ax=qq_ax)\n",
        "    qq_ax.set_title('QQ Plot')\n",
        "\n",
        "    # hist plot\n",
        "    y.plot(ax=hist_ax, kind='hist', bins=25)\n",
        "    hist_ax.set_title('Histogram')\n",
        "    plt.tight_layout()\n",
        "    plt.show()\n",
        "\n",
        "    # perform Augmented Dickey Fuller test\n",
        "    adf_test(y)\n",
        "    # print(\"-------------------------------\")\n",
        "    # print('Results of Dickey-Fuller test:')\n",
        "    # dftest = adfuller(y, autolag='AIC')\n",
        "    # dfoutput = pd.Series(dftest[0:4], index=['test statistic', 'p-value', '# of lags', '# of observations'])\n",
        "    # for key, value in dftest[4].items():\n",
        "    #     dfoutput['Critical Value (%s)' % key] = value\n",
        "    # print(dfoutput)\n",
        "    return\n",
        "ts_diagnostics(df_pos.amount)"
      ],
      "execution_count": null,
      "outputs": [
        {
          "output_type": "stream",
          "text": [
            "No handles with labels found to put in legend.\n"
          ],
          "name": "stderr"
        },
        {
          "output_type": "display_data",
          "data": {
            "image/png": "[encoded data removed]",
            "text/plain": [
              "<Figure size 1008x864 with 5 Axes>"
            ]
          },
          "metadata": {
            "tags": [],
            "needs_background": "light"
          }
        },
        {
          "output_type": "error",
          "ename": "NameError",
          "evalue": "ignored",
          "traceback": [
            "\u001b[0;31m---------------------------------------------------------------------------\u001b[0m",
            "\u001b[0;31mNameError\u001b[0m                                 Traceback (most recent call last)",
            "\u001b[0;32m<ipython-input-257-f9e9768421e8>\u001b[0m in \u001b[0;36m<module>\u001b[0;34m()\u001b[0m\n\u001b[1;32m     55\u001b[0m     \u001b[0;31m# print(dfoutput)\u001b[0m\u001b[0;34m\u001b[0m\u001b[0;34m\u001b[0m\u001b[0;34m\u001b[0m\u001b[0m\n\u001b[1;32m     56\u001b[0m     \u001b[0;32mreturn\u001b[0m\u001b[0;34m\u001b[0m\u001b[0;34m\u001b[0m\u001b[0m\n\u001b[0;32m---> 57\u001b[0;31m \u001b[0mts_diagnostics\u001b[0m\u001b[0;34m(\u001b[0m\u001b[0mdf_pos\u001b[0m\u001b[0;34m.\u001b[0m\u001b[0mamount\u001b[0m\u001b[0;34m)\u001b[0m\u001b[0;34m\u001b[0m\u001b[0;34m\u001b[0m\u001b[0m\n\u001b[0m",
            "\u001b[0;32m<ipython-input-257-f9e9768421e8>\u001b[0m in \u001b[0;36mts_diagnostics\u001b[0;34m(y, lags, title, filename)\u001b[0m\n\u001b[1;32m     46\u001b[0m \u001b[0;34m\u001b[0m\u001b[0m\n\u001b[1;32m     47\u001b[0m     \u001b[0;31m# perform Augmented Dickey Fuller test\u001b[0m\u001b[0;34m\u001b[0m\u001b[0;34m\u001b[0m\u001b[0;34m\u001b[0m\u001b[0m\n\u001b[0;32m---> 48\u001b[0;31m     \u001b[0madf_test\u001b[0m\u001b[0;34m(\u001b[0m\u001b[0my\u001b[0m\u001b[0;34m)\u001b[0m\u001b[0;34m\u001b[0m\u001b[0;34m\u001b[0m\u001b[0m\n\u001b[0m\u001b[1;32m     49\u001b[0m     \u001b[0;31m# print(\"-------------------------------\")\u001b[0m\u001b[0;34m\u001b[0m\u001b[0;34m\u001b[0m\u001b[0;34m\u001b[0m\u001b[0m\n\u001b[1;32m     50\u001b[0m     \u001b[0;31m# print('Results of Dickey-Fuller test:')\u001b[0m\u001b[0;34m\u001b[0m\u001b[0;34m\u001b[0m\u001b[0;34m\u001b[0m\u001b[0m\n",
            "\u001b[0;31mNameError\u001b[0m: name 'adf_test' is not defined"
          ]
        }
      ]
    },
    {
      "cell_type": "markdown",
      "metadata": {
        "id": "2iy0X_u5iIE6"
      },
      "source": [
        "# store_list"
      ]
    },
    {
      "cell_type": "code",
      "metadata": {
        "id": "qxEvhznajbsk"
      },
      "source": [
        "from statsmodels.tsa.arima_model import ARIMA"
      ],
      "execution_count": null,
      "outputs": []
    },
    {
      "cell_type": "code",
      "metadata": {
        "id": "LR58uah2uGrW"
      },
      "source": [
        "import math\n",
        "import scipy.stats as st\n",
        "import itertools"
      ],
      "execution_count": null,
      "outputs": []
    },
    {
      "cell_type": "code",
      "metadata": {
        "id": "cfFYvjW0OeTB",
        "colab": {
          "base_uri": "https://localhost:8080/",
          "height": 204
        },
        "outputId": "8cdd6c24-7098-47dd-851d-324ceeff5a18"
      },
      "source": [
        "df_pos.head()"
      ],
      "execution_count": null,
      "outputs": [
        {
          "output_type": "execute_result",
          "data": {
            "text/html": [
              "<div>\n",
              "<style scoped>\n",
              "    .dataframe tbody tr th:only-of-type {\n",
              "        vertical-align: middle;\n",
              "    }\n",
              "\n",
              "    .dataframe tbody tr th {\n",
              "        vertical-align: top;\n",
              "    }\n",
              "\n",
              "    .dataframe thead th {\n",
              "        text-align: right;\n",
              "    }\n",
              "</style>\n",
              "<table border=\"1\" class=\"dataframe\">\n",
              "  <thead>\n",
              "    <tr style=\"text-align: right;\">\n",
              "      <th></th>\n",
              "      <th>store_id</th>\n",
              "      <th>date</th>\n",
              "      <th>card_id</th>\n",
              "      <th>amount</th>\n",
              "      <th>installments</th>\n",
              "      <th>days_of_week</th>\n",
              "      <th>holyday</th>\n",
              "    </tr>\n",
              "  </thead>\n",
              "  <tbody>\n",
              "    <tr>\n",
              "      <th>0</th>\n",
              "      <td>0</td>\n",
              "      <td>2016-08-01 00:28:15</td>\n",
              "      <td>bf33518373</td>\n",
              "      <td>125</td>\n",
              "      <td>NaN</td>\n",
              "      <td>0</td>\n",
              "      <td>0</td>\n",
              "    </tr>\n",
              "    <tr>\n",
              "      <th>1</th>\n",
              "      <td>0</td>\n",
              "      <td>2016-08-01 01:09:58</td>\n",
              "      <td>7a19a3a92f</td>\n",
              "      <td>90</td>\n",
              "      <td>NaN</td>\n",
              "      <td>0</td>\n",
              "      <td>0</td>\n",
              "    </tr>\n",
              "    <tr>\n",
              "      <th>2</th>\n",
              "      <td>0</td>\n",
              "      <td>2016-08-01 01:47:24</td>\n",
              "      <td>6f9fd7e241</td>\n",
              "      <td>150</td>\n",
              "      <td>NaN</td>\n",
              "      <td>0</td>\n",
              "      <td>0</td>\n",
              "    </tr>\n",
              "    <tr>\n",
              "      <th>3</th>\n",
              "      <td>0</td>\n",
              "      <td>2016-08-01 17:54:43</td>\n",
              "      <td>8bcf1d61b2</td>\n",
              "      <td>362</td>\n",
              "      <td>NaN</td>\n",
              "      <td>0</td>\n",
              "      <td>0</td>\n",
              "    </tr>\n",
              "    <tr>\n",
              "      <th>4</th>\n",
              "      <td>0</td>\n",
              "      <td>2016-08-01 18:48:53</td>\n",
              "      <td>6a722ce674</td>\n",
              "      <td>125</td>\n",
              "      <td>NaN</td>\n",
              "      <td>0</td>\n",
              "      <td>0</td>\n",
              "    </tr>\n",
              "  </tbody>\n",
              "</table>\n",
              "</div>"
            ],
            "text/plain": [
              "   store_id                date  ... days_of_week  holyday\n",
              "0         0 2016-08-01 00:28:15  ...            0        0\n",
              "1         0 2016-08-01 01:09:58  ...            0        0\n",
              "2         0 2016-08-01 01:47:24  ...            0        0\n",
              "3         0 2016-08-01 17:54:43  ...            0        0\n",
              "4         0 2016-08-01 18:48:53  ...            0        0\n",
              "\n",
              "[5 rows x 7 columns]"
            ]
          },
          "metadata": {
            "tags": []
          },
          "execution_count": 204
        }
      ]
    },
    {
      "cell_type": "code",
      "metadata": {
        "id": "GKxk2-lrOl56",
        "colab": {
          "base_uri": "https://localhost:8080/"
        },
        "outputId": "bb946cba-cc54-4aaa-8230-a3668916e140"
      },
      "source": [
        "df = df_pos.copy()\n",
        "\n",
        "test_groupby_date_store = df.groupby(['date','store_id'])['amount','holyday'].sum()\n",
        "test_groupby_date_store = test_groupby_date_store.reset_index()"
      ],
      "execution_count": null,
      "outputs": [
        {
          "output_type": "stream",
          "text": [
            "/usr/local/lib/python3.7/dist-packages/ipykernel_launcher.py:3: FutureWarning: Indexing with multiple keys (implicitly converted to a tuple of keys) will be deprecated, use a list instead.\n",
            "  This is separate from the ipykernel package so we can avoid doing imports until\n"
          ],
          "name": "stderr"
        }
      ]
    },
    {
      "cell_type": "code",
      "metadata": {
        "id": "FVzC16aSP1A0",
        "colab": {
          "base_uri": "https://localhost:8080/",
          "height": 204
        },
        "outputId": "921c2e94-b816-46be-9715-87489ded314f"
      },
      "source": [
        "test_groupby_date_store.head()"
      ],
      "execution_count": null,
      "outputs": [
        {
          "output_type": "execute_result",
          "data": {
            "text/html": [
              "<div>\n",
              "<style scoped>\n",
              "    .dataframe tbody tr th:only-of-type {\n",
              "        vertical-align: middle;\n",
              "    }\n",
              "\n",
              "    .dataframe tbody tr th {\n",
              "        vertical-align: top;\n",
              "    }\n",
              "\n",
              "    .dataframe thead th {\n",
              "        text-align: right;\n",
              "    }\n",
              "</style>\n",
              "<table border=\"1\" class=\"dataframe\">\n",
              "  <thead>\n",
              "    <tr style=\"text-align: right;\">\n",
              "      <th></th>\n",
              "      <th>date</th>\n",
              "      <th>store_id</th>\n",
              "      <th>amount</th>\n",
              "      <th>holyday</th>\n",
              "    </tr>\n",
              "  </thead>\n",
              "  <tbody>\n",
              "    <tr>\n",
              "      <th>0</th>\n",
              "      <td>2016-08-01 00:02:42</td>\n",
              "      <td>96</td>\n",
              "      <td>90</td>\n",
              "      <td>0</td>\n",
              "    </tr>\n",
              "    <tr>\n",
              "      <th>1</th>\n",
              "      <td>2016-08-01 00:12:43</td>\n",
              "      <td>125</td>\n",
              "      <td>260</td>\n",
              "      <td>0</td>\n",
              "    </tr>\n",
              "    <tr>\n",
              "      <th>2</th>\n",
              "      <td>2016-08-01 00:20:28</td>\n",
              "      <td>88</td>\n",
              "      <td>50</td>\n",
              "      <td>0</td>\n",
              "    </tr>\n",
              "    <tr>\n",
              "      <th>3</th>\n",
              "      <td>2016-08-01 00:22:01</td>\n",
              "      <td>88</td>\n",
              "      <td>30</td>\n",
              "      <td>0</td>\n",
              "    </tr>\n",
              "    <tr>\n",
              "      <th>4</th>\n",
              "      <td>2016-08-01 00:24:27</td>\n",
              "      <td>60</td>\n",
              "      <td>122</td>\n",
              "      <td>0</td>\n",
              "    </tr>\n",
              "  </tbody>\n",
              "</table>\n",
              "</div>"
            ],
            "text/plain": [
              "                 date  store_id  amount  holyday\n",
              "0 2016-08-01 00:02:42        96      90        0\n",
              "1 2016-08-01 00:12:43       125     260        0\n",
              "2 2016-08-01 00:20:28        88      50        0\n",
              "3 2016-08-01 00:22:01        88      30        0\n",
              "4 2016-08-01 00:24:27        60     122        0"
            ]
          },
          "metadata": {
            "tags": []
          },
          "execution_count": 206
        }
      ]
    },
    {
      "cell_type": "code",
      "metadata": {
        "id": "fcdOhfDlPIlA"
      },
      "source": [
        "test_groupby_date_store = test_groupby_date_store.set_index('date')"
      ],
      "execution_count": null,
      "outputs": []
    },
    {
      "cell_type": "code",
      "metadata": {
        "id": "yoeB5hXNPNal",
        "colab": {
          "base_uri": "https://localhost:8080/",
          "height": 235
        },
        "outputId": "6248d3ce-8e4d-4255-fc74-eca4642c43c3"
      },
      "source": [
        "test_groupby_date_store.head()"
      ],
      "execution_count": null,
      "outputs": [
        {
          "output_type": "execute_result",
          "data": {
            "text/html": [
              "<div>\n",
              "<style scoped>\n",
              "    .dataframe tbody tr th:only-of-type {\n",
              "        vertical-align: middle;\n",
              "    }\n",
              "\n",
              "    .dataframe tbody tr th {\n",
              "        vertical-align: top;\n",
              "    }\n",
              "\n",
              "    .dataframe thead th {\n",
              "        text-align: right;\n",
              "    }\n",
              "</style>\n",
              "<table border=\"1\" class=\"dataframe\">\n",
              "  <thead>\n",
              "    <tr style=\"text-align: right;\">\n",
              "      <th></th>\n",
              "      <th>store_id</th>\n",
              "      <th>amount</th>\n",
              "      <th>holyday</th>\n",
              "    </tr>\n",
              "    <tr>\n",
              "      <th>date</th>\n",
              "      <th></th>\n",
              "      <th></th>\n",
              "      <th></th>\n",
              "    </tr>\n",
              "  </thead>\n",
              "  <tbody>\n",
              "    <tr>\n",
              "      <th>2016-08-01 00:02:42</th>\n",
              "      <td>96</td>\n",
              "      <td>90</td>\n",
              "      <td>0</td>\n",
              "    </tr>\n",
              "    <tr>\n",
              "      <th>2016-08-01 00:12:43</th>\n",
              "      <td>125</td>\n",
              "      <td>260</td>\n",
              "      <td>0</td>\n",
              "    </tr>\n",
              "    <tr>\n",
              "      <th>2016-08-01 00:20:28</th>\n",
              "      <td>88</td>\n",
              "      <td>50</td>\n",
              "      <td>0</td>\n",
              "    </tr>\n",
              "    <tr>\n",
              "      <th>2016-08-01 00:22:01</th>\n",
              "      <td>88</td>\n",
              "      <td>30</td>\n",
              "      <td>0</td>\n",
              "    </tr>\n",
              "    <tr>\n",
              "      <th>2016-08-01 00:24:27</th>\n",
              "      <td>60</td>\n",
              "      <td>122</td>\n",
              "      <td>0</td>\n",
              "    </tr>\n",
              "  </tbody>\n",
              "</table>\n",
              "</div>"
            ],
            "text/plain": [
              "                     store_id  amount  holyday\n",
              "date                                          \n",
              "2016-08-01 00:02:42        96      90        0\n",
              "2016-08-01 00:12:43       125     260        0\n",
              "2016-08-01 00:20:28        88      50        0\n",
              "2016-08-01 00:22:01        88      30        0\n",
              "2016-08-01 00:24:27        60     122        0"
            ]
          },
          "metadata": {
            "tags": []
          },
          "execution_count": 208
        }
      ]
    },
    {
      "cell_type": "markdown",
      "metadata": {
        "id": "_2vqblYeVxpm"
      },
      "source": [
        "store_list"
      ]
    },
    {
      "cell_type": "code",
      "metadata": {
        "id": "H_SW4wFlPydm",
        "colab": {
          "base_uri": "https://localhost:8080/"
        },
        "outputId": "fa563101-0422-42c5-f6f7-2d6362ed16db"
      },
      "source": [
        "store_list = test_groupby_date_store.store_id.unique()\n",
        "store_list.sort()\n",
        "store_list"
      ],
      "execution_count": null,
      "outputs": [
        {
          "output_type": "execute_result",
          "data": {
            "text/plain": [
              "array([  0,   1,   2,   3,   4,   5,   6,   7,   8,   9,  10,  11,  12,\n",
              "        13,  14,  15,  16,  17,  18,  19,  20,  21,  22,  23,  24,  25,\n",
              "        26,  27,  28,  29,  30,  31,  32,  33,  34,  35,  36,  37,  38,\n",
              "        39,  40,  41,  42,  43,  44,  45,  46,  47,  48,  49,  50,  51,\n",
              "        52,  53,  54,  55,  56,  57,  58,  59,  60,  61,  62,  63,  64,\n",
              "        65,  66,  67,  68,  69,  70,  71,  72,  73,  74,  75,  76,  77,\n",
              "        78,  79,  80,  81,  82,  83,  84,  85,  86,  87,  88,  89,  90,\n",
              "        91,  92,  93,  94,  95,  96,  97,  98,  99, 100, 101, 102, 103,\n",
              "       104, 105, 106, 107, 108, 109, 110, 111, 112, 113, 114, 115, 116,\n",
              "       117, 118, 119, 120, 121, 122, 123, 124, 125, 126, 127, 128, 129,\n",
              "       130, 131, 132, 133, 134, 135, 136, 137, 138, 139, 140, 141, 142,\n",
              "       143, 144, 145, 146, 147, 148, 149, 150, 151, 152, 153, 154, 155,\n",
              "       156, 157, 158, 159, 160, 161, 162, 163, 164, 165, 166, 167, 168,\n",
              "       169, 170, 171, 172, 173, 174, 175, 176, 177, 178, 179, 180, 181,\n",
              "       182, 183, 184, 185, 186, 187, 188, 189, 190, 191, 192, 193, 194,\n",
              "       195, 196, 197, 198, 199])"
            ]
          },
          "metadata": {
            "tags": []
          },
          "execution_count": 209
        }
      ]
    },
    {
      "cell_type": "markdown",
      "metadata": {
        "id": "w5x1TtdcoJJi"
      },
      "source": [
        "# 데이터 기간\n",
        "\n",
        "스토어마다 데이터 기간이 다르다.\n",
        "\n",
        "따라서 스토어마다 다른 리샘플링 기간을 줄 필요가 있다.\n",
        "\n",
        "요일에 따른 seasonality가 있음으로 최소한 1주일 단위로 묶어서 seasonality를 없앨 필요가 있다.\n",
        "\n",
        "매년 있는 seasonality 있으므로 365.25로 잘 나눠 떨어지는 숫자로 정할 필요가 있다.\n",
        "\n",
        "365.25/7=52.18\n",
        "\n",
        "365.25/14=26.09\n",
        "\n",
        "365.25/21=17.39\n",
        "\n",
        "365.25/28=13.04\n",
        "\n",
        "잘 나눠떨어지는 7,14,28일 단위로 downsamplig 하여 최소 샘플의 숫자를 넘지 못하는 경우, 점점 더 적은 기간으로 downsampling한다.\n",
        "\n",
        "리샘플링을 할 때 나누어 떨어지지 않으면 마지막 bin 안에 들어있는 샘플의 개수가 다른 bin의 개수보다 적다.\n",
        "\n",
        "하지만! 각 bin에 해당하는 기간의 길이가 같아야하고,\n",
        "\n",
        "최근의 데이터가 과거의 데이터보다 중요하기 때문에 (28,14로) 나누어 떨어지지 않을 경우, 앞의 남는 샘플들을 제거\n",
        "\n",
        "\n"
      ]
    },
    {
      "cell_type": "code",
      "metadata": {
        "id": "EsG5ExJ0oUSa"
      },
      "source": [
        "data_len = pd.DataFrame()\n",
        "for i, store_i in enumerate(store_list[:20]):\n",
        "  # test_df는 store_df와 같다.\n",
        "  store_df = test_groupby_date_store[test_groupby_date_store.store_id == store_i]\n",
        "  store_of_daily = store_df.loc[:,('amount','holyday')].resample('D').sum() # date를 하루 단위로 만듬\n",
        "  # print(store_df.store_id.unique())\n",
        "  data_len.loc[i,'store_id'] = store_df.store_id.unique()\n",
        "  data_len.loc[i,'start_day'] = min(store_of_daily.index)\n",
        "  data_len.loc[i,'end_day'] = max(store_of_daily.index)\n",
        "  # print(data_len)"
      ],
      "execution_count": null,
      "outputs": []
    },
    {
      "cell_type": "code",
      "metadata": {
        "colab": {
          "base_uri": "https://localhost:8080/",
          "height": 669
        },
        "id": "nJv8PriioY_M",
        "outputId": "bdeebff9-d13f-4667-c9c9-5d64e66ca636"
      },
      "source": [
        "data_len"
      ],
      "execution_count": null,
      "outputs": [
        {
          "output_type": "execute_result",
          "data": {
            "text/html": [
              "<div>\n",
              "<style scoped>\n",
              "    .dataframe tbody tr th:only-of-type {\n",
              "        vertical-align: middle;\n",
              "    }\n",
              "\n",
              "    .dataframe tbody tr th {\n",
              "        vertical-align: top;\n",
              "    }\n",
              "\n",
              "    .dataframe thead th {\n",
              "        text-align: right;\n",
              "    }\n",
              "</style>\n",
              "<table border=\"1\" class=\"dataframe\">\n",
              "  <thead>\n",
              "    <tr style=\"text-align: right;\">\n",
              "      <th></th>\n",
              "      <th>store_id</th>\n",
              "      <th>start_day</th>\n",
              "      <th>end_day</th>\n",
              "    </tr>\n",
              "  </thead>\n",
              "  <tbody>\n",
              "    <tr>\n",
              "      <th>0</th>\n",
              "      <td>0.0</td>\n",
              "      <td>2016-08-01</td>\n",
              "      <td>2018-03-31</td>\n",
              "    </tr>\n",
              "    <tr>\n",
              "      <th>1</th>\n",
              "      <td>1.0</td>\n",
              "      <td>2016-08-03</td>\n",
              "      <td>2018-03-30</td>\n",
              "    </tr>\n",
              "    <tr>\n",
              "      <th>2</th>\n",
              "      <td>2.0</td>\n",
              "      <td>2016-08-01</td>\n",
              "      <td>2018-03-30</td>\n",
              "    </tr>\n",
              "    <tr>\n",
              "      <th>3</th>\n",
              "      <td>3.0</td>\n",
              "      <td>2016-08-01</td>\n",
              "      <td>2018-03-31</td>\n",
              "    </tr>\n",
              "    <tr>\n",
              "      <th>4</th>\n",
              "      <td>4.0</td>\n",
              "      <td>2016-08-01</td>\n",
              "      <td>2018-03-31</td>\n",
              "    </tr>\n",
              "    <tr>\n",
              "      <th>5</th>\n",
              "      <td>5.0</td>\n",
              "      <td>2016-08-03</td>\n",
              "      <td>2018-03-31</td>\n",
              "    </tr>\n",
              "    <tr>\n",
              "      <th>6</th>\n",
              "      <td>6.0</td>\n",
              "      <td>2016-08-01</td>\n",
              "      <td>2018-03-31</td>\n",
              "    </tr>\n",
              "    <tr>\n",
              "      <th>7</th>\n",
              "      <td>7.0</td>\n",
              "      <td>2017-02-25</td>\n",
              "      <td>2018-03-31</td>\n",
              "    </tr>\n",
              "    <tr>\n",
              "      <th>8</th>\n",
              "      <td>8.0</td>\n",
              "      <td>2017-09-13</td>\n",
              "      <td>2018-03-31</td>\n",
              "    </tr>\n",
              "    <tr>\n",
              "      <th>9</th>\n",
              "      <td>9.0</td>\n",
              "      <td>2017-10-23</td>\n",
              "      <td>2018-03-31</td>\n",
              "    </tr>\n",
              "    <tr>\n",
              "      <th>10</th>\n",
              "      <td>10.0</td>\n",
              "      <td>2016-08-07</td>\n",
              "      <td>2018-03-31</td>\n",
              "    </tr>\n",
              "    <tr>\n",
              "      <th>11</th>\n",
              "      <td>11.0</td>\n",
              "      <td>2017-12-17</td>\n",
              "      <td>2018-03-31</td>\n",
              "    </tr>\n",
              "    <tr>\n",
              "      <th>12</th>\n",
              "      <td>12.0</td>\n",
              "      <td>2016-08-01</td>\n",
              "      <td>2018-03-31</td>\n",
              "    </tr>\n",
              "    <tr>\n",
              "      <th>13</th>\n",
              "      <td>13.0</td>\n",
              "      <td>2016-08-01</td>\n",
              "      <td>2018-03-31</td>\n",
              "    </tr>\n",
              "    <tr>\n",
              "      <th>14</th>\n",
              "      <td>14.0</td>\n",
              "      <td>2016-08-03</td>\n",
              "      <td>2018-03-31</td>\n",
              "    </tr>\n",
              "    <tr>\n",
              "      <th>15</th>\n",
              "      <td>15.0</td>\n",
              "      <td>2016-10-11</td>\n",
              "      <td>2018-03-31</td>\n",
              "    </tr>\n",
              "    <tr>\n",
              "      <th>16</th>\n",
              "      <td>16.0</td>\n",
              "      <td>2017-06-13</td>\n",
              "      <td>2018-03-31</td>\n",
              "    </tr>\n",
              "    <tr>\n",
              "      <th>17</th>\n",
              "      <td>17.0</td>\n",
              "      <td>2016-08-01</td>\n",
              "      <td>2018-03-31</td>\n",
              "    </tr>\n",
              "    <tr>\n",
              "      <th>18</th>\n",
              "      <td>18.0</td>\n",
              "      <td>2016-08-09</td>\n",
              "      <td>2018-03-31</td>\n",
              "    </tr>\n",
              "    <tr>\n",
              "      <th>19</th>\n",
              "      <td>19.0</td>\n",
              "      <td>2016-08-01</td>\n",
              "      <td>2018-03-31</td>\n",
              "    </tr>\n",
              "  </tbody>\n",
              "</table>\n",
              "</div>"
            ],
            "text/plain": [
              "    store_id  start_day    end_day\n",
              "0        0.0 2016-08-01 2018-03-31\n",
              "1        1.0 2016-08-03 2018-03-30\n",
              "2        2.0 2016-08-01 2018-03-30\n",
              "3        3.0 2016-08-01 2018-03-31\n",
              "4        4.0 2016-08-01 2018-03-31\n",
              "5        5.0 2016-08-03 2018-03-31\n",
              "6        6.0 2016-08-01 2018-03-31\n",
              "7        7.0 2017-02-25 2018-03-31\n",
              "8        8.0 2017-09-13 2018-03-31\n",
              "9        9.0 2017-10-23 2018-03-31\n",
              "10      10.0 2016-08-07 2018-03-31\n",
              "11      11.0 2017-12-17 2018-03-31\n",
              "12      12.0 2016-08-01 2018-03-31\n",
              "13      13.0 2016-08-01 2018-03-31\n",
              "14      14.0 2016-08-03 2018-03-31\n",
              "15      15.0 2016-10-11 2018-03-31\n",
              "16      16.0 2017-06-13 2018-03-31\n",
              "17      17.0 2016-08-01 2018-03-31\n",
              "18      18.0 2016-08-09 2018-03-31\n",
              "19      19.0 2016-08-01 2018-03-31"
            ]
          },
          "metadata": {
            "tags": []
          },
          "execution_count": 211
        }
      ]
    },
    {
      "cell_type": "markdown",
      "metadata": {
        "id": "KKYgrSKdwzg6"
      },
      "source": [
        "# 최적의 파라미터 찾기 & AIRMA 함수 "
      ]
    },
    {
      "cell_type": "code",
      "metadata": {
        "id": "le5Oi6nKsFLf"
      },
      "source": [
        "import itertools"
      ],
      "execution_count": null,
      "outputs": []
    },
    {
      "cell_type": "markdown",
      "metadata": {
        "id": "zYD4apA932x1"
      },
      "source": [
        "## 초기값(parameters)"
      ]
    },
    {
      "cell_type": "markdown",
      "metadata": {
        "id": "NWUKlabSzA3j"
      },
      "source": [
        "최소의 샘플 숫자는 4, 5, 6, 8 중 6의 결과가 가장 좋아 6으로 결정.\n",
        "\n",
        "---\n",
        "\n",
        "PACF (편자기상관함수 http://bit.ly/2OeRail)\n",
        "\n",
        "를 통해 AR(0), AR(1), AR(2)를 확인. \n",
        "\n",
        "하지만 AIC를 통해 ARIMA모델에 사용될 pqr 값들을 찾을 때 [0,2]의 값들을 통해 구한 pqr보다 \n",
        "\n",
        "[0,1]사이로 찾은 pqr이 더 정확한 예측을 했기 때문에 pqr의 범위를 [0,1]로 설정 "
      ]
    },
    {
      "cell_type": "code",
      "metadata": {
        "colab": {
          "base_uri": "https://localhost:8080/"
        },
        "id": "oWwpACZyEeVV",
        "outputId": "97fc5840-ea84-4c0b-b4ee-7951d602ae1e"
      },
      "source": [
        "sampling_p = 28\n",
        "mean_period = 2 * 3 #14 * 2*3\n",
        "\n",
        "predic_len = math.floor(100 / sampling_p)\n",
        "print(predic_len)\n",
        "\n",
        "expected_return_pct_lending = 0.13 * (100 + 16 + 6.8) / 365\n",
        "expected_loss_pct_lending = 1.00\n",
        "optimal_prob = expected_loss_pct_lending / (expected_loss_pct_lending + expected_return_pct_lending)\n",
        "optimal_z_score = st.norm.ppf(optimal_prob) # p(x > z ) = 0.0419\n",
        "print(optimal_prob)\n",
        "print(\"z_score : \",optimal_z_score)\n",
        "\n",
        "# 초기값, 기본값 설정\n",
        "min_period = 6\n",
        "\n",
        "max_pdq = 2\n",
        "p = d = q = range(0,max_pdq) # (0,1)\n",
        "pdq = list(itertools.product(p, d, q)) # p, d, q조합\n",
        "\n",
        "pdqs = dict()\n",
        "\n",
        "output_file_name_fmt = '../1st_data/py_4arima_pos_sep_{optimal_p}-{sampling_period}_no_sales_prob&no mean{mean_period}&min_period {min_period}_pdq{max_pdq}.csv'\n",
        "output_file_name = output_file_name_fmt.format(optimal_p=round(optimal_prob, 4),\n",
        "                                               sampling_period=sampling_p,\n",
        "                                               mean_period=mean_period,\n",
        "                                               min_period=min_period,\n",
        "                                               max_pdq=max_pdq)\n",
        "\n",
        "submission_copy = submission.copy()"
      ],
      "execution_count": null,
      "outputs": [
        {
          "output_type": "stream",
          "text": [
            "3\n",
            "0.9580957780787686\n",
            "z_score :  1.7290036387221377\n"
          ],
          "name": "stdout"
        }
      ]
    },
    {
      "cell_type": "markdown",
      "metadata": {
        "id": "1xEZDGke384J"
      },
      "source": [
        "## get_optimal_params"
      ]
    },
    {
      "cell_type": "markdown",
      "metadata": {
        "id": "DTuwq4Vo54HX"
      },
      "source": [
        "- SARIMAX에 대한 설명 : https://sosoeasy.tistory.com/397"
      ]
    },
    {
      "cell_type": "code",
      "metadata": {
        "id": "_OC1sfKqoYrn"
      },
      "source": [
        "def get_optimal_params(y):\n",
        "    # Define the p, d and q parameters to take any value between 0 and 1\n",
        "\n",
        "    param_dict = {}\n",
        "    for param in pdq:\n",
        "        try:\n",
        "            mod = sm.tsa.statespace.SARIMAX(y,\n",
        "                                            order=param,\n",
        "                                            )\n",
        "            results = mod.fit()\n",
        "            # print(results.summary())\n",
        "\n",
        "            # model = ARIMA(y, order=param)\n",
        "            # results_ARIMA = model.fit(disp=-1)\n",
        "            # results_ARIMA.summary()\n",
        "            \n",
        "            param_dict[results.aic] = param # ARIMA 모델에 사용되는 pdq값을 찹을 때는 overfitting을 방지하기 위해 AIC값을 이용해서 찾는다.(parsimony?)\n",
        "            # print(param_dict)\n",
        "        except:\n",
        "            continue\n",
        "\n",
        "    min_aic = min(param_dict.keys())\n",
        "    optimal_params = param_dict[min_aic]\n",
        "    return optimal_params"
      ],
      "execution_count": null,
      "outputs": []
    },
    {
      "cell_type": "markdown",
      "metadata": {
        "id": "LHyAQZhh52p0"
      },
      "source": [
        "## ARIMA"
      ]
    },
    {
      "cell_type": "code",
      "metadata": {
        "colab": {
          "base_uri": "https://localhost:8080/",
          "height": 283
        },
        "id": "K83ay6Fd7O6L",
        "outputId": "49e6488b-3301-4a2c-8403-8b6c15fdccdf"
      },
      "source": [
        "test_df = test_groupby_date_store[test_groupby_date_store.store_id == 0]\n",
        "test_df_daily = test_df.resample('7D').sum() # date를 일주일 단위로 만듬\n",
        "\n",
        "a = test_df_daily.amount\n",
        "plt.plot(a)\n",
        "log = np.log(a)\n",
        "plt.plot(log)"
      ],
      "execution_count": null,
      "outputs": [
        {
          "output_type": "execute_result",
          "data": {
            "text/plain": [
              "[<matplotlib.lines.Line2D at 0x7fc958d7fd90>]"
            ]
          },
          "metadata": {
            "tags": []
          },
          "execution_count": 256
        },
        {
          "output_type": "display_data",
          "data": {
            "image/png": "[encoded data removed]",
            "text/plain": [
              "<Figure size 432x288 with 1 Axes>"
            ]
          },
          "metadata": {
            "tags": [],
            "needs_background": "light"
          }
        }
      ]
    },
    {
      "cell_type": "code",
      "metadata": {
        "colab": {
          "base_uri": "https://localhost:8080/",
          "height": 283
        },
        "id": "vK6ZxXkT9S2M",
        "outputId": "767130b6-ef86-4ba5-a3c6-1547dde736ee"
      },
      "source": [
        "log = np.log(a)\n",
        "plt.plot(log)"
      ],
      "execution_count": null,
      "outputs": [
        {
          "output_type": "execute_result",
          "data": {
            "text/plain": [
              "[<matplotlib.lines.Line2D at 0x7fc957d413d0>]"
            ]
          },
          "metadata": {
            "tags": []
          },
          "execution_count": 255
        },
        {
          "output_type": "display_data",
          "data": {
            "image/png": "[encoded data removed]",
            "text/plain": [
              "<Figure size 432x288 with 1 Axes>"
            ]
          },
          "metadata": {
            "tags": [],
            "needs_background": "light"
          }
        }
      ]
    },
    {
      "cell_type": "code",
      "metadata": {
        "id": "V2bYfx65V69d"
      },
      "source": [
        "# 입력값 설명\n",
        "# test_df_daily 가게별 DF\n",
        "# sampling_period_days 날짜 묶음 기간 단위\n",
        "# fcst_period # n일 뒤를 예측\n",
        "\n",
        "# prediction_i = arima_main(test_df_daily,sampling_period_days = 28, fcst_period = 3)\n",
        "\n",
        "def arima_main(input_df, sampling_period_days=28, fcst_period=3):\n",
        "  # Down Sampling\n",
        "  ################################################################### \n",
        "  # n일 단위로 묶음 \n",
        "  ### 나머지 부분을 버리는 이유? 각 bin에 해당하는 기간의 길이가 같아야하고,\n",
        "  #최근의 데이터가 과거의 데이터보다 중요하기 때문에 (28,14로) 나누어 떨어지지 않을 경우, 앞의 남는 샘플들을 제거###\n",
        "\n",
        "  input_df = input_df[len(input_df) % sampling_period_days:].resample(str(sampling_period_days)+'D').sum()\n",
        "\n",
        "   ######################################################################\n",
        "  # 판매를 하지 않을 확률\n",
        "  # null/무한대인 값들이 몇개인지 세어 몇 퍼센트의 샘플이 null/무한대인지 계산 후 최종 prediction에서 (1 - probability of no sales) 값으로 예측값을 곱하여 매출 예상에서 판매가 없을 확률만큼 discount함\n",
        "\n",
        "  prob_of_no_sales = len(input_df[(input_df.amount == 0) | (input_df.amount.isna())]) / len(input_df)\n",
        "\n",
        "  ######################################################################\n",
        "  # amount 로그를 이용하여 정규화\n",
        "  # log를 씌운 후 값이 null이 되거나 무한이 되면 데이터셋에서 제거.\n",
        "  ts_log = np.log(input_df.amount)\n",
        "  ts_log = ts_log[~ts_log.isin([np.nan,np.inf,-np.inf])]\n",
        "\n",
        "  # prob_of_no_sales = len(ts_log)/len(input_df) 이걸로 변형해서 해보자\n",
        "  ######################################################################\n",
        "  # 원하는 개수보다 작으면 다른 단위(일)로 묶기 위해 None 반환\n",
        "  if len(input_df) < min_period:\n",
        "    return None\n",
        "  ######################################################################\n",
        "  # Optimization process: 28일, 14일, 7일씩 downsampling하여 예측하면 향후 84일 (28 3) 혹은 98일 (14 7 or 7 14) 동안의 매출을 예측 가능. \n",
        "  # E(return) == 0.13 (100 + x) / 365  ### 이 식이 도출된 이유? ###\n",
        "  # 위의 E(return)안의 x값을 늘려 optimal p를 조절하는 방식으로 예측에서 빠진 기간동안의 매출을 채우기로 결정. \n",
        "  # 28일씩 리샘플링한 경우는 (84일 예측) x==22.8, \n",
        "  # 14일씩 리샘플링한 경우는 (98일 예측) x == 30 (30 이상은 test 해보지 않음)으로 했을 경우 좋은 결과가 나왔음 (Score == 49.42492). \n",
        "  if sampling_period_days >= 28:\n",
        "    expected_return_pct_lending = 0.13 * (100 + 16 + 6.8) / 365 \n",
        "  elif sampling_period_days >=14:\n",
        "    expected_return_pct_lending = 0.13 * (100 + 16 + 14) / 365\n",
        "  else:\n",
        "    expected_return_pct_lending = 0.13 * (100 + 16 + 6.8) / 365\n",
        "  # E(loss) == 1 \n",
        "  expected_loss_pct_lending = 1.\n",
        "  \n",
        "  optimal_prob = expected_loss_pct_lending / (expected_loss_pct_lending + expected_return_pct_lending)\n",
        "  optimal_z_score = st.norm.ppf(optimal_prob) #정규확률분포의 분위수(z_score)\n",
        "###################################################################################\n",
        "  optimal_params = get_optimal_params(ts_log) #최적의 파라미터\n",
        "  pdqs[store_i] = optimal_params\n",
        "\n",
        "  model = ARIMA(ts_log,order=optimal_params)\n",
        "  result_ARIMA = model.fit(disp = -1)\n",
        "  # result_ARIMA.summary()\n",
        "  fcst = result_ARIMA.forecast(fcst_period)# 84 / 98일 후를 예측 ->100일 후를 예측\n",
        "  fcst_means = fcst[0]\n",
        "  fcst_stds = fcst[1]\n",
        "\n",
        "  #Z score와 STD를 사용하여 확률적으로 점수계산공식에 가장 이상적인 예측값을 계산\n",
        "  fcst_i = fcst_means - (fcst_stds * optimal_z_score)\n",
        "  fcst_i = sum(map(lambda x: np.exp(x) if np.exp(x) > 0 else 0, fcst_i)) # #map(변환 함수, 순회 가능한 데이터)\n",
        "\n",
        "  # 매출 예상에서 판매가 없을 확률만큼 discount함 (line 301).\n",
        "  prediction_i = fcst_i * (1 - prob_of_no_sales)\n",
        "  return prediction_i"
      ],
      "execution_count": null,
      "outputs": []
    },
    {
      "cell_type": "markdown",
      "metadata": {
        "id": "8vfptcERw-Og"
      },
      "source": [
        "# 함수 실행"
      ]
    },
    {
      "cell_type": "code",
      "metadata": {
        "colab": {
          "base_uri": "https://localhost:8080/"
        },
        "id": "ZFvWkTVCV7ji",
        "outputId": "2400c56a-9513-440b-9f9a-2c3857bf800a"
      },
      "source": [
        "submission_copy = submission.copy()\n",
        "\n",
        "for store_i in (store_list[:50]):\n",
        "  # test_df는 store_df와 같다.\n",
        "  test_df = test_groupby_date_store[test_groupby_date_store.store_id == store_i]\n",
        "  # print(test_df)\n",
        "  test_df_daily = test_df.resample('D').sum() # date를 하루 단위로 만듬\n",
        "\n",
        "  prediction_i = arima_main(test_df_daily,sampling_period_days = 28, fcst_period = 3) # 28 * 3 = 84\n",
        "  if prediction_i == None:\n",
        "    prediction_i =  arima_main(test_df_daily,sampling_period_days = 14, fcst_period = 7) # 14 * 7 = 98\n",
        "  if prediction_i == None:\n",
        "    prediction_i =  arima_main(test_df_daily,sampling_period_days = 7, fcst_period = 12) # 7 * 12 = 84\n",
        "\n",
        "  if prediction_i is None:\n",
        "        test_df = test_df_daily[len(test_df_daily) % 14:].resample('14D').sum()\n",
        "\n",
        "        prob_of_no_sales = len(test_df[(test_df.amount == 0) | (test_df.amount.isna())]) / len(test_df)\n",
        "        ts_log = ts_log[~ts_log.isin([np.nan, np.inf, -np.inf])]\n",
        "        ts_log_wkly = np.log(test_df.amount)\n",
        "\n",
        "        estimated_amt = np.exp(ts_log_wkly.mean() - ts_log_wkly.std() * optimal_z_score) * (1 - prob_of_no_sales)\n",
        "        prediction_i = estimated_amt * mean_period\n",
        "\n",
        "  submission_copy.loc[submission_copy.store_id == store_i,'total_sales'] = prediction_i"
      ],
      "execution_count": null,
      "outputs": [
        {
          "output_type": "stream",
          "text": [
            "/usr/local/lib/python3.7/dist-packages/statsmodels/tsa/statespace/sarimax.py:949: UserWarning: Non-stationary starting autoregressive parameters found. Using zeros as starting parameters.\n",
            "  warn('Non-stationary starting autoregressive parameters'\n",
            "/usr/local/lib/python3.7/dist-packages/statsmodels/tsa/statespace/sarimax.py:961: UserWarning: Non-invertible starting MA parameters found. Using zeros as starting parameters.\n",
            "  warn('Non-invertible starting MA parameters found.'\n"
          ],
          "name": "stderr"
        },
        {
          "output_type": "stream",
          "text": [
            "[10.06592063 10.04160392 10.02013551]\n",
            "[9.04180823 9.01755917 8.99331011]\n"
          ],
          "name": "stdout"
        },
        {
          "output_type": "stream",
          "text": [
            "/usr/local/lib/python3.7/dist-packages/statsmodels/tsa/statespace/sarimax.py:949: UserWarning: Non-stationary starting autoregressive parameters found. Using zeros as starting parameters.\n",
            "  warn('Non-stationary starting autoregressive parameters'\n",
            "/usr/local/lib/python3.7/dist-packages/statsmodels/base/model.py:512: ConvergenceWarning: Maximum Likelihood optimization failed to converge. Check mle_retvals\n",
            "  \"Check mle_retvals\", ConvergenceWarning)\n",
            "/usr/local/lib/python3.7/dist-packages/statsmodels/tsa/statespace/sarimax.py:961: UserWarning: Non-invertible starting MA parameters found. Using zeros as starting parameters.\n",
            "  warn('Non-invertible starting MA parameters found.'\n"
          ],
          "name": "stderr"
        },
        {
          "output_type": "stream",
          "text": [
            "[8.77385376 8.77942263 8.7849915 ]\n"
          ],
          "name": "stdout"
        },
        {
          "output_type": "stream",
          "text": [
            "/usr/local/lib/python3.7/dist-packages/statsmodels/tsa/statespace/sarimax.py:949: UserWarning: Non-stationary starting autoregressive parameters found. Using zeros as starting parameters.\n",
            "  warn('Non-stationary starting autoregressive parameters'\n",
            "/usr/local/lib/python3.7/dist-packages/statsmodels/tsa/statespace/sarimax.py:961: UserWarning: Non-invertible starting MA parameters found. Using zeros as starting parameters.\n",
            "  warn('Non-invertible starting MA parameters found.'\n"
          ],
          "name": "stderr"
        },
        {
          "output_type": "stream",
          "text": [
            "[9.09602069 9.10112145 9.1062222 ]\n",
            "[8.29518298 8.26977953 8.24437608]\n"
          ],
          "name": "stdout"
        },
        {
          "output_type": "stream",
          "text": [
            "/usr/local/lib/python3.7/dist-packages/statsmodels/tsa/statespace/sarimax.py:949: UserWarning: Non-stationary starting autoregressive parameters found. Using zeros as starting parameters.\n",
            "  warn('Non-stationary starting autoregressive parameters'\n",
            "/usr/local/lib/python3.7/dist-packages/statsmodels/tsa/statespace/sarimax.py:961: UserWarning: Non-invertible starting MA parameters found. Using zeros as starting parameters.\n",
            "  warn('Non-invertible starting MA parameters found.'\n"
          ],
          "name": "stderr"
        },
        {
          "output_type": "stream",
          "text": [
            "[8.24694125 8.11426389 8.02855456]\n"
          ],
          "name": "stdout"
        },
        {
          "output_type": "stream",
          "text": [
            "/usr/local/lib/python3.7/dist-packages/statsmodels/tsa/statespace/sarimax.py:949: UserWarning: Non-stationary starting autoregressive parameters found. Using zeros as starting parameters.\n",
            "  warn('Non-stationary starting autoregressive parameters'\n",
            "/usr/local/lib/python3.7/dist-packages/statsmodels/tsa/statespace/sarimax.py:961: UserWarning: Non-invertible starting MA parameters found. Using zeros as starting parameters.\n",
            "  warn('Non-invertible starting MA parameters found.'\n"
          ],
          "name": "stderr"
        },
        {
          "output_type": "stream",
          "text": [
            "[10.00959558  9.90472955  9.8246252 ]\n"
          ],
          "name": "stdout"
        },
        {
          "output_type": "stream",
          "text": [
            "/usr/local/lib/python3.7/dist-packages/statsmodels/base/model.py:512: ConvergenceWarning: Maximum Likelihood optimization failed to converge. Check mle_retvals\n",
            "  \"Check mle_retvals\", ConvergenceWarning)\n",
            "/usr/local/lib/python3.7/dist-packages/statsmodels/tsa/statespace/sarimax.py:949: UserWarning: Non-stationary starting autoregressive parameters found. Using zeros as starting parameters.\n",
            "  warn('Non-stationary starting autoregressive parameters'\n",
            "/usr/local/lib/python3.7/dist-packages/statsmodels/base/model.py:512: ConvergenceWarning: Maximum Likelihood optimization failed to converge. Check mle_retvals\n",
            "  \"Check mle_retvals\", ConvergenceWarning)\n",
            "/usr/local/lib/python3.7/dist-packages/statsmodels/tsa/statespace/sarimax.py:961: UserWarning: Non-invertible starting MA parameters found. Using zeros as starting parameters.\n",
            "  warn('Non-invertible starting MA parameters found.'\n"
          ],
          "name": "stderr"
        },
        {
          "output_type": "stream",
          "text": [
            "[6.41016559 6.43904793 6.46793027]\n",
            "[7.74621885 7.39102746 7.09005866]\n"
          ],
          "name": "stdout"
        },
        {
          "output_type": "stream",
          "text": [
            "/usr/local/lib/python3.7/dist-packages/statsmodels/tsa/statespace/sarimax.py:961: UserWarning: Non-invertible starting MA parameters found. Using zeros as starting parameters.\n",
            "  warn('Non-invertible starting MA parameters found.'\n",
            "/usr/local/lib/python3.7/dist-packages/statsmodels/tsa/statespace/sarimax.py:949: UserWarning: Non-stationary starting autoregressive parameters found. Using zeros as starting parameters.\n",
            "  warn('Non-stationary starting autoregressive parameters'\n",
            "/usr/local/lib/python3.7/dist-packages/statsmodels/base/model.py:512: ConvergenceWarning: Maximum Likelihood optimization failed to converge. Check mle_retvals\n",
            "  \"Check mle_retvals\", ConvergenceWarning)\n"
          ],
          "name": "stderr"
        },
        {
          "output_type": "stream",
          "text": [
            "[7.72033541 7.70052652 7.68071763 7.66090874 7.64109984 7.62129095\n",
            " 7.60148206]\n"
          ],
          "name": "stdout"
        },
        {
          "output_type": "stream",
          "text": [
            "/usr/local/lib/python3.7/dist-packages/statsmodels/tsa/statespace/sarimax.py:961: UserWarning: Non-invertible starting MA parameters found. Using zeros as starting parameters.\n",
            "  warn('Non-invertible starting MA parameters found.'\n",
            "/usr/local/lib/python3.7/dist-packages/statsmodels/tsa/statespace/sarimax.py:949: UserWarning: Non-stationary starting autoregressive parameters found. Using zeros as starting parameters.\n",
            "  warn('Non-stationary starting autoregressive parameters'\n",
            "/usr/local/lib/python3.7/dist-packages/statsmodels/base/model.py:512: ConvergenceWarning: Maximum Likelihood optimization failed to converge. Check mle_retvals\n",
            "  \"Check mle_retvals\", ConvergenceWarning)\n",
            "/usr/local/lib/python3.7/dist-packages/statsmodels/tsa/statespace/sarimax.py:961: UserWarning: Non-invertible starting MA parameters found. Using zeros as starting parameters.\n",
            "  warn('Non-invertible starting MA parameters found.'\n"
          ],
          "name": "stderr"
        },
        {
          "output_type": "stream",
          "text": [
            "[8.61536837 8.55065202 8.54719059]\n"
          ],
          "name": "stdout"
        },
        {
          "output_type": "stream",
          "text": [
            "/usr/local/lib/python3.7/dist-packages/statsmodels/tsa/statespace/sarimax.py:949: UserWarning: Non-stationary starting autoregressive parameters found. Using zeros as starting parameters.\n",
            "  warn('Non-stationary starting autoregressive parameters'\n",
            "/usr/local/lib/python3.7/dist-packages/statsmodels/base/model.py:512: ConvergenceWarning: Maximum Likelihood optimization failed to converge. Check mle_retvals\n",
            "  \"Check mle_retvals\", ConvergenceWarning)\n"
          ],
          "name": "stderr"
        },
        {
          "output_type": "stream",
          "text": [
            "[7.99641983 7.98856706 7.98071429 7.97286151 7.96500874 7.95715597\n",
            " 7.9493032 ]\n",
            "[6.67646422 6.65830714 6.64015007]\n",
            "[10.24348914 10.12560044 10.03544775]\n"
          ],
          "name": "stdout"
        },
        {
          "output_type": "stream",
          "text": [
            "/usr/local/lib/python3.7/dist-packages/statsmodels/tsa/statespace/sarimax.py:949: UserWarning: Non-stationary starting autoregressive parameters found. Using zeros as starting parameters.\n",
            "  warn('Non-stationary starting autoregressive parameters'\n"
          ],
          "name": "stderr"
        },
        {
          "output_type": "stream",
          "text": [
            "[8.59059433 8.72768572 8.48592391]\n",
            "[9.31521357 9.25870178 9.22464676]\n"
          ],
          "name": "stdout"
        },
        {
          "output_type": "stream",
          "text": [
            "/usr/local/lib/python3.7/dist-packages/statsmodels/tsa/statespace/sarimax.py:949: UserWarning: Non-stationary starting autoregressive parameters found. Using zeros as starting parameters.\n",
            "  warn('Non-stationary starting autoregressive parameters'\n",
            "/usr/local/lib/python3.7/dist-packages/statsmodels/tsa/statespace/sarimax.py:961: UserWarning: Non-invertible starting MA parameters found. Using zeros as starting parameters.\n",
            "  warn('Non-invertible starting MA parameters found.'\n"
          ],
          "name": "stderr"
        },
        {
          "output_type": "stream",
          "text": [
            "[8.38557605 8.34599238 8.13118626]\n",
            "[7.61544147 7.63283034 7.65021921]\n"
          ],
          "name": "stdout"
        },
        {
          "output_type": "stream",
          "text": [
            "/usr/local/lib/python3.7/dist-packages/statsmodels/tsa/statespace/sarimax.py:949: UserWarning: Non-stationary starting autoregressive parameters found. Using zeros as starting parameters.\n",
            "  warn('Non-stationary starting autoregressive parameters'\n",
            "/usr/local/lib/python3.7/dist-packages/pandas/core/series.py:726: RuntimeWarning: divide by zero encountered in log\n",
            "  result = getattr(ufunc, method)(*inputs, **kwargs)\n",
            "/usr/local/lib/python3.7/dist-packages/statsmodels/tsa/base/tsa_model.py:219: ValueWarning: A date index has been provided, but it has no associated frequency information and so will be ignored when e.g. forecasting.\n",
            "  ' ignored when e.g. forecasting.', ValueWarning)\n",
            "/usr/local/lib/python3.7/dist-packages/statsmodels/tsa/base/tsa_model.py:219: ValueWarning: A date index has been provided, but it has no associated frequency information and so will be ignored when e.g. forecasting.\n",
            "  ' ignored when e.g. forecasting.', ValueWarning)\n",
            "/usr/local/lib/python3.7/dist-packages/statsmodels/tsa/base/tsa_model.py:219: ValueWarning: A date index has been provided, but it has no associated frequency information and so will be ignored when e.g. forecasting.\n",
            "  ' ignored when e.g. forecasting.', ValueWarning)\n",
            "/usr/local/lib/python3.7/dist-packages/statsmodels/tsa/base/tsa_model.py:219: ValueWarning: A date index has been provided, but it has no associated frequency information and so will be ignored when e.g. forecasting.\n",
            "  ' ignored when e.g. forecasting.', ValueWarning)\n",
            "/usr/local/lib/python3.7/dist-packages/statsmodels/tsa/base/tsa_model.py:219: ValueWarning: A date index has been provided, but it has no associated frequency information and so will be ignored when e.g. forecasting.\n",
            "  ' ignored when e.g. forecasting.', ValueWarning)\n",
            "/usr/local/lib/python3.7/dist-packages/statsmodels/tsa/base/tsa_model.py:219: ValueWarning: A date index has been provided, but it has no associated frequency information and so will be ignored when e.g. forecasting.\n",
            "  ' ignored when e.g. forecasting.', ValueWarning)\n",
            "/usr/local/lib/python3.7/dist-packages/statsmodels/tsa/statespace/sarimax.py:949: UserWarning: Non-stationary starting autoregressive parameters found. Using zeros as starting parameters.\n",
            "  warn('Non-stationary starting autoregressive parameters'\n",
            "/usr/local/lib/python3.7/dist-packages/statsmodels/tsa/base/tsa_model.py:219: ValueWarning: A date index has been provided, but it has no associated frequency information and so will be ignored when e.g. forecasting.\n",
            "  ' ignored when e.g. forecasting.', ValueWarning)\n",
            "/usr/local/lib/python3.7/dist-packages/statsmodels/tsa/base/tsa_model.py:219: ValueWarning: A date index has been provided, but it has no associated frequency information and so will be ignored when e.g. forecasting.\n",
            "  ' ignored when e.g. forecasting.', ValueWarning)\n",
            "/usr/local/lib/python3.7/dist-packages/statsmodels/tsa/base/tsa_model.py:219: ValueWarning: A date index has been provided, but it has no associated frequency information and so will be ignored when e.g. forecasting.\n",
            "  ' ignored when e.g. forecasting.', ValueWarning)\n",
            "/usr/local/lib/python3.7/dist-packages/statsmodels/tsa/base/tsa_model.py:219: ValueWarning: A date index has been provided, but it has no associated frequency information and so will be ignored when e.g. forecasting.\n",
            "  ' ignored when e.g. forecasting.', ValueWarning)\n",
            "/usr/local/lib/python3.7/dist-packages/statsmodels/tsa/statespace/sarimax.py:949: UserWarning: Non-stationary starting autoregressive parameters found. Using zeros as starting parameters.\n",
            "  warn('Non-stationary starting autoregressive parameters'\n"
          ],
          "name": "stderr"
        },
        {
          "output_type": "stream",
          "text": [
            "[8.62319712 8.65742758 8.69165805]\n",
            "[8.17829959 8.0023816  7.8793891 ]\n"
          ],
          "name": "stdout"
        },
        {
          "output_type": "stream",
          "text": [
            "/usr/local/lib/python3.7/dist-packages/statsmodels/tsa/statespace/sarimax.py:961: UserWarning: Non-invertible starting MA parameters found. Using zeros as starting parameters.\n",
            "  warn('Non-invertible starting MA parameters found.'\n"
          ],
          "name": "stderr"
        },
        {
          "output_type": "stream",
          "text": [
            "[9.31338761 9.32206988 9.33075215]\n",
            "[7.20758633 6.81856359 6.50654289]\n"
          ],
          "name": "stdout"
        },
        {
          "output_type": "stream",
          "text": [
            "/usr/local/lib/python3.7/dist-packages/statsmodels/tsa/statespace/sarimax.py:961: UserWarning: Non-invertible starting MA parameters found. Using zeros as starting parameters.\n",
            "  warn('Non-invertible starting MA parameters found.'\n",
            "/usr/local/lib/python3.7/dist-packages/statsmodels/tsa/statespace/sarimax.py:949: UserWarning: Non-stationary starting autoregressive parameters found. Using zeros as starting parameters.\n",
            "  warn('Non-stationary starting autoregressive parameters'\n",
            "/usr/local/lib/python3.7/dist-packages/statsmodels/base/model.py:512: ConvergenceWarning: Maximum Likelihood optimization failed to converge. Check mle_retvals\n",
            "  \"Check mle_retvals\", ConvergenceWarning)\n"
          ],
          "name": "stderr"
        },
        {
          "output_type": "stream",
          "text": [
            "[9.52807717 9.54378439 9.55949161]\n",
            "[10.54953789  9.97226285  9.62664357]\n"
          ],
          "name": "stdout"
        },
        {
          "output_type": "stream",
          "text": [
            "/usr/local/lib/python3.7/dist-packages/statsmodels/tsa/statespace/sarimax.py:961: UserWarning: Non-invertible starting MA parameters found. Using zeros as starting parameters.\n",
            "  warn('Non-invertible starting MA parameters found.'\n"
          ],
          "name": "stderr"
        },
        {
          "output_type": "stream",
          "text": [
            "[8.08663659 8.041446   7.99625542]\n",
            "[4.74784094 3.24514412 2.01520441]\n"
          ],
          "name": "stdout"
        },
        {
          "output_type": "stream",
          "text": [
            "/usr/local/lib/python3.7/dist-packages/pandas/core/series.py:726: RuntimeWarning: divide by zero encountered in log\n",
            "  result = getattr(ufunc, method)(*inputs, **kwargs)\n",
            "/usr/local/lib/python3.7/dist-packages/statsmodels/tsa/base/tsa_model.py:219: ValueWarning: A date index has been provided, but it has no associated frequency information and so will be ignored when e.g. forecasting.\n",
            "  ' ignored when e.g. forecasting.', ValueWarning)\n",
            "/usr/local/lib/python3.7/dist-packages/statsmodels/tsa/base/tsa_model.py:219: ValueWarning: A date index has been provided, but it has no associated frequency information and so will be ignored when e.g. forecasting.\n",
            "  ' ignored when e.g. forecasting.', ValueWarning)\n",
            "/usr/local/lib/python3.7/dist-packages/statsmodels/tsa/base/tsa_model.py:219: ValueWarning: A date index has been provided, but it has no associated frequency information and so will be ignored when e.g. forecasting.\n",
            "  ' ignored when e.g. forecasting.', ValueWarning)\n",
            "/usr/local/lib/python3.7/dist-packages/statsmodels/tsa/base/tsa_model.py:219: ValueWarning: A date index has been provided, but it has no associated frequency information and so will be ignored when e.g. forecasting.\n",
            "  ' ignored when e.g. forecasting.', ValueWarning)\n",
            "/usr/local/lib/python3.7/dist-packages/statsmodels/tsa/base/tsa_model.py:219: ValueWarning: A date index has been provided, but it has no associated frequency information and so will be ignored when e.g. forecasting.\n",
            "  ' ignored when e.g. forecasting.', ValueWarning)\n",
            "/usr/local/lib/python3.7/dist-packages/statsmodels/tsa/base/tsa_model.py:219: ValueWarning: A date index has been provided, but it has no associated frequency information and so will be ignored when e.g. forecasting.\n",
            "  ' ignored when e.g. forecasting.', ValueWarning)\n",
            "/usr/local/lib/python3.7/dist-packages/statsmodels/tsa/base/tsa_model.py:219: ValueWarning: A date index has been provided, but it has no associated frequency information and so will be ignored when e.g. forecasting.\n",
            "  ' ignored when e.g. forecasting.', ValueWarning)\n",
            "/usr/local/lib/python3.7/dist-packages/statsmodels/tsa/base/tsa_model.py:219: ValueWarning: A date index has been provided, but it has no associated frequency information and so will be ignored when e.g. forecasting.\n",
            "  ' ignored when e.g. forecasting.', ValueWarning)\n",
            "/usr/local/lib/python3.7/dist-packages/statsmodels/tsa/statespace/sarimax.py:961: UserWarning: Non-invertible starting MA parameters found. Using zeros as starting parameters.\n",
            "  warn('Non-invertible starting MA parameters found.'\n",
            "/usr/local/lib/python3.7/dist-packages/statsmodels/tsa/base/tsa_model.py:219: ValueWarning: A date index has been provided, but it has no associated frequency information and so will be ignored when e.g. forecasting.\n",
            "  ' ignored when e.g. forecasting.', ValueWarning)\n",
            "/usr/local/lib/python3.7/dist-packages/statsmodels/tsa/base/tsa_model.py:219: ValueWarning: A date index has been provided, but it has no associated frequency information and so will be ignored when e.g. forecasting.\n",
            "  ' ignored when e.g. forecasting.', ValueWarning)\n",
            "/usr/local/lib/python3.7/dist-packages/statsmodels/tsa/statespace/sarimax.py:949: UserWarning: Non-stationary starting autoregressive parameters found. Using zeros as starting parameters.\n",
            "  warn('Non-stationary starting autoregressive parameters'\n"
          ],
          "name": "stderr"
        },
        {
          "output_type": "stream",
          "text": [
            "[8.54457239 8.60169828 8.48188813]\n",
            "[8.93590887 8.43289824 8.00109707 7.60615663 7.23477222 6.8801204\n",
            " 6.53814771]\n"
          ],
          "name": "stdout"
        },
        {
          "output_type": "stream",
          "text": [
            "/usr/local/lib/python3.7/dist-packages/statsmodels/tsa/statespace/sarimax.py:961: UserWarning: Non-invertible starting MA parameters found. Using zeros as starting parameters.\n",
            "  warn('Non-invertible starting MA parameters found.'\n",
            "/usr/local/lib/python3.7/dist-packages/statsmodels/base/model.py:512: ConvergenceWarning: Maximum Likelihood optimization failed to converge. Check mle_retvals\n",
            "  \"Check mle_retvals\", ConvergenceWarning)\n",
            "/usr/local/lib/python3.7/dist-packages/pandas/core/series.py:726: RuntimeWarning: divide by zero encountered in log\n",
            "  result = getattr(ufunc, method)(*inputs, **kwargs)\n",
            "/usr/local/lib/python3.7/dist-packages/statsmodels/tsa/base/tsa_model.py:219: ValueWarning: A date index has been provided, but it has no associated frequency information and so will be ignored when e.g. forecasting.\n",
            "  ' ignored when e.g. forecasting.', ValueWarning)\n",
            "/usr/local/lib/python3.7/dist-packages/statsmodels/tsa/base/tsa_model.py:219: ValueWarning: A date index has been provided, but it has no associated frequency information and so will be ignored when e.g. forecasting.\n",
            "  ' ignored when e.g. forecasting.', ValueWarning)\n",
            "/usr/local/lib/python3.7/dist-packages/statsmodels/tsa/base/tsa_model.py:219: ValueWarning: A date index has been provided, but it has no associated frequency information and so will be ignored when e.g. forecasting.\n",
            "  ' ignored when e.g. forecasting.', ValueWarning)\n",
            "/usr/local/lib/python3.7/dist-packages/statsmodels/tsa/base/tsa_model.py:219: ValueWarning: A date index has been provided, but it has no associated frequency information and so will be ignored when e.g. forecasting.\n",
            "  ' ignored when e.g. forecasting.', ValueWarning)\n",
            "/usr/local/lib/python3.7/dist-packages/statsmodels/tsa/base/tsa_model.py:219: ValueWarning: A date index has been provided, but it has no associated frequency information and so will be ignored when e.g. forecasting.\n",
            "  ' ignored when e.g. forecasting.', ValueWarning)\n",
            "/usr/local/lib/python3.7/dist-packages/statsmodels/tsa/statespace/sarimax.py:949: UserWarning: Non-stationary starting autoregressive parameters found. Using zeros as starting parameters.\n",
            "  warn('Non-stationary starting autoregressive parameters'\n",
            "/usr/local/lib/python3.7/dist-packages/statsmodels/tsa/base/tsa_model.py:219: ValueWarning: A date index has been provided, but it has no associated frequency information and so will be ignored when e.g. forecasting.\n",
            "  ' ignored when e.g. forecasting.', ValueWarning)\n",
            "/usr/local/lib/python3.7/dist-packages/statsmodels/tsa/base/tsa_model.py:219: ValueWarning: A date index has been provided, but it has no associated frequency information and so will be ignored when e.g. forecasting.\n",
            "  ' ignored when e.g. forecasting.', ValueWarning)\n",
            "/usr/local/lib/python3.7/dist-packages/statsmodels/tsa/base/tsa_model.py:219: ValueWarning: A date index has been provided, but it has no associated frequency information and so will be ignored when e.g. forecasting.\n",
            "  ' ignored when e.g. forecasting.', ValueWarning)\n"
          ],
          "name": "stderr"
        },
        {
          "output_type": "stream",
          "text": [
            "[5.10166631 5.12903812 5.15640994]\n",
            "[8.49435295 8.39588925 8.4319684 ]\n"
          ],
          "name": "stdout"
        },
        {
          "output_type": "stream",
          "text": [
            "/usr/local/lib/python3.7/dist-packages/statsmodels/tsa/base/tsa_model.py:219: ValueWarning: A date index has been provided, but it has no associated frequency information and so will be ignored when e.g. forecasting.\n",
            "  ' ignored when e.g. forecasting.', ValueWarning)\n",
            "/usr/local/lib/python3.7/dist-packages/statsmodels/tsa/base/tsa_model.py:219: ValueWarning: A date index has been provided, but it has no associated frequency information and so will be ignored when e.g. forecasting.\n",
            "  ' ignored when e.g. forecasting.', ValueWarning)\n",
            "/usr/local/lib/python3.7/dist-packages/statsmodels/base/model.py:512: ConvergenceWarning: Maximum Likelihood optimization failed to converge. Check mle_retvals\n",
            "  \"Check mle_retvals\", ConvergenceWarning)\n",
            "/usr/local/lib/python3.7/dist-packages/statsmodels/tsa/statespace/sarimax.py:961: UserWarning: Non-invertible starting MA parameters found. Using zeros as starting parameters.\n",
            "  warn('Non-invertible starting MA parameters found.'\n"
          ],
          "name": "stderr"
        },
        {
          "output_type": "stream",
          "text": [
            "[9.23783769 9.22032439 9.20281108]\n"
          ],
          "name": "stdout"
        },
        {
          "output_type": "stream",
          "text": [
            "/usr/local/lib/python3.7/dist-packages/statsmodels/tsa/statespace/sarimax.py:961: UserWarning: Non-invertible starting MA parameters found. Using zeros as starting parameters.\n",
            "  warn('Non-invertible starting MA parameters found.'\n"
          ],
          "name": "stderr"
        },
        {
          "output_type": "stream",
          "text": [
            "[9.96645481 9.93996588 9.91486711]\n",
            "[6.79166302 6.069584   5.46526665 4.92190723 4.41750328 3.94077061\n",
            " 3.48500588]\n"
          ],
          "name": "stdout"
        },
        {
          "output_type": "stream",
          "text": [
            "/usr/local/lib/python3.7/dist-packages/statsmodels/tsa/statespace/sarimax.py:961: UserWarning: Non-invertible starting MA parameters found. Using zeros as starting parameters.\n",
            "  warn('Non-invertible starting MA parameters found.'\n",
            "/usr/local/lib/python3.7/dist-packages/statsmodels/base/model.py:512: ConvergenceWarning: Maximum Likelihood optimization failed to converge. Check mle_retvals\n",
            "  \"Check mle_retvals\", ConvergenceWarning)\n",
            "/usr/local/lib/python3.7/dist-packages/statsmodels/tsa/statespace/sarimax.py:949: UserWarning: Non-stationary starting autoregressive parameters found. Using zeros as starting parameters.\n",
            "  warn('Non-stationary starting autoregressive parameters'\n",
            "/usr/local/lib/python3.7/dist-packages/statsmodels/base/model.py:512: ConvergenceWarning: Maximum Likelihood optimization failed to converge. Check mle_retvals\n",
            "  \"Check mle_retvals\", ConvergenceWarning)\n",
            "/usr/local/lib/python3.7/dist-packages/statsmodels/tsa/statespace/sarimax.py:961: UserWarning: Non-invertible starting MA parameters found. Using zeros as starting parameters.\n",
            "  warn('Non-invertible starting MA parameters found.'\n"
          ],
          "name": "stderr"
        },
        {
          "output_type": "stream",
          "text": [
            "[10.38142916 10.36978133 10.35813351]\n"
          ],
          "name": "stdout"
        },
        {
          "output_type": "stream",
          "text": [
            "/usr/local/lib/python3.7/dist-packages/statsmodels/tsa/statespace/sarimax.py:961: UserWarning: Non-invertible starting MA parameters found. Using zeros as starting parameters.\n",
            "  warn('Non-invertible starting MA parameters found.'\n",
            "/usr/local/lib/python3.7/dist-packages/statsmodels/tsa/statespace/sarimax.py:949: UserWarning: Non-stationary starting autoregressive parameters found. Using zeros as starting parameters.\n",
            "  warn('Non-stationary starting autoregressive parameters'\n",
            "/usr/local/lib/python3.7/dist-packages/statsmodels/base/model.py:512: ConvergenceWarning: Maximum Likelihood optimization failed to converge. Check mle_retvals\n",
            "  \"Check mle_retvals\", ConvergenceWarning)\n"
          ],
          "name": "stderr"
        },
        {
          "output_type": "stream",
          "text": [
            "[11.23892905 11.23823842 11.23754778]\n",
            "[7.54317095 7.36808657 7.01897079]\n"
          ],
          "name": "stdout"
        },
        {
          "output_type": "stream",
          "text": [
            "/usr/local/lib/python3.7/dist-packages/statsmodels/tsa/statespace/sarimax.py:949: UserWarning: Non-stationary starting autoregressive parameters found. Using zeros as starting parameters.\n",
            "  warn('Non-stationary starting autoregressive parameters'\n",
            "/usr/local/lib/python3.7/dist-packages/statsmodels/tsa/statespace/sarimax.py:961: UserWarning: Non-invertible starting MA parameters found. Using zeros as starting parameters.\n",
            "  warn('Non-invertible starting MA parameters found.'\n",
            "/usr/local/lib/python3.7/dist-packages/statsmodels/tsa/statespace/sarimax.py:949: UserWarning: Non-stationary starting autoregressive parameters found. Using zeros as starting parameters.\n",
            "  warn('Non-stationary starting autoregressive parameters'\n"
          ],
          "name": "stderr"
        },
        {
          "output_type": "stream",
          "text": [
            "[6.56712743 5.71205352 5.62532307]\n"
          ],
          "name": "stdout"
        },
        {
          "output_type": "stream",
          "text": [
            "/usr/local/lib/python3.7/dist-packages/statsmodels/tsa/statespace/sarimax.py:961: UserWarning: Non-invertible starting MA parameters found. Using zeros as starting parameters.\n",
            "  warn('Non-invertible starting MA parameters found.'\n",
            "/usr/local/lib/python3.7/dist-packages/statsmodels/base/model.py:512: ConvergenceWarning: Maximum Likelihood optimization failed to converge. Check mle_retvals\n",
            "  \"Check mle_retvals\", ConvergenceWarning)\n"
          ],
          "name": "stderr"
        },
        {
          "output_type": "stream",
          "text": [
            "[9.38870979 9.38160567 9.37450156]\n"
          ],
          "name": "stdout"
        },
        {
          "output_type": "stream",
          "text": [
            "/usr/local/lib/python3.7/dist-packages/statsmodels/tsa/statespace/sarimax.py:961: UserWarning: Non-invertible starting MA parameters found. Using zeros as starting parameters.\n",
            "  warn('Non-invertible starting MA parameters found.'\n",
            "/usr/local/lib/python3.7/dist-packages/statsmodels/base/model.py:512: ConvergenceWarning: Maximum Likelihood optimization failed to converge. Check mle_retvals\n",
            "  \"Check mle_retvals\", ConvergenceWarning)\n"
          ],
          "name": "stderr"
        },
        {
          "output_type": "stream",
          "text": [
            "[11.45007364 11.44673724 11.44340085]\n"
          ],
          "name": "stdout"
        },
        {
          "output_type": "stream",
          "text": [
            "/usr/local/lib/python3.7/dist-packages/statsmodels/tsa/statespace/sarimax.py:961: UserWarning: Non-invertible starting MA parameters found. Using zeros as starting parameters.\n",
            "  warn('Non-invertible starting MA parameters found.'\n",
            "/usr/local/lib/python3.7/dist-packages/statsmodels/tsa/statespace/sarimax.py:949: UserWarning: Non-stationary starting autoregressive parameters found. Using zeros as starting parameters.\n",
            "  warn('Non-stationary starting autoregressive parameters'\n",
            "/usr/local/lib/python3.7/dist-packages/statsmodels/base/model.py:512: ConvergenceWarning: Maximum Likelihood optimization failed to converge. Check mle_retvals\n",
            "  \"Check mle_retvals\", ConvergenceWarning)\n"
          ],
          "name": "stderr"
        },
        {
          "output_type": "stream",
          "text": [
            "[9.41500424 9.42585489 9.43670555]\n"
          ],
          "name": "stdout"
        },
        {
          "output_type": "stream",
          "text": [
            "/usr/local/lib/python3.7/dist-packages/statsmodels/tsa/statespace/sarimax.py:961: UserWarning: Non-invertible starting MA parameters found. Using zeros as starting parameters.\n",
            "  warn('Non-invertible starting MA parameters found.'\n",
            "/usr/local/lib/python3.7/dist-packages/statsmodels/tsa/statespace/sarimax.py:949: UserWarning: Non-stationary starting autoregressive parameters found. Using zeros as starting parameters.\n",
            "  warn('Non-stationary starting autoregressive parameters'\n",
            "/usr/local/lib/python3.7/dist-packages/statsmodels/base/model.py:512: ConvergenceWarning: Maximum Likelihood optimization failed to converge. Check mle_retvals\n",
            "  \"Check mle_retvals\", ConvergenceWarning)\n"
          ],
          "name": "stderr"
        },
        {
          "output_type": "stream",
          "text": [
            "[10.78801898 10.78849587 10.78897277]\n",
            "[8.96615642 8.60566752 8.3247928 ]\n"
          ],
          "name": "stdout"
        },
        {
          "output_type": "stream",
          "text": [
            "/usr/local/lib/python3.7/dist-packages/statsmodels/tsa/statespace/sarimax.py:961: UserWarning: Non-invertible starting MA parameters found. Using zeros as starting parameters.\n",
            "  warn('Non-invertible starting MA parameters found.'\n",
            "/usr/local/lib/python3.7/dist-packages/statsmodels/tsa/statespace/sarimax.py:949: UserWarning: Non-stationary starting autoregressive parameters found. Using zeros as starting parameters.\n",
            "  warn('Non-stationary starting autoregressive parameters'\n",
            "/usr/local/lib/python3.7/dist-packages/statsmodels/tsa/statespace/sarimax.py:961: UserWarning: Non-invertible starting MA parameters found. Using zeros as starting parameters.\n",
            "  warn('Non-invertible starting MA parameters found.'\n"
          ],
          "name": "stderr"
        },
        {
          "output_type": "stream",
          "text": [
            "[9.85180681 9.80176897 9.7081465 ]\n",
            "[10.31150881 10.34515087 10.37879293]\n"
          ],
          "name": "stdout"
        },
        {
          "output_type": "stream",
          "text": [
            "/usr/local/lib/python3.7/dist-packages/statsmodels/tsa/statespace/sarimax.py:949: UserWarning: Non-stationary starting autoregressive parameters found. Using zeros as starting parameters.\n",
            "  warn('Non-stationary starting autoregressive parameters'\n",
            "/usr/local/lib/python3.7/dist-packages/statsmodels/tsa/statespace/sarimax.py:961: UserWarning: Non-invertible starting MA parameters found. Using zeros as starting parameters.\n",
            "  warn('Non-invertible starting MA parameters found.'\n",
            "/usr/local/lib/python3.7/dist-packages/statsmodels/tsa/statespace/sarimax.py:949: UserWarning: Non-stationary starting autoregressive parameters found. Using zeros as starting parameters.\n",
            "  warn('Non-stationary starting autoregressive parameters'\n",
            "/usr/local/lib/python3.7/dist-packages/statsmodels/tsa/statespace/sarimax.py:961: UserWarning: Non-invertible starting MA parameters found. Using zeros as starting parameters.\n",
            "  warn('Non-invertible starting MA parameters found.'\n"
          ],
          "name": "stderr"
        },
        {
          "output_type": "stream",
          "text": [
            "[7.29019617 7.26289338 7.2355906 ]\n"
          ],
          "name": "stdout"
        },
        {
          "output_type": "stream",
          "text": [
            "/usr/local/lib/python3.7/dist-packages/statsmodels/tsa/statespace/sarimax.py:949: UserWarning: Non-stationary starting autoregressive parameters found. Using zeros as starting parameters.\n",
            "  warn('Non-stationary starting autoregressive parameters'\n",
            "/usr/local/lib/python3.7/dist-packages/statsmodels/base/model.py:512: ConvergenceWarning: Maximum Likelihood optimization failed to converge. Check mle_retvals\n",
            "  \"Check mle_retvals\", ConvergenceWarning)\n",
            "/usr/local/lib/python3.7/dist-packages/statsmodels/tsa/statespace/sarimax.py:961: UserWarning: Non-invertible starting MA parameters found. Using zeros as starting parameters.\n",
            "  warn('Non-invertible starting MA parameters found.'\n"
          ],
          "name": "stderr"
        },
        {
          "output_type": "stream",
          "text": [
            "[8.95023461 8.92608817 8.90194173]\n",
            "[9.15113262 9.19592543 9.24071825]\n"
          ],
          "name": "stdout"
        },
        {
          "output_type": "stream",
          "text": [
            "/usr/local/lib/python3.7/dist-packages/statsmodels/tsa/statespace/sarimax.py:949: UserWarning: Non-stationary starting autoregressive parameters found. Using zeros as starting parameters.\n",
            "  warn('Non-stationary starting autoregressive parameters'\n",
            "/usr/local/lib/python3.7/dist-packages/statsmodels/base/model.py:512: ConvergenceWarning: Maximum Likelihood optimization failed to converge. Check mle_retvals\n",
            "  \"Check mle_retvals\", ConvergenceWarning)\n",
            "/usr/local/lib/python3.7/dist-packages/statsmodels/tsa/statespace/sarimax.py:949: UserWarning: Non-stationary starting autoregressive parameters found. Using zeros as starting parameters.\n",
            "  warn('Non-stationary starting autoregressive parameters'\n"
          ],
          "name": "stderr"
        },
        {
          "output_type": "stream",
          "text": [
            "[4.81002884 4.72372278 4.63741673 4.55111067 4.46480461 4.37849856\n",
            " 4.2921925 ]\n",
            "[7.91507392 7.78993397 7.59999326]\n",
            "[8.36390453 7.97654106 7.66296968]\n"
          ],
          "name": "stdout"
        },
        {
          "output_type": "stream",
          "text": [
            "/usr/local/lib/python3.7/dist-packages/statsmodels/tsa/statespace/sarimax.py:961: UserWarning: Non-invertible starting MA parameters found. Using zeros as starting parameters.\n",
            "  warn('Non-invertible starting MA parameters found.'\n"
          ],
          "name": "stderr"
        }
      ]
    },
    {
      "cell_type": "code",
      "metadata": {
        "id": "EPJXD1xpx7Ty"
      },
      "source": [
        "submission_copy.to_csv('/content/drive/MyDrive/Colab Notebooks/kaggle study/[2]store/output_file.csv', index=False)"
      ],
      "execution_count": null,
      "outputs": []
    },
    {
      "cell_type": "code",
      "metadata": {
        "id": "RXDhurJl9q0O"
      },
      "source": [
        ""
      ],
      "execution_count": null,
      "outputs": []
    }
  ]
}