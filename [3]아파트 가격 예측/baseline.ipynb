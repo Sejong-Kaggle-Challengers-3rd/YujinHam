{
  "nbformat": 4,
  "nbformat_minor": 0,
  "metadata": {
    "colab": {
      "name": "baseline.ipynb",
      "provenance": [],
      "collapsed_sections": []
    },
    "kernelspec": {
      "name": "python3",
      "display_name": "Python 3"
    },
    "language_info": {
      "name": "python"
    }
  },
  "cells": [
    {
      "cell_type": "markdown",
      "metadata": {
        "id": "AbJsnKvDuksr"
      },
      "source": [
        "# data loading"
      ]
    },
    {
      "cell_type": "code",
      "metadata": {
        "id": "UMJl8wIBhtrC"
      },
      "source": [
        "import pandas as pd"
      ],
      "execution_count": null,
      "outputs": []
    },
    {
      "cell_type": "code",
      "metadata": {
        "colab": {
          "base_uri": "https://localhost:8080/"
        },
        "id": "-j4Hu4jHWzJQ",
        "outputId": "68b39e44-7204-4278-a6d9-ae2e24b94de5"
      },
      "source": [
        "from google.colab import drive\n",
        "drive.mount('/content/drive')"
      ],
      "execution_count": null,
      "outputs": [
        {
          "output_type": "stream",
          "text": [
            "Drive already mounted at /content/drive; to attempt to forcibly remount, call drive.mount(\"/content/drive\", force_remount=True).\n"
          ],
          "name": "stdout"
        }
      ]
    },
    {
      "cell_type": "code",
      "metadata": {
        "id": "Uit0hNvNrtYs"
      },
      "source": [
        "test = pd.read_csv(\"/content/drive/MyDrive/Colab Notebooks/kaggle study/[3]apartment/data_kr/Auction_master_test.csv\")"
      ],
      "execution_count": null,
      "outputs": []
    },
    {
      "cell_type": "code",
      "metadata": {
        "id": "9cwf0u4Orwet"
      },
      "source": [
        "train = pd.read_csv(\"/content/drive/MyDrive/Colab Notebooks/kaggle study/[3]apartment/data_kr/Auction_master_train.csv\")"
      ],
      "execution_count": null,
      "outputs": []
    },
    {
      "cell_type": "code",
      "metadata": {
        "id": "E1t2QOYur8TN"
      },
      "source": [
        "regist = pd.read_csv(\"/content/drive/MyDrive/Colab Notebooks/kaggle study/[3]apartment/data_kr/Auction_regist.csv\")"
      ],
      "execution_count": null,
      "outputs": []
    },
    {
      "cell_type": "code",
      "metadata": {
        "id": "f8Kx7PkMr_dc"
      },
      "source": [
        "rent = pd.read_csv(\"/content/drive/MyDrive/Colab Notebooks/kaggle study/[3]apartment/data_kr/Auction_rent.csv\")"
      ],
      "execution_count": null,
      "outputs": []
    },
    {
      "cell_type": "code",
      "metadata": {
        "id": "BoiIG_hdsCeE"
      },
      "source": [
        "result = pd.read_csv(\"/content/drive/MyDrive/Colab Notebooks/kaggle study/[3]apartment/data_kr/Auction_result.csv\")"
      ],
      "execution_count": null,
      "outputs": []
    },
    {
      "cell_type": "code",
      "metadata": {
        "colab": {
          "base_uri": "https://localhost:8080/",
          "height": 944
        },
        "id": "pZBrBdxcsHPT",
        "outputId": "044891b5-f811-4a09-d930-4df30bcfacfe"
      },
      "source": [
        "train"
      ],
      "execution_count": null,
      "outputs": [
        {
          "output_type": "execute_result",
          "data": {
            "text/html": [
              "<div>\n",
              "<style scoped>\n",
              "    .dataframe tbody tr th:only-of-type {\n",
              "        vertical-align: middle;\n",
              "    }\n",
              "\n",
              "    .dataframe tbody tr th {\n",
              "        vertical-align: top;\n",
              "    }\n",
              "\n",
              "    .dataframe thead th {\n",
              "        text-align: right;\n",
              "    }\n",
              "</style>\n",
              "<table border=\"1\" class=\"dataframe\">\n",
              "  <thead>\n",
              "    <tr style=\"text-align: right;\">\n",
              "      <th></th>\n",
              "      <th>Auction_key</th>\n",
              "      <th>Auction_class</th>\n",
              "      <th>Bid_class</th>\n",
              "      <th>Claim_price</th>\n",
              "      <th>Appraisal_company</th>\n",
              "      <th>Appraisal_date</th>\n",
              "      <th>Auction_count</th>\n",
              "      <th>Auction_miscarriage_count</th>\n",
              "      <th>Total_land_gross_area</th>\n",
              "      <th>Total_land_real_area</th>\n",
              "      <th>Total_land_auction_area</th>\n",
              "      <th>Total_building_area</th>\n",
              "      <th>Total_building_auction_area</th>\n",
              "      <th>Total_appraisal_price</th>\n",
              "      <th>Minimum_sales_price</th>\n",
              "      <th>First_auction_date</th>\n",
              "      <th>Final_auction_date</th>\n",
              "      <th>Final_result</th>\n",
              "      <th>Creditor</th>\n",
              "      <th>addr_do</th>\n",
              "      <th>addr_si</th>\n",
              "      <th>addr_dong</th>\n",
              "      <th>addr_li</th>\n",
              "      <th>addr_san</th>\n",
              "      <th>addr_bunji1</th>\n",
              "      <th>addr_bunji2</th>\n",
              "      <th>addr_etc</th>\n",
              "      <th>Apartment_usage</th>\n",
              "      <th>Preserve_regist_date</th>\n",
              "      <th>Total_floor</th>\n",
              "      <th>Current_floor</th>\n",
              "      <th>Specific</th>\n",
              "      <th>Share_auction_YorN</th>\n",
              "      <th>road_name</th>\n",
              "      <th>road_bunji1</th>\n",
              "      <th>road_bunji2</th>\n",
              "      <th>Close_date</th>\n",
              "      <th>Close_result</th>\n",
              "      <th>point.y</th>\n",
              "      <th>point.x</th>\n",
              "      <th>Hammer_price</th>\n",
              "    </tr>\n",
              "  </thead>\n",
              "  <tbody>\n",
              "    <tr>\n",
              "      <th>0</th>\n",
              "      <td>2687</td>\n",
              "      <td>임의</td>\n",
              "      <td>개별</td>\n",
              "      <td>1766037301</td>\n",
              "      <td>정명감정</td>\n",
              "      <td>2017-07-26 00:00:00</td>\n",
              "      <td>2</td>\n",
              "      <td>1</td>\n",
              "      <td>12592.0</td>\n",
              "      <td>37.35</td>\n",
              "      <td>37.35</td>\n",
              "      <td>181.77</td>\n",
              "      <td>181.77</td>\n",
              "      <td>836000000</td>\n",
              "      <td>668800000</td>\n",
              "      <td>2018-02-13 00:00:00</td>\n",
              "      <td>2018-03-20 00:00:00</td>\n",
              "      <td>낙찰</td>\n",
              "      <td>베리타스자산관리대부</td>\n",
              "      <td>부산</td>\n",
              "      <td>해운대구</td>\n",
              "      <td>우동</td>\n",
              "      <td>NaN</td>\n",
              "      <td>N</td>\n",
              "      <td>1398.0</td>\n",
              "      <td>NaN</td>\n",
              "      <td>해운대엑소디움 5층 101-502호</td>\n",
              "      <td>주상복합</td>\n",
              "      <td>2009-07-14 00:00:00</td>\n",
              "      <td>45</td>\n",
              "      <td>5</td>\n",
              "      <td>NaN</td>\n",
              "      <td>N</td>\n",
              "      <td>해운대해변로</td>\n",
              "      <td>30.0</td>\n",
              "      <td>NaN</td>\n",
              "      <td>2018-06-14 00:00:00</td>\n",
              "      <td>배당</td>\n",
              "      <td>35.162717</td>\n",
              "      <td>129.137048</td>\n",
              "      <td>760000000</td>\n",
              "    </tr>\n",
              "    <tr>\n",
              "      <th>1</th>\n",
              "      <td>2577</td>\n",
              "      <td>임의</td>\n",
              "      <td>일반</td>\n",
              "      <td>152946867</td>\n",
              "      <td>희감정</td>\n",
              "      <td>2016-09-12 00:00:00</td>\n",
              "      <td>2</td>\n",
              "      <td>1</td>\n",
              "      <td>42478.1</td>\n",
              "      <td>18.76</td>\n",
              "      <td>18.76</td>\n",
              "      <td>118.38</td>\n",
              "      <td>118.38</td>\n",
              "      <td>1073000000</td>\n",
              "      <td>858400000</td>\n",
              "      <td>2016-12-29 00:00:00</td>\n",
              "      <td>2017-02-02 00:00:00</td>\n",
              "      <td>낙찰</td>\n",
              "      <td>흥국저축은행</td>\n",
              "      <td>부산</td>\n",
              "      <td>해운대구</td>\n",
              "      <td>우동</td>\n",
              "      <td>NaN</td>\n",
              "      <td>N</td>\n",
              "      <td>1407.0</td>\n",
              "      <td>NaN</td>\n",
              "      <td>해운대두산위브더제니스 103동 51층 5103호</td>\n",
              "      <td>아파트</td>\n",
              "      <td>2011-12-16 00:00:00</td>\n",
              "      <td>70</td>\n",
              "      <td>51</td>\n",
              "      <td>NaN</td>\n",
              "      <td>N</td>\n",
              "      <td>마린시티2로</td>\n",
              "      <td>33.0</td>\n",
              "      <td>NaN</td>\n",
              "      <td>2017-03-30 00:00:00</td>\n",
              "      <td>배당</td>\n",
              "      <td>35.156633</td>\n",
              "      <td>129.145068</td>\n",
              "      <td>971889999</td>\n",
              "    </tr>\n",
              "    <tr>\n",
              "      <th>2</th>\n",
              "      <td>2197</td>\n",
              "      <td>임의</td>\n",
              "      <td>개별</td>\n",
              "      <td>11326510</td>\n",
              "      <td>혜림감정</td>\n",
              "      <td>2016-11-22 00:00:00</td>\n",
              "      <td>3</td>\n",
              "      <td>2</td>\n",
              "      <td>149683.1</td>\n",
              "      <td>71.00</td>\n",
              "      <td>71.00</td>\n",
              "      <td>49.94</td>\n",
              "      <td>49.94</td>\n",
              "      <td>119000000</td>\n",
              "      <td>76160000</td>\n",
              "      <td>2017-07-28 00:00:00</td>\n",
              "      <td>2017-10-13 00:00:00</td>\n",
              "      <td>낙찰</td>\n",
              "      <td>국민은행</td>\n",
              "      <td>부산</td>\n",
              "      <td>사상구</td>\n",
              "      <td>모라동</td>\n",
              "      <td>NaN</td>\n",
              "      <td>N</td>\n",
              "      <td>552.0</td>\n",
              "      <td>NaN</td>\n",
              "      <td>백양그린 206동 14층 1403호</td>\n",
              "      <td>아파트</td>\n",
              "      <td>1992-07-31 00:00:00</td>\n",
              "      <td>15</td>\n",
              "      <td>14</td>\n",
              "      <td>NaN</td>\n",
              "      <td>N</td>\n",
              "      <td>모라로110번길</td>\n",
              "      <td>88.0</td>\n",
              "      <td>NaN</td>\n",
              "      <td>2017-12-13 00:00:00</td>\n",
              "      <td>배당</td>\n",
              "      <td>35.184601</td>\n",
              "      <td>128.996765</td>\n",
              "      <td>93399999</td>\n",
              "    </tr>\n",
              "    <tr>\n",
              "      <th>3</th>\n",
              "      <td>2642</td>\n",
              "      <td>임의</td>\n",
              "      <td>일반</td>\n",
              "      <td>183581724</td>\n",
              "      <td>신라감정</td>\n",
              "      <td>2016-12-13 00:00:00</td>\n",
              "      <td>2</td>\n",
              "      <td>1</td>\n",
              "      <td>24405.0</td>\n",
              "      <td>32.98</td>\n",
              "      <td>32.98</td>\n",
              "      <td>84.91</td>\n",
              "      <td>84.91</td>\n",
              "      <td>288400000</td>\n",
              "      <td>230720000</td>\n",
              "      <td>2017-07-20 00:00:00</td>\n",
              "      <td>2017-11-02 00:00:00</td>\n",
              "      <td>낙찰</td>\n",
              "      <td>고려저축은행</td>\n",
              "      <td>부산</td>\n",
              "      <td>남구</td>\n",
              "      <td>대연동</td>\n",
              "      <td>NaN</td>\n",
              "      <td>N</td>\n",
              "      <td>243.0</td>\n",
              "      <td>23.0</td>\n",
              "      <td>대연청구 109동 11층 1102호</td>\n",
              "      <td>아파트</td>\n",
              "      <td>2001-07-13 00:00:00</td>\n",
              "      <td>20</td>\n",
              "      <td>11</td>\n",
              "      <td>NaN</td>\n",
              "      <td>N</td>\n",
              "      <td>황령대로319번가길</td>\n",
              "      <td>110.0</td>\n",
              "      <td>NaN</td>\n",
              "      <td>2017-12-27 00:00:00</td>\n",
              "      <td>배당</td>\n",
              "      <td>35.154180</td>\n",
              "      <td>129.089081</td>\n",
              "      <td>256899000</td>\n",
              "    </tr>\n",
              "    <tr>\n",
              "      <th>4</th>\n",
              "      <td>1958</td>\n",
              "      <td>강제</td>\n",
              "      <td>일반</td>\n",
              "      <td>45887671</td>\n",
              "      <td>나라감정</td>\n",
              "      <td>2016-03-07 00:00:00</td>\n",
              "      <td>2</td>\n",
              "      <td>1</td>\n",
              "      <td>774.0</td>\n",
              "      <td>45.18</td>\n",
              "      <td>45.18</td>\n",
              "      <td>84.96</td>\n",
              "      <td>84.96</td>\n",
              "      <td>170000000</td>\n",
              "      <td>136000000</td>\n",
              "      <td>2016-07-06 00:00:00</td>\n",
              "      <td>2016-08-03 00:00:00</td>\n",
              "      <td>낙찰</td>\n",
              "      <td>Private</td>\n",
              "      <td>부산</td>\n",
              "      <td>사하구</td>\n",
              "      <td>괴정동</td>\n",
              "      <td>NaN</td>\n",
              "      <td>N</td>\n",
              "      <td>399.0</td>\n",
              "      <td>2.0</td>\n",
              "      <td>동조리젠시 7층 703호</td>\n",
              "      <td>아파트</td>\n",
              "      <td>2001-11-27 00:00:00</td>\n",
              "      <td>7</td>\n",
              "      <td>7</td>\n",
              "      <td>NaN</td>\n",
              "      <td>N</td>\n",
              "      <td>오작로</td>\n",
              "      <td>51.0</td>\n",
              "      <td>NaN</td>\n",
              "      <td>2016-10-04 00:00:00</td>\n",
              "      <td>배당</td>\n",
              "      <td>35.099630</td>\n",
              "      <td>128.998874</td>\n",
              "      <td>158660000</td>\n",
              "    </tr>\n",
              "    <tr>\n",
              "      <th>...</th>\n",
              "      <td>...</td>\n",
              "      <td>...</td>\n",
              "      <td>...</td>\n",
              "      <td>...</td>\n",
              "      <td>...</td>\n",
              "      <td>...</td>\n",
              "      <td>...</td>\n",
              "      <td>...</td>\n",
              "      <td>...</td>\n",
              "      <td>...</td>\n",
              "      <td>...</td>\n",
              "      <td>...</td>\n",
              "      <td>...</td>\n",
              "      <td>...</td>\n",
              "      <td>...</td>\n",
              "      <td>...</td>\n",
              "      <td>...</td>\n",
              "      <td>...</td>\n",
              "      <td>...</td>\n",
              "      <td>...</td>\n",
              "      <td>...</td>\n",
              "      <td>...</td>\n",
              "      <td>...</td>\n",
              "      <td>...</td>\n",
              "      <td>...</td>\n",
              "      <td>...</td>\n",
              "      <td>...</td>\n",
              "      <td>...</td>\n",
              "      <td>...</td>\n",
              "      <td>...</td>\n",
              "      <td>...</td>\n",
              "      <td>...</td>\n",
              "      <td>...</td>\n",
              "      <td>...</td>\n",
              "      <td>...</td>\n",
              "      <td>...</td>\n",
              "      <td>...</td>\n",
              "      <td>...</td>\n",
              "      <td>...</td>\n",
              "      <td>...</td>\n",
              "      <td>...</td>\n",
              "    </tr>\n",
              "    <tr>\n",
              "      <th>1928</th>\n",
              "      <td>1567</td>\n",
              "      <td>강제</td>\n",
              "      <td>일반</td>\n",
              "      <td>280000000</td>\n",
              "      <td>삼창감정</td>\n",
              "      <td>2017-02-16 00:00:00</td>\n",
              "      <td>1</td>\n",
              "      <td>0</td>\n",
              "      <td>66419.3</td>\n",
              "      <td>40.55</td>\n",
              "      <td>40.55</td>\n",
              "      <td>84.87</td>\n",
              "      <td>84.87</td>\n",
              "      <td>401000000</td>\n",
              "      <td>401000000</td>\n",
              "      <td>2017-06-19 00:00:00</td>\n",
              "      <td>2017-06-19 00:00:00</td>\n",
              "      <td>낙찰</td>\n",
              "      <td>Private</td>\n",
              "      <td>서울</td>\n",
              "      <td>도봉구</td>\n",
              "      <td>창동</td>\n",
              "      <td>NaN</td>\n",
              "      <td>N</td>\n",
              "      <td>45.0</td>\n",
              "      <td>NaN</td>\n",
              "      <td>삼성 110동 15층 1501호</td>\n",
              "      <td>아파트</td>\n",
              "      <td>1992-08-29 00:00:00</td>\n",
              "      <td>21</td>\n",
              "      <td>15</td>\n",
              "      <td>NaN</td>\n",
              "      <td>N</td>\n",
              "      <td>노해로66길</td>\n",
              "      <td>21.0</td>\n",
              "      <td>NaN</td>\n",
              "      <td>2017-08-30 00:00:00</td>\n",
              "      <td>배당</td>\n",
              "      <td>37.648810</td>\n",
              "      <td>127.048683</td>\n",
              "      <td>402500000</td>\n",
              "    </tr>\n",
              "    <tr>\n",
              "      <th>1929</th>\n",
              "      <td>1295</td>\n",
              "      <td>임의</td>\n",
              "      <td>일반</td>\n",
              "      <td>200000000</td>\n",
              "      <td>삼상감정</td>\n",
              "      <td>2015-02-21 00:00:00</td>\n",
              "      <td>2</td>\n",
              "      <td>1</td>\n",
              "      <td>20433.8</td>\n",
              "      <td>39.60</td>\n",
              "      <td>39.60</td>\n",
              "      <td>114.81</td>\n",
              "      <td>114.81</td>\n",
              "      <td>454000000</td>\n",
              "      <td>363200000</td>\n",
              "      <td>2017-02-13 00:00:00</td>\n",
              "      <td>2017-03-13 00:00:00</td>\n",
              "      <td>낙찰</td>\n",
              "      <td>중소기업은행</td>\n",
              "      <td>서울</td>\n",
              "      <td>노원구</td>\n",
              "      <td>상계동</td>\n",
              "      <td>NaN</td>\n",
              "      <td>N</td>\n",
              "      <td>1289.0</td>\n",
              "      <td>NaN</td>\n",
              "      <td>상계불암대림 205동 23층 2303호</td>\n",
              "      <td>아파트</td>\n",
              "      <td>2000-05-30 00:00:00</td>\n",
              "      <td>23</td>\n",
              "      <td>23</td>\n",
              "      <td>NaN</td>\n",
              "      <td>N</td>\n",
              "      <td>덕릉로94길</td>\n",
              "      <td>21.0</td>\n",
              "      <td>NaN</td>\n",
              "      <td>2017-05-24 00:00:00</td>\n",
              "      <td>배당</td>\n",
              "      <td>37.663291</td>\n",
              "      <td>127.077063</td>\n",
              "      <td>430234600</td>\n",
              "    </tr>\n",
              "    <tr>\n",
              "      <th>1930</th>\n",
              "      <td>254</td>\n",
              "      <td>임의</td>\n",
              "      <td>일반</td>\n",
              "      <td>354805459</td>\n",
              "      <td>서초감정</td>\n",
              "      <td>2016-10-21 00:00:00</td>\n",
              "      <td>2</td>\n",
              "      <td>1</td>\n",
              "      <td>7460.8</td>\n",
              "      <td>19.03</td>\n",
              "      <td>19.03</td>\n",
              "      <td>133.98</td>\n",
              "      <td>133.98</td>\n",
              "      <td>1285000000</td>\n",
              "      <td>1028000000</td>\n",
              "      <td>2017-12-21 00:00:00</td>\n",
              "      <td>2018-01-18 00:00:00</td>\n",
              "      <td>낙찰</td>\n",
              "      <td>우리은행</td>\n",
              "      <td>서울</td>\n",
              "      <td>중구</td>\n",
              "      <td>회현동1가</td>\n",
              "      <td>NaN</td>\n",
              "      <td>N</td>\n",
              "      <td>208.0</td>\n",
              "      <td>NaN</td>\n",
              "      <td>,회현동2가 89 남산롯데캐슬아이리스 19층 102-1905호</td>\n",
              "      <td>주상복합</td>\n",
              "      <td>2011-12-13 00:00:00</td>\n",
              "      <td>32</td>\n",
              "      <td>19</td>\n",
              "      <td>NaN</td>\n",
              "      <td>N</td>\n",
              "      <td>소공로</td>\n",
              "      <td>35.0</td>\n",
              "      <td>NaN</td>\n",
              "      <td>2018-03-29 00:00:00</td>\n",
              "      <td>배당</td>\n",
              "      <td>37.558319</td>\n",
              "      <td>126.981994</td>\n",
              "      <td>1118999990</td>\n",
              "    </tr>\n",
              "    <tr>\n",
              "      <th>1931</th>\n",
              "      <td>1486</td>\n",
              "      <td>강제</td>\n",
              "      <td>일반</td>\n",
              "      <td>80000000</td>\n",
              "      <td>한미감정</td>\n",
              "      <td>2016-06-17 00:00:00</td>\n",
              "      <td>2</td>\n",
              "      <td>1</td>\n",
              "      <td>16875.8</td>\n",
              "      <td>42.20</td>\n",
              "      <td>42.20</td>\n",
              "      <td>84.94</td>\n",
              "      <td>84.94</td>\n",
              "      <td>407000000</td>\n",
              "      <td>325600000</td>\n",
              "      <td>2016-10-10 00:00:00</td>\n",
              "      <td>2016-11-14 00:00:00</td>\n",
              "      <td>낙찰</td>\n",
              "      <td>Private</td>\n",
              "      <td>서울</td>\n",
              "      <td>도봉구</td>\n",
              "      <td>쌍문동</td>\n",
              "      <td>NaN</td>\n",
              "      <td>N</td>\n",
              "      <td>725.0</td>\n",
              "      <td>NaN</td>\n",
              "      <td>삼성래미안 110동 11층 1102호</td>\n",
              "      <td>아파트</td>\n",
              "      <td>2002-11-07 00:00:00</td>\n",
              "      <td>15</td>\n",
              "      <td>11</td>\n",
              "      <td>NaN</td>\n",
              "      <td>N</td>\n",
              "      <td>우이천로</td>\n",
              "      <td>328.0</td>\n",
              "      <td>NaN</td>\n",
              "      <td>2017-01-24 00:00:00</td>\n",
              "      <td>배당</td>\n",
              "      <td>37.647061</td>\n",
              "      <td>127.028002</td>\n",
              "      <td>403000000</td>\n",
              "    </tr>\n",
              "    <tr>\n",
              "      <th>1932</th>\n",
              "      <td>937</td>\n",
              "      <td>임의</td>\n",
              "      <td>일반</td>\n",
              "      <td>180000000</td>\n",
              "      <td>자연감정</td>\n",
              "      <td>2015-04-17 00:00:00</td>\n",
              "      <td>2</td>\n",
              "      <td>1</td>\n",
              "      <td>32457.1</td>\n",
              "      <td>45.68</td>\n",
              "      <td>45.68</td>\n",
              "      <td>102.92</td>\n",
              "      <td>102.92</td>\n",
              "      <td>750000000</td>\n",
              "      <td>600000000</td>\n",
              "      <td>2016-04-20 00:00:00</td>\n",
              "      <td>2016-05-25 00:00:00</td>\n",
              "      <td>낙찰</td>\n",
              "      <td>Private</td>\n",
              "      <td>서울</td>\n",
              "      <td>강서구</td>\n",
              "      <td>가양동</td>\n",
              "      <td>NaN</td>\n",
              "      <td>N</td>\n",
              "      <td>1500.0</td>\n",
              "      <td>NaN</td>\n",
              "      <td>강서한강자이 106동 7층 703호</td>\n",
              "      <td>아파트</td>\n",
              "      <td>2013-11-18 00:00:00</td>\n",
              "      <td>22</td>\n",
              "      <td>7</td>\n",
              "      <td>NaN</td>\n",
              "      <td>N</td>\n",
              "      <td>양천로55길</td>\n",
              "      <td>55.0</td>\n",
              "      <td>NaN</td>\n",
              "      <td>2016-08-25 00:00:00</td>\n",
              "      <td>배당</td>\n",
              "      <td>37.566255</td>\n",
              "      <td>126.848961</td>\n",
              "      <td>686010000</td>\n",
              "    </tr>\n",
              "  </tbody>\n",
              "</table>\n",
              "<p>1933 rows × 41 columns</p>\n",
              "</div>"
            ],
            "text/plain": [
              "      Auction_key Auction_class Bid_class  ...    point.y     point.x Hammer_price\n",
              "0            2687            임의        개별  ...  35.162717  129.137048    760000000\n",
              "1            2577            임의        일반  ...  35.156633  129.145068    971889999\n",
              "2            2197            임의        개별  ...  35.184601  128.996765     93399999\n",
              "3            2642            임의        일반  ...  35.154180  129.089081    256899000\n",
              "4            1958            강제        일반  ...  35.099630  128.998874    158660000\n",
              "...           ...           ...       ...  ...        ...         ...          ...\n",
              "1928         1567            강제        일반  ...  37.648810  127.048683    402500000\n",
              "1929         1295            임의        일반  ...  37.663291  127.077063    430234600\n",
              "1930          254            임의        일반  ...  37.558319  126.981994   1118999990\n",
              "1931         1486            강제        일반  ...  37.647061  127.028002    403000000\n",
              "1932          937            임의        일반  ...  37.566255  126.848961    686010000\n",
              "\n",
              "[1933 rows x 41 columns]"
            ]
          },
          "metadata": {
            "tags": []
          },
          "execution_count": 8
        }
      ]
    },
    {
      "cell_type": "code",
      "metadata": {
        "id": "mrcWQOyKsIqL"
      },
      "source": [
        "from xgboost import XGBRegressor # 회귀 트리 모델\n",
        "from xgboost import plot_importance # 중요변수 시각화\n",
        "\n",
        "from sklearn.model_selection import train_test_split\n",
        "from sklearn.metrics import mean_squared_error, mean_absolute_error"
      ],
      "execution_count": null,
      "outputs": []
    },
    {
      "cell_type": "code",
      "metadata": {
        "colab": {
          "base_uri": "https://localhost:8080/"
        },
        "id": "YOz-p26vuHFM",
        "outputId": "2152a3f9-6a06-4aa9-a732-24729b54b562"
      },
      "source": [
        "col_names = train.columns\n",
        "col_names"
      ],
      "execution_count": null,
      "outputs": [
        {
          "output_type": "execute_result",
          "data": {
            "text/plain": [
              "Index(['Auction_key', 'Auction_class', 'Bid_class', 'Claim_price',\n",
              "       'Appraisal_company', 'Appraisal_date', 'Auction_count',\n",
              "       'Auction_miscarriage_count', 'Total_land_gross_area',\n",
              "       'Total_land_real_area', 'Total_land_auction_area',\n",
              "       'Total_building_area', 'Total_building_auction_area',\n",
              "       'Total_appraisal_price', 'Minimum_sales_price', 'First_auction_date',\n",
              "       'Final_auction_date', 'Final_result', 'Creditor', 'addr_do', 'addr_si',\n",
              "       'addr_dong', 'addr_li', 'addr_san', 'addr_bunji1', 'addr_bunji2',\n",
              "       'addr_etc', 'Apartment_usage', 'Preserve_regist_date', 'Total_floor',\n",
              "       'Current_floor', 'Specific', 'Share_auction_YorN', 'road_name',\n",
              "       'road_bunji1', 'road_bunji2', 'Close_date', 'Close_result', 'point.y',\n",
              "       'point.x', 'Hammer_price'],\n",
              "      dtype='object')"
            ]
          },
          "metadata": {
            "tags": []
          },
          "execution_count": 10
        }
      ]
    },
    {
      "cell_type": "code",
      "metadata": {
        "colab": {
          "base_uri": "https://localhost:8080/"
        },
        "id": "HyYlxjgNuQJM",
        "outputId": "c3272c1b-d714-485b-8f9c-9350d13e9461"
      },
      "source": [
        "train.shape #(1933, 40)"
      ],
      "execution_count": null,
      "outputs": [
        {
          "output_type": "execute_result",
          "data": {
            "text/plain": [
              "(1933, 41)"
            ]
          },
          "metadata": {
            "tags": []
          },
          "execution_count": 11
        }
      ]
    },
    {
      "cell_type": "code",
      "metadata": {
        "colab": {
          "base_uri": "https://localhost:8080/"
        },
        "id": "oNLq5QXPubEC",
        "outputId": "88215e52-4388-4b85-c2b0-91b6d132eaac"
      },
      "source": [
        "train.Hammer_price# 수치 데이터 -> 회귀"
      ],
      "execution_count": null,
      "outputs": [
        {
          "output_type": "execute_result",
          "data": {
            "text/plain": [
              "0        760000000\n",
              "1        971889999\n",
              "2         93399999\n",
              "3        256899000\n",
              "4        158660000\n",
              "           ...    \n",
              "1928     402500000\n",
              "1929     430234600\n",
              "1930    1118999990\n",
              "1931     403000000\n",
              "1932     686010000\n",
              "Name: Hammer_price, Length: 1933, dtype: int64"
            ]
          },
          "metadata": {
            "tags": []
          },
          "execution_count": 12
        }
      ]
    },
    {
      "cell_type": "code",
      "metadata": {
        "id": "rM_hiP8OVxBu"
      },
      "source": [
        "test_x = test.drop(['Hammer_price'],axis=1)"
      ],
      "execution_count": null,
      "outputs": []
    },
    {
      "cell_type": "markdown",
      "metadata": {
        "id": "VO7r-ByLxeIF"
      },
      "source": [
        "# object -> int 변형"
      ]
    },
    {
      "cell_type": "code",
      "metadata": {
        "colab": {
          "base_uri": "https://localhost:8080/"
        },
        "id": "dsmnts1pwxSV",
        "outputId": "4a54e5e0-4ed8-4a6e-f845-173d4ba73dfd"
      },
      "source": [
        "train.dtypes"
      ],
      "execution_count": null,
      "outputs": [
        {
          "output_type": "execute_result",
          "data": {
            "text/plain": [
              "Auction_key                      int64\n",
              "Auction_class                   object\n",
              "Bid_class                       object\n",
              "Claim_price                      int64\n",
              "Appraisal_company               object\n",
              "Appraisal_date                  object\n",
              "Auction_count                    int64\n",
              "Auction_miscarriage_count        int64\n",
              "Total_land_gross_area          float64\n",
              "Total_land_real_area           float64\n",
              "Total_land_auction_area        float64\n",
              "Total_building_area            float64\n",
              "Total_building_auction_area    float64\n",
              "Total_appraisal_price            int64\n",
              "Minimum_sales_price              int64\n",
              "First_auction_date              object\n",
              "Final_auction_date              object\n",
              "Final_result                    object\n",
              "Creditor                        object\n",
              "addr_do                         object\n",
              "addr_si                         object\n",
              "addr_dong                       object\n",
              "addr_li                         object\n",
              "addr_san                        object\n",
              "addr_bunji1                    float64\n",
              "addr_bunji2                    float64\n",
              "addr_etc                        object\n",
              "Apartment_usage                 object\n",
              "Preserve_regist_date            object\n",
              "Total_floor                      int64\n",
              "Current_floor                    int64\n",
              "Specific                        object\n",
              "Share_auction_YorN              object\n",
              "road_name                       object\n",
              "road_bunji1                    float64\n",
              "road_bunji2                    float64\n",
              "Close_date                      object\n",
              "Close_result                    object\n",
              "point.y                        float64\n",
              "point.x                        float64\n",
              "Hammer_price                     int64\n",
              "dtype: object"
            ]
          },
          "metadata": {
            "tags": []
          },
          "execution_count": 14
        }
      ]
    },
    {
      "cell_type": "code",
      "metadata": {
        "colab": {
          "base_uri": "https://localhost:8080/"
        },
        "id": "UwgtagVMxDuT",
        "outputId": "4c83234f-fedc-466a-c40d-16cef34ca7a5"
      },
      "source": [
        "factor_col = train.select_dtypes(include='object').columns\n",
        "factor_col"
      ],
      "execution_count": null,
      "outputs": [
        {
          "output_type": "execute_result",
          "data": {
            "text/plain": [
              "Index(['Auction_class', 'Bid_class', 'Appraisal_company', 'Appraisal_date',\n",
              "       'First_auction_date', 'Final_auction_date', 'Final_result', 'Creditor',\n",
              "       'addr_do', 'addr_si', 'addr_dong', 'addr_li', 'addr_san', 'addr_etc',\n",
              "       'Apartment_usage', 'Preserve_regist_date', 'Specific',\n",
              "       'Share_auction_YorN', 'road_name', 'Close_date', 'Close_result'],\n",
              "      dtype='object')"
            ]
          },
          "metadata": {
            "tags": []
          },
          "execution_count": 15
        }
      ]
    },
    {
      "cell_type": "code",
      "metadata": {
        "colab": {
          "base_uri": "https://localhost:8080/"
        },
        "id": "XiXaAQh0xO20",
        "outputId": "dc98eb7c-edd3-4f30-d9e9-6af8261e88df"
      },
      "source": [
        "num_col = train.columns.difference(factor_col)\n",
        "num_col"
      ],
      "execution_count": null,
      "outputs": [
        {
          "output_type": "execute_result",
          "data": {
            "text/plain": [
              "Index(['Auction_count', 'Auction_key', 'Auction_miscarriage_count',\n",
              "       'Claim_price', 'Current_floor', 'Hammer_price', 'Minimum_sales_price',\n",
              "       'Total_appraisal_price', 'Total_building_area',\n",
              "       'Total_building_auction_area', 'Total_floor', 'Total_land_auction_area',\n",
              "       'Total_land_gross_area', 'Total_land_real_area', 'addr_bunji1',\n",
              "       'addr_bunji2', 'point.x', 'point.y', 'road_bunji1', 'road_bunji2'],\n",
              "      dtype='object')"
            ]
          },
          "metadata": {
            "tags": []
          },
          "execution_count": 16
        }
      ]
    },
    {
      "cell_type": "code",
      "metadata": {
        "id": "fRyipfzFx-j_"
      },
      "source": [
        "from sklearn.preprocessing import LabelEncoder\n",
        "fac_le = LabelEncoder()"
      ],
      "execution_count": null,
      "outputs": []
    },
    {
      "cell_type": "code",
      "metadata": {
        "colab": {
          "base_uri": "https://localhost:8080/"
        },
        "id": "snzKOMRvx3OK",
        "outputId": "8f88994e-128b-4ee8-fc66-b8e5313b2753"
      },
      "source": [
        "print(train.Auction_class.unique())\n",
        "print(train.Bid_class.unique())\n",
        "# print(train.Appraisal_company.nunique())\n",
        "print(train.Apartment_usage.unique())\n",
        "# print(train.Specific.nunique())\n",
        "print(train.Share_auction_YorN.unique())\n",
        "print(train.Close_result.value_counts())\n",
        "# ['Appraisal_date','First_auction_date','Final_auction_date','Preserve_regist_date','Close_date']"
      ],
      "execution_count": null,
      "outputs": [
        {
          "output_type": "stream",
          "text": [
            "['임의' '강제']\n",
            "['개별' '일반' '일괄']\n",
            "['주상복합' '아파트']\n",
            "['N' 'Y']\n",
            "배당      1921\n",
            "          12\n",
            "Name: Close_result, dtype: int64\n"
          ],
          "name": "stdout"
        }
      ]
    },
    {
      "cell_type": "code",
      "metadata": {
        "id": "HnloEFK00Aas"
      },
      "source": [
        "label = ['Auction_class','Bid_class','Apartment_usage','Share_auction_YorN','Close_result','Final_result','addr_do','addr_san']"
      ],
      "execution_count": null,
      "outputs": []
    },
    {
      "cell_type": "code",
      "metadata": {
        "id": "RrXwTzaQ0tiX"
      },
      "source": [
        "train[label] = train[label].apply(lambda x: fac_le.fit_transform(x))\n",
        "test_x[label] = test_x[label].apply(lambda x: fac_le.fit_transform(x))"
      ],
      "execution_count": null,
      "outputs": []
    },
    {
      "cell_type": "code",
      "metadata": {
        "colab": {
          "base_uri": "https://localhost:8080/"
        },
        "id": "rLyutZUpxlYI",
        "outputId": "74ac44b4-b914-4d27-8912-5ca382e3c0ef"
      },
      "source": [
        "factor_col = factor_col.difference(label)\n",
        "print(factor_col)\n",
        "num_col = train.columns.difference(factor_col)\n",
        "print(num_col)"
      ],
      "execution_count": null,
      "outputs": [
        {
          "output_type": "stream",
          "text": [
            "Index(['Appraisal_company', 'Appraisal_date', 'Close_date', 'Creditor',\n",
            "       'Final_auction_date', 'First_auction_date', 'Preserve_regist_date',\n",
            "       'Specific', 'addr_dong', 'addr_etc', 'addr_li', 'addr_si', 'road_name'],\n",
            "      dtype='object')\n",
            "Index(['Apartment_usage', 'Auction_class', 'Auction_count', 'Auction_key',\n",
            "       'Auction_miscarriage_count', 'Bid_class', 'Claim_price', 'Close_result',\n",
            "       'Current_floor', 'Final_result', 'Hammer_price', 'Minimum_sales_price',\n",
            "       'Share_auction_YorN', 'Total_appraisal_price', 'Total_building_area',\n",
            "       'Total_building_auction_area', 'Total_floor', 'Total_land_auction_area',\n",
            "       'Total_land_gross_area', 'Total_land_real_area', 'addr_bunji1',\n",
            "       'addr_bunji2', 'addr_do', 'addr_san', 'point.x', 'point.y',\n",
            "       'road_bunji1', 'road_bunji2'],\n",
            "      dtype='object')\n"
          ],
          "name": "stdout"
        }
      ]
    },
    {
      "cell_type": "code",
      "metadata": {
        "colab": {
          "base_uri": "https://localhost:8080/"
        },
        "id": "tny9b-8m2cf4",
        "outputId": "8a4cabd0-2230-41dc-c918-4a54cb65f097"
      },
      "source": [
        "# a = (train['Appraisal_company'].value_counts()>30)\n",
        "a = train['Appraisal_company'].value_counts()\n",
        "company1 = a[:3].index # >30\n",
        "# a = (train['Appraisal_company'].value_counts()>20)\n",
        "company2 = a[3:14].index #>20\n",
        "# a = (train['Appraisal_company'].value_counts()>10)\n",
        "company3 = a[14:].index # >10\n",
        "a['삼일감정']"
      ],
      "execution_count": null,
      "outputs": [
        {
          "output_type": "execute_result",
          "data": {
            "text/plain": [
              "26"
            ]
          },
          "metadata": {
            "tags": []
          },
          "execution_count": 22
        }
      ]
    },
    {
      "cell_type": "code",
      "metadata": {
        "id": "5o8VyQol5pGP"
      },
      "source": [
        "def transfrom_train(app_company, company1, company2, company3,name):\n",
        "  for i, string_val in enumerate(app_company):\n",
        "    flag = 1\n",
        "    for company in company1:\n",
        "      if string_val == company:\n",
        "        train.loc[i,name] = 0\n",
        "        flag = 0\n",
        "        break\n",
        "    for company in company2:\n",
        "      if string_val == company:\n",
        "        train.loc[i,name] = 1\n",
        "        flag = 0\n",
        "        break\n",
        "    for company in company3:\n",
        "      if string_val == company:\n",
        "        train.loc[i,name] = 2\n",
        "        flag = 0\n",
        "        break\n",
        "    if flag == 1:\n",
        "      flag = 0\n",
        "      train.loc[i,name] = 3\n",
        "\n",
        "\n",
        "def transfrom_test_x(app_company, company1, company2, company3,name):\n",
        "  for i, string_val in enumerate(app_company):\n",
        "    flag = 1\n",
        "    for company in company1:\n",
        "      if string_val == company:\n",
        "        test_x.loc[i,name] = 0\n",
        "        flag = 0\n",
        "        break\n",
        "    for company in company2:\n",
        "      if string_val == company:\n",
        "        test_x.loc[i,name] = 1\n",
        "        flag = 0\n",
        "        break\n",
        "    for company in company3:\n",
        "      if string_val == company:\n",
        "        test_x.loc[i,name] = 2\n",
        "        flag = 0\n",
        "        break\n",
        "    if flag == 1:\n",
        "      flag = 0\n",
        "      test_x.loc[i,name] = 3"
      ],
      "execution_count": null,
      "outputs": []
    },
    {
      "cell_type": "code",
      "metadata": {
        "id": "ck_QC9Xf-D71",
        "colab": {
          "base_uri": "https://localhost:8080/"
        },
        "outputId": "913b701e-3573-43f9-e679-a6fb75ee6526"
      },
      "source": [
        "transfrom_train(train['Appraisal_company'],company1, company2,company3,'Appraisal_company')\n",
        "train['Appraisal_company'].value_counts()"
      ],
      "execution_count": null,
      "outputs": [
        {
          "output_type": "execute_result",
          "data": {
            "text/plain": [
              "2    1556\n",
              "1     280\n",
              "0      97\n",
              "Name: Appraisal_company, dtype: int64"
            ]
          },
          "metadata": {
            "tags": []
          },
          "execution_count": 24
        }
      ]
    },
    {
      "cell_type": "code",
      "metadata": {
        "colab": {
          "base_uri": "https://localhost:8080/"
        },
        "id": "V89Bj8mLXo2Y",
        "outputId": "1cb146d6-2ca8-43b4-f072-9b1bbc27eca8"
      },
      "source": [
        "transfrom_test_x(test_x['Appraisal_company'],company1, company2,company3,'Appraisal_company')\n",
        "test_x['Appraisal_company'].value_counts()"
      ],
      "execution_count": null,
      "outputs": [
        {
          "output_type": "execute_result",
          "data": {
            "text/plain": [
              "2    676\n",
              "1    113\n",
              "0     30\n",
              "3     10\n",
              "Name: Appraisal_company, dtype: int64"
            ]
          },
          "metadata": {
            "tags": []
          },
          "execution_count": 25
        }
      ]
    },
    {
      "cell_type": "code",
      "metadata": {
        "colab": {
          "base_uri": "https://localhost:8080/"
        },
        "id": "ax5vtPoi-X7g",
        "outputId": "6d163c81-2ede-42e5-9cad-f071a22ea0f5"
      },
      "source": [
        "factor_col = factor_col.difference(['Appraisal_company'])\n",
        "print(factor_col)\n",
        "num_col = train.columns.difference(factor_col)\n",
        "print(num_col)"
      ],
      "execution_count": null,
      "outputs": [
        {
          "output_type": "stream",
          "text": [
            "Index(['Appraisal_date', 'Close_date', 'Creditor', 'Final_auction_date',\n",
            "       'First_auction_date', 'Preserve_regist_date', 'Specific', 'addr_dong',\n",
            "       'addr_etc', 'addr_li', 'addr_si', 'road_name'],\n",
            "      dtype='object')\n",
            "Index(['Apartment_usage', 'Appraisal_company', 'Auction_class',\n",
            "       'Auction_count', 'Auction_key', 'Auction_miscarriage_count',\n",
            "       'Bid_class', 'Claim_price', 'Close_result', 'Current_floor',\n",
            "       'Final_result', 'Hammer_price', 'Minimum_sales_price',\n",
            "       'Share_auction_YorN', 'Total_appraisal_price', 'Total_building_area',\n",
            "       'Total_building_auction_area', 'Total_floor', 'Total_land_auction_area',\n",
            "       'Total_land_gross_area', 'Total_land_real_area', 'addr_bunji1',\n",
            "       'addr_bunji2', 'addr_do', 'addr_san', 'point.x', 'point.y',\n",
            "       'road_bunji1', 'road_bunji2'],\n",
            "      dtype='object')\n"
          ],
          "name": "stdout"
        }
      ]
    },
    {
      "cell_type": "code",
      "metadata": {
        "colab": {
          "base_uri": "https://localhost:8080/"
        },
        "id": "ovEVFhAX-xIP",
        "outputId": "c49ef17d-e9f7-473b-f529-e838081091bc"
      },
      "source": [
        "len(train)"
      ],
      "execution_count": null,
      "outputs": [
        {
          "output_type": "execute_result",
          "data": {
            "text/plain": [
              "1933"
            ]
          },
          "metadata": {
            "tags": []
          },
          "execution_count": 27
        }
      ]
    },
    {
      "cell_type": "code",
      "metadata": {
        "colab": {
          "base_uri": "https://localhost:8080/"
        },
        "id": "GvcaZjrB-hfC",
        "outputId": "85571680-e055-4477-f505-5a42c84074a9"
      },
      "source": [
        "(train.Creditor.value_counts()>30).sum()"
      ],
      "execution_count": null,
      "outputs": [
        {
          "output_type": "execute_result",
          "data": {
            "text/plain": [
              "10"
            ]
          },
          "metadata": {
            "tags": []
          },
          "execution_count": 28
        }
      ]
    },
    {
      "cell_type": "code",
      "metadata": {
        "id": "ns8tMHJB-3z7"
      },
      "source": [
        "a = train.Creditor.value_counts()\n",
        "Creditor1 = a[:4].index\n",
        "Creditor2 = a[4:10].index\n",
        "Creditor3 = a[10:].index"
      ],
      "execution_count": null,
      "outputs": []
    },
    {
      "cell_type": "code",
      "metadata": {
        "colab": {
          "base_uri": "https://localhost:8080/"
        },
        "id": "85YwsVaU_g_P",
        "outputId": "63ad06c5-924a-4cdd-a3db-3152d218cebc"
      },
      "source": [
        "transfrom_train(train['Creditor'],Creditor1, Creditor2,Creditor3,'Creditor')\n",
        "transfrom_test_x(test_x['Creditor'],Creditor1, Creditor2,Creditor3,'Creditor')\n",
        "\n",
        "test_x.Creditor.value_counts()"
      ],
      "execution_count": null,
      "outputs": [
        {
          "output_type": "execute_result",
          "data": {
            "text/plain": [
              "0    316\n",
              "2    243\n",
              "3    135\n",
              "1    135\n",
              "Name: Creditor, dtype: int64"
            ]
          },
          "metadata": {
            "tags": []
          },
          "execution_count": 30
        }
      ]
    },
    {
      "cell_type": "code",
      "metadata": {
        "colab": {
          "base_uri": "https://localhost:8080/"
        },
        "id": "DxAMexqv_z6_",
        "outputId": "5f302800-adaf-4c79-98bc-fa7790b13ae5"
      },
      "source": [
        "factor_col = factor_col.difference(['Creditor'])\n",
        "print(factor_col)\n",
        "num_col = train.columns.difference(factor_col)\n",
        "# print(num_col)"
      ],
      "execution_count": null,
      "outputs": [
        {
          "output_type": "stream",
          "text": [
            "Index(['Appraisal_date', 'Close_date', 'Final_auction_date',\n",
            "       'First_auction_date', 'Preserve_regist_date', 'Specific', 'addr_dong',\n",
            "       'addr_etc', 'addr_li', 'addr_si', 'road_name'],\n",
            "      dtype='object')\n"
          ],
          "name": "stdout"
        }
      ]
    },
    {
      "cell_type": "code",
      "metadata": {
        "id": "T4lx_sG2AMPw"
      },
      "source": [
        "location = ['addr_dong', 'addr_etc', 'addr_li', 'addr_san', 'addr_si', 'road_name']\n",
        "a = (train['addr_dong'].value_counts())"
      ],
      "execution_count": null,
      "outputs": []
    },
    {
      "cell_type": "code",
      "metadata": {
        "id": "tYeF8vE8CxNg"
      },
      "source": [
        "dong1 = a[:18].index\n",
        "dong2 = a[18:69].index\n",
        "dong3 = a[69:].index"
      ],
      "execution_count": null,
      "outputs": []
    },
    {
      "cell_type": "code",
      "metadata": {
        "colab": {
          "base_uri": "https://localhost:8080/"
        },
        "id": "zBtWwhc2a7VP",
        "outputId": "9686103f-4614-45c9-d37a-bc63e6a74f9c"
      },
      "source": [
        "a.index"
      ],
      "execution_count": null,
      "outputs": [
        {
          "output_type": "execute_result",
          "data": {
            "text/plain": [
              "Index(['상계동', '아현동', '서초동', '신정동', '화곡동', '중계동', '재송동', '창동', '구로동', '용호동',\n",
              "       ...\n",
              "       '서대신동2가', '범전동', '토성동5가', '대흥동', '장위동', '중림동', '내수동', '일광면', '홍익동',\n",
              "       '봉래동4가'],\n",
              "      dtype='object', length=285)"
            ]
          },
          "metadata": {
            "tags": []
          },
          "execution_count": 34
        }
      ]
    },
    {
      "cell_type": "code",
      "metadata": {
        "colab": {
          "base_uri": "https://localhost:8080/"
        },
        "id": "7CFcl_8MCoCM",
        "outputId": "0a3a6f51-4661-4ba5-b213-fe17825f2ff0"
      },
      "source": [
        "transfrom_train(train['addr_dong'],dong1, dong2,dong3,'addr_dong')\n",
        "transfrom_test_x(test_x['addr_dong'],dong1, dong2,dong3,'addr_dong')\n",
        "\n",
        "test_x.addr_dong.value_counts()"
      ],
      "execution_count": null,
      "outputs": [
        {
          "output_type": "execute_result",
          "data": {
            "text/plain": [
              "2    361\n",
              "1    273\n",
              "0    164\n",
              "3     31\n",
              "Name: addr_dong, dtype: int64"
            ]
          },
          "metadata": {
            "tags": []
          },
          "execution_count": 35
        }
      ]
    },
    {
      "cell_type": "code",
      "metadata": {
        "colab": {
          "base_uri": "https://localhost:8080/"
        },
        "id": "HdyGZkUyDys0",
        "outputId": "678d4d19-2f29-40fc-cde8-31d578c9fc6d"
      },
      "source": [
        "factor_col = factor_col.difference(['addr_dong'])\n",
        "print(factor_col)\n",
        "num_col = train.columns.difference(factor_col)\n",
        "# print(num_col)"
      ],
      "execution_count": null,
      "outputs": [
        {
          "output_type": "stream",
          "text": [
            "Index(['Appraisal_date', 'Close_date', 'Final_auction_date',\n",
            "       'First_auction_date', 'Preserve_regist_date', 'Specific', 'addr_etc',\n",
            "       'addr_li', 'addr_si', 'road_name'],\n",
            "      dtype='object')\n"
          ],
          "name": "stdout"
        }
      ]
    },
    {
      "cell_type": "code",
      "metadata": {
        "id": "4B7CEw-ccGze"
      },
      "source": [
        "a = train['addr_si'].value_counts()"
      ],
      "execution_count": null,
      "outputs": []
    },
    {
      "cell_type": "code",
      "metadata": {
        "colab": {
          "base_uri": "https://localhost:8080/"
        },
        "id": "jFouykO2cRf-",
        "outputId": "26224b63-4223-4f16-b6a6-f08b706fe56e"
      },
      "source": [
        "a"
      ],
      "execution_count": null,
      "outputs": [
        {
          "output_type": "execute_result",
          "data": {
            "text/plain": [
              "노원구     129\n",
              "강남구     102\n",
              "사하구      96\n",
              "해운대구     89\n",
              "부산진구     84\n",
              "강서구      78\n",
              "서초구      73\n",
              "마포구      71\n",
              "양천구      68\n",
              "도봉구      68\n",
              "송파구      60\n",
              "사상구      58\n",
              "구로구      57\n",
              "남구       56\n",
              "은평구      53\n",
              "동대문구     53\n",
              "북구       53\n",
              "동래구      51\n",
              "영등포구     47\n",
              "성북구      45\n",
              "관악구      43\n",
              "강동구      39\n",
              "동작구      37\n",
              "중랑구      37\n",
              "서대문구     37\n",
              "수영구      33\n",
              "연제구      31\n",
              "중구       30\n",
              "성동구      29\n",
              "금정구      29\n",
              "영도구      29\n",
              "용산구      27\n",
              "금천구      25\n",
              "기장군      23\n",
              "광진구      23\n",
              "강북구      21\n",
              "서구       17\n",
              "종로구      17\n",
              "동구       15\n",
              "Name: addr_si, dtype: int64"
            ]
          },
          "metadata": {
            "tags": []
          },
          "execution_count": 38
        }
      ]
    },
    {
      "cell_type": "code",
      "metadata": {
        "id": "WuKbx4xEcK4_"
      },
      "source": [
        "b = test['addr_si'].value_counts()"
      ],
      "execution_count": null,
      "outputs": []
    },
    {
      "cell_type": "code",
      "metadata": {
        "colab": {
          "base_uri": "https://localhost:8080/"
        },
        "id": "BzrexC6bcTVT",
        "outputId": "f1c680f4-590b-4a52-c0d2-85e3d15f586b"
      },
      "source": [
        "b"
      ],
      "execution_count": null,
      "outputs": [
        {
          "output_type": "execute_result",
          "data": {
            "text/plain": [
              "노원구     51\n",
              "사하구     41\n",
              "강서구     39\n",
              "강남구     37\n",
              "부산진구    33\n",
              "강동구     31\n",
              "북구      31\n",
              "해운대구    28\n",
              "구로구     27\n",
              "양천구     25\n",
              "마포구     24\n",
              "동래구     24\n",
              "송파구     24\n",
              "남구      23\n",
              "도봉구     23\n",
              "중랑구     22\n",
              "서초구     22\n",
              "사상구     22\n",
              "영도구     21\n",
              "은평구     21\n",
              "성북구     21\n",
              "영등포구    21\n",
              "동작구     21\n",
              "광진구     20\n",
              "용산구     19\n",
              "동대문구    18\n",
              "서대문구    17\n",
              "연제구     16\n",
              "금정구     15\n",
              "성동구     15\n",
              "관악구     14\n",
              "중구      13\n",
              "강북구     13\n",
              "기장군     11\n",
              "수영구      8\n",
              "금천구      8\n",
              "서구       7\n",
              "동구       3\n",
              "Name: addr_si, dtype: int64"
            ]
          },
          "metadata": {
            "tags": []
          },
          "execution_count": 40
        }
      ]
    },
    {
      "cell_type": "code",
      "metadata": {
        "colab": {
          "base_uri": "https://localhost:8080/"
        },
        "id": "U0MuBoSjEDtm",
        "outputId": "2f8806a6-d10c-4e60-8e2b-bc4636047ab7"
      },
      "source": [
        "a = train['addr_si'].value_counts()\n",
        "(a.values>40).sum()\n",
        "si1 = a[:10].index\n",
        "si2 = a[10:21].index\n",
        "si3 = a[21:].index\n",
        "transfrom_train(train['addr_si'],si1, si2,si3,'addr_si')\n",
        "transfrom_test_x(test_x['addr_si'],si1, si1,si1,'addr_si')\n",
        "\n",
        "test_x.addr_si.value_counts()"
      ],
      "execution_count": null,
      "outputs": [
        {
          "output_type": "execute_result",
          "data": {
            "text/plain": [
              "3    506\n",
              "2    323\n",
              "Name: addr_si, dtype: int64"
            ]
          },
          "metadata": {
            "tags": []
          },
          "execution_count": 41
        }
      ]
    },
    {
      "cell_type": "code",
      "metadata": {
        "colab": {
          "base_uri": "https://localhost:8080/"
        },
        "id": "h9S9Gv-9E7wM",
        "outputId": "142f72f0-92db-40b3-aa40-10eff7c5231b"
      },
      "source": [
        "factor_col = factor_col.difference(['addr_si'])\n",
        "print(factor_col)\n",
        "num_col = train.columns.difference(factor_col)\n",
        "# print(num_col)"
      ],
      "execution_count": null,
      "outputs": [
        {
          "output_type": "stream",
          "text": [
            "Index(['Appraisal_date', 'Close_date', 'Final_auction_date',\n",
            "       'First_auction_date', 'Preserve_regist_date', 'Specific', 'addr_etc',\n",
            "       'addr_li', 'road_name'],\n",
            "      dtype='object')\n"
          ],
          "name": "stdout"
        }
      ]
    },
    {
      "cell_type": "code",
      "metadata": {
        "id": "ERvkWiiuFSXk"
      },
      "source": [
        "drop_le = ['Specific',\t'addr_etc',\t'addr_li',\t'addr_san',\t'road_name']\n",
        "train = train.drop(drop_le,axis = 1)\n",
        "test_x = test_x.drop(drop_le,axis=1)"
      ],
      "execution_count": null,
      "outputs": []
    },
    {
      "cell_type": "code",
      "metadata": {
        "id": "-Teqqa1pFrJr"
      },
      "source": [
        "factor_col = factor_col.difference(drop_le)"
      ],
      "execution_count": null,
      "outputs": []
    },
    {
      "cell_type": "code",
      "metadata": {
        "colab": {
          "base_uri": "https://localhost:8080/"
        },
        "id": "ZYKAiluRGG9L",
        "outputId": "c08ed31e-b27b-4b19-c836-81a55fb8ef03"
      },
      "source": [
        "train['Auction_Days']=(pd.to_datetime(train['Final_auction_date'],errors='coerce') - pd.to_datetime(train['First_auction_date'],errors='coerce')).dt.days\n",
        "test_x['Auction_Days']=(pd.to_datetime(test_x['Final_auction_date'],errors='coerce') - pd.to_datetime(test_x['First_auction_date'],errors='coerce')).dt.days\n",
        "\n",
        "train = train.drop(['Final_auction_date','First_auction_date'],axis=1)\n",
        "test_x = test_x.drop(['Final_auction_date','First_auction_date'],axis=1)\n",
        "\n",
        "train['Auction_Days']"
      ],
      "execution_count": null,
      "outputs": [
        {
          "output_type": "execute_result",
          "data": {
            "text/plain": [
              "0        35\n",
              "1        35\n",
              "2        77\n",
              "3       105\n",
              "4        28\n",
              "       ... \n",
              "1928      0\n",
              "1929     28\n",
              "1930     28\n",
              "1931     35\n",
              "1932     35\n",
              "Name: Auction_Days, Length: 1933, dtype: int64"
            ]
          },
          "metadata": {
            "tags": []
          },
          "execution_count": 45
        }
      ]
    },
    {
      "cell_type": "code",
      "metadata": {
        "id": "SQP-2rAtHJKc"
      },
      "source": [
        "train['Preserve_regist_date']=pd.to_datetime(train.Preserve_regist_date,errors='coerce').dt.year\n",
        "test_x['Preserve_regist_date']=pd.to_datetime(test_x.Preserve_regist_date,errors='coerce').dt.year"
      ],
      "execution_count": null,
      "outputs": []
    },
    {
      "cell_type": "code",
      "metadata": {
        "colab": {
          "base_uri": "https://localhost:8080/"
        },
        "id": "5AO15piNJM6o",
        "outputId": "5b6fed51-d908-48b8-a0bd-c8e4e0b939ad"
      },
      "source": [
        "factor_col = train.select_dtypes(include='object').columns\n",
        "factor_col"
      ],
      "execution_count": null,
      "outputs": [
        {
          "output_type": "execute_result",
          "data": {
            "text/plain": [
              "Index(['Appraisal_company', 'Appraisal_date', 'Creditor', 'addr_si',\n",
              "       'addr_dong', 'Close_date'],\n",
              "      dtype='object')"
            ]
          },
          "metadata": {
            "tags": []
          },
          "execution_count": 47
        }
      ]
    },
    {
      "cell_type": "code",
      "metadata": {
        "id": "pD4y67OBJ9n1"
      },
      "source": [
        "# ['Appraisal_date','Close_date']"
      ],
      "execution_count": null,
      "outputs": []
    },
    {
      "cell_type": "code",
      "metadata": {
        "id": "0uR0GG8bJ4jy"
      },
      "source": [
        "train = train.drop(['Appraisal_date','Close_date'],axis=1)\n",
        "test_x = test_x.drop(['Appraisal_date','Close_date'],axis=1)"
      ],
      "execution_count": null,
      "outputs": []
    },
    {
      "cell_type": "code",
      "metadata": {
        "id": "0NJrytlxKODK"
      },
      "source": [
        "label = train.select_dtypes(include='object').columns"
      ],
      "execution_count": null,
      "outputs": []
    },
    {
      "cell_type": "code",
      "metadata": {
        "colab": {
          "base_uri": "https://localhost:8080/",
          "height": 438
        },
        "id": "Sml5zJOPXQlR",
        "outputId": "af1ed233-05fd-4ca4-aa50-aecdc0bd3bf1"
      },
      "source": [
        "test_x"
      ],
      "execution_count": null,
      "outputs": [
        {
          "output_type": "execute_result",
          "data": {
            "text/html": [
              "<div>\n",
              "<style scoped>\n",
              "    .dataframe tbody tr th:only-of-type {\n",
              "        vertical-align: middle;\n",
              "    }\n",
              "\n",
              "    .dataframe tbody tr th {\n",
              "        vertical-align: top;\n",
              "    }\n",
              "\n",
              "    .dataframe thead th {\n",
              "        text-align: right;\n",
              "    }\n",
              "</style>\n",
              "<table border=\"1\" class=\"dataframe\">\n",
              "  <thead>\n",
              "    <tr style=\"text-align: right;\">\n",
              "      <th></th>\n",
              "      <th>Auction_key</th>\n",
              "      <th>Auction_class</th>\n",
              "      <th>Bid_class</th>\n",
              "      <th>Claim_price</th>\n",
              "      <th>Appraisal_company</th>\n",
              "      <th>Auction_count</th>\n",
              "      <th>Auction_miscarriage_count</th>\n",
              "      <th>Total_land_gross_area</th>\n",
              "      <th>Total_land_real_area</th>\n",
              "      <th>Total_land_auction_area</th>\n",
              "      <th>Total_building_area</th>\n",
              "      <th>Total_building_auction_area</th>\n",
              "      <th>Total_appraisal_price</th>\n",
              "      <th>Minimum_sales_price</th>\n",
              "      <th>Final_result</th>\n",
              "      <th>Creditor</th>\n",
              "      <th>addr_do</th>\n",
              "      <th>addr_si</th>\n",
              "      <th>addr_dong</th>\n",
              "      <th>addr_bunji1</th>\n",
              "      <th>addr_bunji2</th>\n",
              "      <th>Apartment_usage</th>\n",
              "      <th>Preserve_regist_date</th>\n",
              "      <th>Total_floor</th>\n",
              "      <th>Current_floor</th>\n",
              "      <th>Share_auction_YorN</th>\n",
              "      <th>road_bunji1</th>\n",
              "      <th>road_bunji2</th>\n",
              "      <th>Close_result</th>\n",
              "      <th>point.y</th>\n",
              "      <th>point.x</th>\n",
              "      <th>Auction_Days</th>\n",
              "    </tr>\n",
              "  </thead>\n",
              "  <tbody>\n",
              "    <tr>\n",
              "      <th>0</th>\n",
              "      <td>1778</td>\n",
              "      <td>0</td>\n",
              "      <td>0</td>\n",
              "      <td>1087000000</td>\n",
              "      <td>1</td>\n",
              "      <td>7</td>\n",
              "      <td>6</td>\n",
              "      <td>532.0</td>\n",
              "      <td>18.22</td>\n",
              "      <td>18.22</td>\n",
              "      <td>107.28</td>\n",
              "      <td>107.28</td>\n",
              "      <td>244565981</td>\n",
              "      <td>100174000</td>\n",
              "      <td>0</td>\n",
              "      <td>0</td>\n",
              "      <td>0</td>\n",
              "      <td>3</td>\n",
              "      <td>1</td>\n",
              "      <td>236.0</td>\n",
              "      <td>NaN</td>\n",
              "      <td>1</td>\n",
              "      <td>NaN</td>\n",
              "      <td>15</td>\n",
              "      <td>5</td>\n",
              "      <td>0</td>\n",
              "      <td>NaN</td>\n",
              "      <td>NaN</td>\n",
              "      <td>1</td>\n",
              "      <td>35.201112</td>\n",
              "      <td>129.088687</td>\n",
              "      <td>1058</td>\n",
              "    </tr>\n",
              "    <tr>\n",
              "      <th>1</th>\n",
              "      <td>1779</td>\n",
              "      <td>0</td>\n",
              "      <td>0</td>\n",
              "      <td>1087000000</td>\n",
              "      <td>1</td>\n",
              "      <td>6</td>\n",
              "      <td>5</td>\n",
              "      <td>532.0</td>\n",
              "      <td>16.65</td>\n",
              "      <td>16.65</td>\n",
              "      <td>98.08</td>\n",
              "      <td>98.08</td>\n",
              "      <td>228745632</td>\n",
              "      <td>117118000</td>\n",
              "      <td>0</td>\n",
              "      <td>0</td>\n",
              "      <td>0</td>\n",
              "      <td>3</td>\n",
              "      <td>1</td>\n",
              "      <td>236.0</td>\n",
              "      <td>NaN</td>\n",
              "      <td>1</td>\n",
              "      <td>NaN</td>\n",
              "      <td>15</td>\n",
              "      <td>6</td>\n",
              "      <td>0</td>\n",
              "      <td>NaN</td>\n",
              "      <td>NaN</td>\n",
              "      <td>1</td>\n",
              "      <td>35.201112</td>\n",
              "      <td>129.088687</td>\n",
              "      <td>1030</td>\n",
              "    </tr>\n",
              "    <tr>\n",
              "      <th>2</th>\n",
              "      <td>1784</td>\n",
              "      <td>0</td>\n",
              "      <td>0</td>\n",
              "      <td>1087000000</td>\n",
              "      <td>1</td>\n",
              "      <td>7</td>\n",
              "      <td>6</td>\n",
              "      <td>532.0</td>\n",
              "      <td>18.22</td>\n",
              "      <td>18.22</td>\n",
              "      <td>107.28</td>\n",
              "      <td>107.28</td>\n",
              "      <td>249565981</td>\n",
              "      <td>102222000</td>\n",
              "      <td>0</td>\n",
              "      <td>0</td>\n",
              "      <td>0</td>\n",
              "      <td>3</td>\n",
              "      <td>1</td>\n",
              "      <td>236.0</td>\n",
              "      <td>NaN</td>\n",
              "      <td>1</td>\n",
              "      <td>NaN</td>\n",
              "      <td>15</td>\n",
              "      <td>8</td>\n",
              "      <td>0</td>\n",
              "      <td>NaN</td>\n",
              "      <td>NaN</td>\n",
              "      <td>1</td>\n",
              "      <td>35.201112</td>\n",
              "      <td>129.088687</td>\n",
              "      <td>1058</td>\n",
              "    </tr>\n",
              "    <tr>\n",
              "      <th>3</th>\n",
              "      <td>1786</td>\n",
              "      <td>0</td>\n",
              "      <td>0</td>\n",
              "      <td>1087000000</td>\n",
              "      <td>1</td>\n",
              "      <td>7</td>\n",
              "      <td>6</td>\n",
              "      <td>532.0</td>\n",
              "      <td>18.22</td>\n",
              "      <td>18.22</td>\n",
              "      <td>107.28</td>\n",
              "      <td>107.28</td>\n",
              "      <td>249565981</td>\n",
              "      <td>102222000</td>\n",
              "      <td>0</td>\n",
              "      <td>0</td>\n",
              "      <td>0</td>\n",
              "      <td>3</td>\n",
              "      <td>1</td>\n",
              "      <td>236.0</td>\n",
              "      <td>NaN</td>\n",
              "      <td>1</td>\n",
              "      <td>NaN</td>\n",
              "      <td>15</td>\n",
              "      <td>9</td>\n",
              "      <td>0</td>\n",
              "      <td>NaN</td>\n",
              "      <td>NaN</td>\n",
              "      <td>1</td>\n",
              "      <td>35.201112</td>\n",
              "      <td>129.088687</td>\n",
              "      <td>1058</td>\n",
              "    </tr>\n",
              "    <tr>\n",
              "      <th>4</th>\n",
              "      <td>1790</td>\n",
              "      <td>0</td>\n",
              "      <td>0</td>\n",
              "      <td>1087000000</td>\n",
              "      <td>1</td>\n",
              "      <td>7</td>\n",
              "      <td>6</td>\n",
              "      <td>532.0</td>\n",
              "      <td>18.22</td>\n",
              "      <td>18.22</td>\n",
              "      <td>107.28</td>\n",
              "      <td>107.28</td>\n",
              "      <td>249565981</td>\n",
              "      <td>102222000</td>\n",
              "      <td>0</td>\n",
              "      <td>0</td>\n",
              "      <td>0</td>\n",
              "      <td>3</td>\n",
              "      <td>1</td>\n",
              "      <td>236.0</td>\n",
              "      <td>NaN</td>\n",
              "      <td>1</td>\n",
              "      <td>NaN</td>\n",
              "      <td>15</td>\n",
              "      <td>11</td>\n",
              "      <td>0</td>\n",
              "      <td>NaN</td>\n",
              "      <td>NaN</td>\n",
              "      <td>1</td>\n",
              "      <td>35.201112</td>\n",
              "      <td>129.088687</td>\n",
              "      <td>1058</td>\n",
              "    </tr>\n",
              "    <tr>\n",
              "      <th>...</th>\n",
              "      <td>...</td>\n",
              "      <td>...</td>\n",
              "      <td>...</td>\n",
              "      <td>...</td>\n",
              "      <td>...</td>\n",
              "      <td>...</td>\n",
              "      <td>...</td>\n",
              "      <td>...</td>\n",
              "      <td>...</td>\n",
              "      <td>...</td>\n",
              "      <td>...</td>\n",
              "      <td>...</td>\n",
              "      <td>...</td>\n",
              "      <td>...</td>\n",
              "      <td>...</td>\n",
              "      <td>...</td>\n",
              "      <td>...</td>\n",
              "      <td>...</td>\n",
              "      <td>...</td>\n",
              "      <td>...</td>\n",
              "      <td>...</td>\n",
              "      <td>...</td>\n",
              "      <td>...</td>\n",
              "      <td>...</td>\n",
              "      <td>...</td>\n",
              "      <td>...</td>\n",
              "      <td>...</td>\n",
              "      <td>...</td>\n",
              "      <td>...</td>\n",
              "      <td>...</td>\n",
              "      <td>...</td>\n",
              "      <td>...</td>\n",
              "    </tr>\n",
              "    <tr>\n",
              "      <th>824</th>\n",
              "      <td>1762</td>\n",
              "      <td>0</td>\n",
              "      <td>0</td>\n",
              "      <td>4249164200</td>\n",
              "      <td>2</td>\n",
              "      <td>2</td>\n",
              "      <td>1</td>\n",
              "      <td>3460.9</td>\n",
              "      <td>13.87</td>\n",
              "      <td>13.87</td>\n",
              "      <td>84.91</td>\n",
              "      <td>84.91</td>\n",
              "      <td>420000000</td>\n",
              "      <td>336000000</td>\n",
              "      <td>0</td>\n",
              "      <td>3</td>\n",
              "      <td>1</td>\n",
              "      <td>3</td>\n",
              "      <td>2</td>\n",
              "      <td>229.0</td>\n",
              "      <td>NaN</td>\n",
              "      <td>1</td>\n",
              "      <td>2011.0</td>\n",
              "      <td>23</td>\n",
              "      <td>23</td>\n",
              "      <td>0</td>\n",
              "      <td>284.0</td>\n",
              "      <td>NaN</td>\n",
              "      <td>1</td>\n",
              "      <td>37.605407</td>\n",
              "      <td>127.027309</td>\n",
              "      <td>29</td>\n",
              "    </tr>\n",
              "    <tr>\n",
              "      <th>825</th>\n",
              "      <td>1767</td>\n",
              "      <td>0</td>\n",
              "      <td>2</td>\n",
              "      <td>320000000</td>\n",
              "      <td>1</td>\n",
              "      <td>2</td>\n",
              "      <td>1</td>\n",
              "      <td>13578.9</td>\n",
              "      <td>72.81</td>\n",
              "      <td>72.81</td>\n",
              "      <td>150.66</td>\n",
              "      <td>150.66</td>\n",
              "      <td>580000000</td>\n",
              "      <td>464000000</td>\n",
              "      <td>0</td>\n",
              "      <td>1</td>\n",
              "      <td>1</td>\n",
              "      <td>2</td>\n",
              "      <td>0</td>\n",
              "      <td>689.0</td>\n",
              "      <td>NaN</td>\n",
              "      <td>0</td>\n",
              "      <td>2005.0</td>\n",
              "      <td>14</td>\n",
              "      <td>3</td>\n",
              "      <td>0</td>\n",
              "      <td>120.0</td>\n",
              "      <td>NaN</td>\n",
              "      <td>1</td>\n",
              "      <td>37.663305</td>\n",
              "      <td>127.039551</td>\n",
              "      <td>35</td>\n",
              "    </tr>\n",
              "    <tr>\n",
              "      <th>826</th>\n",
              "      <td>1770</td>\n",
              "      <td>0</td>\n",
              "      <td>2</td>\n",
              "      <td>160000000</td>\n",
              "      <td>2</td>\n",
              "      <td>2</td>\n",
              "      <td>1</td>\n",
              "      <td>57491.8</td>\n",
              "      <td>34.03</td>\n",
              "      <td>34.03</td>\n",
              "      <td>49.77</td>\n",
              "      <td>49.77</td>\n",
              "      <td>293000000</td>\n",
              "      <td>234400000</td>\n",
              "      <td>0</td>\n",
              "      <td>0</td>\n",
              "      <td>1</td>\n",
              "      <td>3</td>\n",
              "      <td>2</td>\n",
              "      <td>650.0</td>\n",
              "      <td>NaN</td>\n",
              "      <td>0</td>\n",
              "      <td>1996.0</td>\n",
              "      <td>12</td>\n",
              "      <td>5</td>\n",
              "      <td>0</td>\n",
              "      <td>42.0</td>\n",
              "      <td>NaN</td>\n",
              "      <td>1</td>\n",
              "      <td>37.614529</td>\n",
              "      <td>127.091109</td>\n",
              "      <td>28</td>\n",
              "    </tr>\n",
              "    <tr>\n",
              "      <th>827</th>\n",
              "      <td>1772</td>\n",
              "      <td>1</td>\n",
              "      <td>2</td>\n",
              "      <td>230000000</td>\n",
              "      <td>2</td>\n",
              "      <td>1</td>\n",
              "      <td>0</td>\n",
              "      <td>27710.2</td>\n",
              "      <td>42.54</td>\n",
              "      <td>42.54</td>\n",
              "      <td>84.84</td>\n",
              "      <td>84.84</td>\n",
              "      <td>492000000</td>\n",
              "      <td>492000000</td>\n",
              "      <td>0</td>\n",
              "      <td>0</td>\n",
              "      <td>1</td>\n",
              "      <td>3</td>\n",
              "      <td>2</td>\n",
              "      <td>317.0</td>\n",
              "      <td>NaN</td>\n",
              "      <td>0</td>\n",
              "      <td>2009.0</td>\n",
              "      <td>17</td>\n",
              "      <td>16</td>\n",
              "      <td>0</td>\n",
              "      <td>27.0</td>\n",
              "      <td>NaN</td>\n",
              "      <td>1</td>\n",
              "      <td>37.620359</td>\n",
              "      <td>127.047071</td>\n",
              "      <td>0</td>\n",
              "    </tr>\n",
              "    <tr>\n",
              "      <th>828</th>\n",
              "      <td>1774</td>\n",
              "      <td>1</td>\n",
              "      <td>2</td>\n",
              "      <td>6136088</td>\n",
              "      <td>2</td>\n",
              "      <td>1</td>\n",
              "      <td>0</td>\n",
              "      <td>10987.8</td>\n",
              "      <td>33.16</td>\n",
              "      <td>33.16</td>\n",
              "      <td>84.99</td>\n",
              "      <td>84.99</td>\n",
              "      <td>400000000</td>\n",
              "      <td>400000000</td>\n",
              "      <td>0</td>\n",
              "      <td>2</td>\n",
              "      <td>1</td>\n",
              "      <td>3</td>\n",
              "      <td>2</td>\n",
              "      <td>495.0</td>\n",
              "      <td>NaN</td>\n",
              "      <td>0</td>\n",
              "      <td>1999.0</td>\n",
              "      <td>22</td>\n",
              "      <td>12</td>\n",
              "      <td>0</td>\n",
              "      <td>31.0</td>\n",
              "      <td>NaN</td>\n",
              "      <td>0</td>\n",
              "      <td>37.602064</td>\n",
              "      <td>127.093838</td>\n",
              "      <td>0</td>\n",
              "    </tr>\n",
              "  </tbody>\n",
              "</table>\n",
              "<p>829 rows × 32 columns</p>\n",
              "</div>"
            ],
            "text/plain": [
              "     Auction_key  Auction_class  Bid_class  ...    point.y     point.x  Auction_Days\n",
              "0           1778              0          0  ...  35.201112  129.088687          1058\n",
              "1           1779              0          0  ...  35.201112  129.088687          1030\n",
              "2           1784              0          0  ...  35.201112  129.088687          1058\n",
              "3           1786              0          0  ...  35.201112  129.088687          1058\n",
              "4           1790              0          0  ...  35.201112  129.088687          1058\n",
              "..           ...            ...        ...  ...        ...         ...           ...\n",
              "824         1762              0          0  ...  37.605407  127.027309            29\n",
              "825         1767              0          2  ...  37.663305  127.039551            35\n",
              "826         1770              0          2  ...  37.614529  127.091109            28\n",
              "827         1772              1          2  ...  37.620359  127.047071             0\n",
              "828         1774              1          2  ...  37.602064  127.093838             0\n",
              "\n",
              "[829 rows x 32 columns]"
            ]
          },
          "metadata": {
            "tags": []
          },
          "execution_count": 51
        }
      ]
    },
    {
      "cell_type": "code",
      "metadata": {
        "id": "rqC7FHT3KgzH"
      },
      "source": [
        "train[label] = train[label].astype(str).astype(int)\n",
        "test_x[label] = test_x[label].astype(str).astype(int)"
      ],
      "execution_count": null,
      "outputs": []
    },
    {
      "cell_type": "code",
      "metadata": {
        "id": "bY4QQIS2K0ci"
      },
      "source": [
        "train_y = train.Hammer_price\n",
        "train_x = train.drop(['Hammer_price','Auction_key'],axis=1)"
      ],
      "execution_count": null,
      "outputs": []
    },
    {
      "cell_type": "markdown",
      "metadata": {
        "id": "Eu1ukVK6uogs"
      },
      "source": [
        "# train_validation split"
      ]
    },
    {
      "cell_type": "code",
      "metadata": {
        "id": "Fs-QNwF_ueYb"
      },
      "source": [
        "(train_x,val_x,train_y,val_y) = train_test_split(train_x,train_y,test_size=0.3)"
      ],
      "execution_count": null,
      "outputs": []
    },
    {
      "cell_type": "code",
      "metadata": {
        "colab": {
          "base_uri": "https://localhost:8080/"
        },
        "id": "P0_s-JjPvm-z",
        "outputId": "49a2fcde-93e6-47d2-ee29-84530de48c3f"
      },
      "source": [
        "train_x.shape"
      ],
      "execution_count": null,
      "outputs": [
        {
          "output_type": "execute_result",
          "data": {
            "text/plain": [
              "(1353, 31)"
            ]
          },
          "metadata": {
            "tags": []
          },
          "execution_count": 55
        }
      ]
    },
    {
      "cell_type": "code",
      "metadata": {
        "colab": {
          "base_uri": "https://localhost:8080/"
        },
        "id": "91AO5_AsvrmH",
        "outputId": "1745452e-d3c1-45b6-cce2-7728b45ca8e8"
      },
      "source": [
        "val_x.shape"
      ],
      "execution_count": null,
      "outputs": [
        {
          "output_type": "execute_result",
          "data": {
            "text/plain": [
              "(580, 31)"
            ]
          },
          "metadata": {
            "tags": []
          },
          "execution_count": 56
        }
      ]
    },
    {
      "cell_type": "markdown",
      "metadata": {
        "id": "np3uG173v2ZL"
      },
      "source": [
        "# XGB"
      ]
    },
    {
      "cell_type": "code",
      "metadata": {
        "colab": {
          "base_uri": "https://localhost:8080/"
        },
        "id": "kWk2w94Xvwvx",
        "outputId": "cc39c1b4-4fe5-4517-8a16-673a7c927b23"
      },
      "source": [
        "xgb = XGBRegressor()\n",
        "xgb.fit(train_x,train_y)\n",
        "xgb"
      ],
      "execution_count": null,
      "outputs": [
        {
          "output_type": "stream",
          "text": [
            "[11:19:43] WARNING: /workspace/src/objective/regression_obj.cu:152: reg:linear is now deprecated in favor of reg:squarederror.\n"
          ],
          "name": "stdout"
        },
        {
          "output_type": "execute_result",
          "data": {
            "text/plain": [
              "XGBRegressor(base_score=0.5, booster='gbtree', colsample_bylevel=1,\n",
              "             colsample_bynode=1, colsample_bytree=1, gamma=0,\n",
              "             importance_type='gain', learning_rate=0.1, max_delta_step=0,\n",
              "             max_depth=3, min_child_weight=1, missing=None, n_estimators=100,\n",
              "             n_jobs=1, nthread=None, objective='reg:linear', random_state=0,\n",
              "             reg_alpha=0, reg_lambda=1, scale_pos_weight=1, seed=None,\n",
              "             silent=None, subsample=1, verbosity=1)"
            ]
          },
          "metadata": {
            "tags": []
          },
          "execution_count": 57
        }
      ]
    },
    {
      "cell_type": "code",
      "metadata": {
        "colab": {
          "base_uri": "https://localhost:8080/",
          "height": 295
        },
        "id": "SMogfhDlw8Ka",
        "outputId": "c6b249b6-2c1d-4498-c3f6-70a894967010"
      },
      "source": [
        "import matplotlib.pyplot as plt\n",
        "plot_importance(xgb)\n",
        "plt.yticks(range(13), col_names)\n",
        "plt.show()"
      ],
      "execution_count": null,
      "outputs": [
        {
          "output_type": "display_data",
          "data": {
            "image/png": "[encoded data removed]",
            "text/plain": [
              "<Figure size 432x288 with 1 Axes>"
            ]
          },
          "metadata": {
            "tags": [],
            "needs_background": "light"
          }
        }
      ]
    },
    {
      "cell_type": "code",
      "metadata": {
        "colab": {
          "base_uri": "https://localhost:8080/"
        },
        "id": "IEWhUGFDLb1j",
        "outputId": "27623dff-b081-479e-cf6e-352f21142a63"
      },
      "source": [
        "y_pred = xgb.predict(val_x)\n",
        "y_true = val_y\n",
        "\n",
        "mae = mean_absolute_error(y_true, y_pred)\n",
        "mae\n",
        "\n",
        "mse = mean_squared_error(y_true, y_pred)\n",
        "mse \n",
        "RMSE = mse**0.5\n",
        "RMSE"
      ],
      "execution_count": null,
      "outputs": [
        {
          "output_type": "execute_result",
          "data": {
            "text/plain": [
              "443452618.38668364"
            ]
          },
          "metadata": {
            "tags": []
          },
          "execution_count": 59
        }
      ]
    },
    {
      "cell_type": "code",
      "metadata": {
        "id": "6WJxEdapWv3B"
      },
      "source": [
        "key = test_x.Auction_key\n",
        "test_x = test_x.drop(['Auction_key'],axis = 1)\n"
      ],
      "execution_count": null,
      "outputs": []
    },
    {
      "cell_type": "code",
      "metadata": {
        "colab": {
          "base_uri": "https://localhost:8080/"
        },
        "id": "eBOEn7E2dQTG",
        "outputId": "ad46bad6-2daa-48c7-af7f-e7ab38ef7510"
      },
      "source": [
        "y_pred = xgb.predict(test_x)\n",
        "y_pred = y_pred.astype(int)\n",
        "y_pred"
      ],
      "execution_count": null,
      "outputs": [
        {
          "output_type": "execute_result",
          "data": {
            "text/plain": [
              "array([ 140236320,  134898704,  140236320,  140236320,  140236320,\n",
              "        140236320,  134898704,  190362672,  191588320,  296207424,\n",
              "        168395536,   70838200,   93114768,   73200248,  426950112,\n",
              "         64768952,  444136352,  129267744,  140436080,  171236912,\n",
              "         46876404,  548990848,  175443136,  175443136,  154660992,\n",
              "        285430848,  133105336,  300622208,  155853440,  231183392,\n",
              "        103098424,   93978680,  335852736,  117850640,  139349136,\n",
              "        173958416,  236393264,  178557136,  176523712,  478193984,\n",
              "         80847680,  354724384,  342081632,  175176144,  278596320,\n",
              "        171435152,  117676440,  598439104,  164744592,   99237472,\n",
              "         31384484,  193185680,  318320736,  110672352,   93220184,\n",
              "        131389056,   94611680,  232905440,  347313184,   92836528,\n",
              "        103418608,  295956832,  419725760,  178121072,  158443744,\n",
              "        484833088,  499324192,  152288736,  309596800,  110672352,\n",
              "        272994720,  397669056,  257310624,  171164896,  286207360,\n",
              "        370287392,  167127328,  215362496,  119279536,  175674688,\n",
              "        102393360,  170154608,  216294112,  418049056,  630351232,\n",
              "        222305728,  313718720,  268927552,  446708352,   78896040,\n",
              "         51997816,  261868272,  138346624,   41449256,  312482560,\n",
              "        161396240,  234795904,  123515616,  280551872,  183417472,\n",
              "        359139296,  128547672,   99375224,  422570144,  400887648,\n",
              "         90511208,  127698624,  337688896,  129316816,  164232880,\n",
              "        726107072,  351982336,  188746944,  195230320,  164232880,\n",
              "        181081360,  395099872,  257514560,  149740448,  130750800,\n",
              "        171012032,  149006304,  117406104,  116773296,  116773296,\n",
              "        319798208,  160108400,  654103808,  158757360,  245653680,\n",
              "        296332032,  161058240,  145450016,  227499776,  165475808,\n",
              "         90511208,  261748352,  153142112,  118797776,  128861920,\n",
              "        245773600,  244057328,  308632416,  206467088,  171236912,\n",
              "        230065072,  257587968,   38448252,  163965312,  419725760,\n",
              "        433257600,  165475808,  131389056,  207572960,   64639048,\n",
              "        474930336,   36130140,  206834288,  258207760,  158443744,\n",
              "        425900064,  221886592,  158443744,  704295872,  313665280,\n",
              "        272423392,   96820400,  242459968,  396144832,  256389456,\n",
              "        116773296,  149740448,  562753216,  186011296,  193184672,\n",
              "        283926080,  176523712,  146780160,  111521400,  134615664,\n",
              "        114840776,   77005560,  659262080,  104187688,   68642584,\n",
              "        334256384,  244176240,  175992800,   72593496,  298821760,\n",
              "        415140128,  253901040,   80502624,  290613760,  114927344,\n",
              "        395689344,  436902048,   93220184,  753672448,  257156112,\n",
              "        674982464,   94981200,   68642584,   33178168,  313785184,\n",
              "        242056576,  301305184,  197795616,  268239664,  496657568,\n",
              "         35068644,  167286400,  253462976,   68642584,  231432064,\n",
              "        489475968,  510075200,  724411136,  105540768,  108956072,\n",
              "        413659200,   37587776,   79251072,  222328832,  294359456,\n",
              "        146016064,  284936992,  122502536,  164041952,  455566784,\n",
              "        715583104,  241733920,  297237376,  427318176,  183251888,\n",
              "        504292160,  286788800,   60930392,  353127008,  546583104,\n",
              "         67133184,   33742632,  788073088,  227187168,  261600768,\n",
              "        102272560,   76635848,   89323872,  767774720,  118470592,\n",
              "        414353760,  188072112,  836860672,  110846552,  188746944,\n",
              "        146899072,  120838344,  151571600,  133480032,   45692108,\n",
              "        850001856,  197935696,  154179200,  136587744,  313845600,\n",
              "        270488480,  392122208,  313042976,  388230112,  244299216,\n",
              "         35068644,  776830720,  435824448, 1228403968,  204869728,\n",
              "        134871568,  282589472,  209874304,  213481040,  179365088,\n",
              "        153886096,  158443744,  234622720,  298049312,   56091588,\n",
              "        365852480,  175597808,  172789888,  375038528,   67746872,\n",
              "        153277840,  153277840,  315262656,  166207952,  231309088,\n",
              "        296332032,  159158624,   68163224, 1198328320,  625062784,\n",
              "       1294870144,  630667584,  659325696,  566349952,  562002176,\n",
              "        585247936,  604324288,  615975424,  439821184, 2459121664,\n",
              "       2482724352, 1303094400,  307385440,  452699296, 1314006016,\n",
              "        896380032,  453263840,  997155520,  859097408, 1595587584,\n",
              "       2398095872,  650286720, 2360437504,  865917952,  740118400,\n",
              "        748270656,  900645952,  456186144,  758586944,  531638656,\n",
              "       1452699904,  480395296,  221935840,  597889536,  826748288,\n",
              "        257544272,  477686144,  242993744,  649564864,  416923840,\n",
              "        422123200, 1021106304, 1306144640,  561181504,  635713024,\n",
              "        625718656,  929972224,  996317056, 1467860736, 1425305472,\n",
              "        763244096, 1337065600,  284936992, 1281247232,  638322560,\n",
              "        936596416,  279548864, 1007514368,  298110848,  995148224,\n",
              "       1318262016, 1137360512,  795513344,  903616768,  640401088,\n",
              "       1133167488, 1055507136,  334191360,  953469504, 1477548160,\n",
              "        574808064,  161278416,  923205376,  230993840, 1906821248,\n",
              "        690575872, 1289389440, 2472998656,  315444096, 1244226816,\n",
              "        639710208, 1303949824,  853624576,  257492416,  216863072,\n",
              "       1544203776,  679205504,  312589568,  715179328, 1309631104,\n",
              "       1336444160,  334191360, 1606324736, 1595521664, 1112943744,\n",
              "       1553714432,  813033664, 3695557888,  754092608,  429908416,\n",
              "        292938656,  508816192,  653010688, 1794532992,  651934656,\n",
              "        115100016,  347313184,  516428352,  567449280,  518082624,\n",
              "       2417492224,  451482464,  415788608,  359810656,  643122624,\n",
              "        474057088,  353609856,  391377696,  482285792, 1013827840,\n",
              "        417931776, 1346138624,  709427648,  658540608,  584633664,\n",
              "        544518528,  394744128,  630993280,  837902656,  932410752,\n",
              "        715901696,  648400448,  789056960, 2194842112,  519387648,\n",
              "        653791936,  452812000, 1011612160,  227857440,  819697792,\n",
              "        996516608,  801333888,  396072704, 1220202496,  651065088,\n",
              "        889437184,  639799936,  508463840,  508816192,  834276224,\n",
              "        407197920,  372466688,  679677376,  620121088,  937690816,\n",
              "        699087040,  617782336,  100942952,  175509552,  336033472,\n",
              "        411124224,  351566176, 1257823616, 1863507072,  422123200,\n",
              "       1337114368,  273031264,  414952416,  680413760,  695149888,\n",
              "       1379598592,  948204032,  640074304,  634839552,  419193216,\n",
              "        472730336,  801364288, 1632235776,  566796288,  620940800,\n",
              "        332926848,  702408640,  720453376,  872517504,  380564800,\n",
              "       1476156928,  354675392,  420918592, 1671819008,  444622112,\n",
              "        410591296,  182689472,  246384960,  269794272,  252812496,\n",
              "       1693577088,  225507696,  477737664, 1221522688,  498849344,\n",
              "        341616544,  273996416,  759074688,  404238784,  266890032,\n",
              "        306135360,  414528032,  467072608,  379376256,  625187776,\n",
              "        389071712,  476089504,  398596160, 1996473984,  176436368,\n",
              "        249599696,  281497184,  243380464,  857977536,  236433904,\n",
              "        450868256,  779611392,  407085216,  204073952,  211740576,\n",
              "        459396928,  836921216, 1006823744,   84396608,  477776992,\n",
              "        298497568,  240258416,  648962368,  122445560,  865786432,\n",
              "        252860288,  432420544,  632511424,  351092384,  439384832,\n",
              "        337699808,  508731680,  239098896,  390004064,  514092960,\n",
              "        160307888,  972528704,  992678208,  714241152, 1520814080,\n",
              "        310377312,  464393920,  180191968,  608896128,  556552640,\n",
              "        403594144,  566689280,  616035968, 1088390784,  635201984,\n",
              "        220256112,  513911712, 1796928768,  257011888,  746944768,\n",
              "        701059072,  854008320, 1006122048,  564694272,  626383744,\n",
              "        640192320,  246307008,  332446880,  269277568,  399939360,\n",
              "        458174336,  334277120,  154003520,  234099808,  420297504,\n",
              "       1082443648,  280297184,  357178400,  453755552,  298110848,\n",
              "        428825216,  946804928,  451574176,  173627968,  343622752,\n",
              "        400023168,  510328032,  108918720,  748613888,  350241664,\n",
              "        485089184,  612881792, 1295325056,  354968320,  241396384,\n",
              "        350665376,  195230320,  518536064,  235172816,  281439360,\n",
              "        340848160,  177984096, 1321739008,  380202400,  244036192,\n",
              "        352114816,  680533696,  569736256,  391277216, 1480193152,\n",
              "        257587968,  341906496,  417159328,  449538720,  559403136,\n",
              "        970244992,  386430688,  425547424,  317453472,  460904512,\n",
              "        460726464,  141225904,  149006304, 1207733504,   86010216,\n",
              "         94323128,  295640000,  296033056,  581281088,  132231728,\n",
              "       1341707136,  617635328,  797169728,   81966832,  257310624,\n",
              "        243286848,  383396128,  628256448,  295907840,  256729408,\n",
              "        212434672,  632567936,  295640000,  417159328,  415267968,\n",
              "        316307680,  513448352,  733200704,  486488352,  119498144,\n",
              "        282310240,  457169920,  241396384,  283036736,  957387328,\n",
              "        352985632,  129535424,  637003264,  128253224,  296781312,\n",
              "        715773440,  132231728,  445790912,  511777472,  865700800,\n",
              "        293074688,  842985856, 1671626112,  371202496,  703653760,\n",
              "        271635872,  630914112,  459188256,  281439360,  388989536,\n",
              "        403326304,  389134368,  559731968,  319894688,  257974688,\n",
              "        321379456,  386495328,  285323712,  141343136,  287349760,\n",
              "        535666048,  559731968,  277796416,  334643104,  567897536,\n",
              "        316666720,  307303904,  235611632,  481779648,  293939936,\n",
              "        338689056,  293939936,  382676768,  180603696,  367898112,\n",
              "        498624832,  339142688,  532940768,  310218592,  255121424,\n",
              "        218863520,  151960240,  567897536,  564467072,  255185456,\n",
              "        480956256,  453086016,  281592960,  357446240,  466978528,\n",
              "        392281728,  453808576,  350334336,  316879808,  335800064,\n",
              "        640475648,  171685152,  299270016,  313059968,  297624096,\n",
              "        230727872,  354317056,  423758944,  353550272,  448334560,\n",
              "        346624640,  369788608,  350798432,  387355456,  377940352,\n",
              "        366998048,  387355456,  313986560,  361867456,  230513312,\n",
              "        412988416,  296781312,  295003520,  500515328,  221597648,\n",
              "        248884784,  183299488,  253417040,  213256944,  230758912,\n",
              "        219259904,  460323008,  515780000,  338079104,  297839776,\n",
              "        284548576,  421118944,  260763936,  333909568,  342629536,\n",
              "        342636736,  246396032,  317103488,  374384000,  295830432,\n",
              "        193633920,  354935424,  390778656,  439575392,  922961792,\n",
              "        534661696,  276700448,  453648416,  498559392,  478945856,\n",
              "        236961424,  527475328,  113695384,  382983584,  248884784,\n",
              "        298497568,  260417824,  559013696,  459455072,  415824736,\n",
              "        316005056,  423987392,  384561664,  618935488,  394875680,\n",
              "         55553744,  510447936,  284590016,  457731328,  195900224,\n",
              "        294304704,  421238848,  270295904,  242997904,  414233440,\n",
              "        218605360,  431365760,  379450496,  221597648,  293939936,\n",
              "        505890304,  479373344,  352359264,  353639808,  340920480,\n",
              "        189560960,  364875296,  353639808,  337522336,  389810496,\n",
              "        254456384,  569059584,  103429936,  439640512,  439640512,\n",
              "        554746944,  279084032,  510447936,  423951872])"
            ]
          },
          "metadata": {
            "tags": []
          },
          "execution_count": 61
        }
      ]
    },
    {
      "cell_type": "code",
      "metadata": {
        "colab": {
          "base_uri": "https://localhost:8080/",
          "height": 418
        },
        "id": "VwgfveUPSo54",
        "outputId": "5994bada-e918-4b52-e786-b13401c849de"
      },
      "source": [
        "submission = pd.read_csv('/content/drive/MyDrive/Colab Notebooks/kaggle study/[3]apartment/data_kr/Auction_submission.csv')\n",
        "submission"
      ],
      "execution_count": null,
      "outputs": [
        {
          "output_type": "execute_result",
          "data": {
            "text/html": [
              "<div>\n",
              "<style scoped>\n",
              "    .dataframe tbody tr th:only-of-type {\n",
              "        vertical-align: middle;\n",
              "    }\n",
              "\n",
              "    .dataframe tbody tr th {\n",
              "        vertical-align: top;\n",
              "    }\n",
              "\n",
              "    .dataframe thead th {\n",
              "        text-align: right;\n",
              "    }\n",
              "</style>\n",
              "<table border=\"1\" class=\"dataframe\">\n",
              "  <thead>\n",
              "    <tr style=\"text-align: right;\">\n",
              "      <th></th>\n",
              "      <th>Auction_key</th>\n",
              "      <th>Hammer_price</th>\n",
              "    </tr>\n",
              "  </thead>\n",
              "  <tbody>\n",
              "    <tr>\n",
              "      <th>0</th>\n",
              "      <td>1778</td>\n",
              "      <td>0</td>\n",
              "    </tr>\n",
              "    <tr>\n",
              "      <th>1</th>\n",
              "      <td>1779</td>\n",
              "      <td>0</td>\n",
              "    </tr>\n",
              "    <tr>\n",
              "      <th>2</th>\n",
              "      <td>1784</td>\n",
              "      <td>0</td>\n",
              "    </tr>\n",
              "    <tr>\n",
              "      <th>3</th>\n",
              "      <td>1786</td>\n",
              "      <td>0</td>\n",
              "    </tr>\n",
              "    <tr>\n",
              "      <th>4</th>\n",
              "      <td>1790</td>\n",
              "      <td>0</td>\n",
              "    </tr>\n",
              "    <tr>\n",
              "      <th>...</th>\n",
              "      <td>...</td>\n",
              "      <td>...</td>\n",
              "    </tr>\n",
              "    <tr>\n",
              "      <th>824</th>\n",
              "      <td>1762</td>\n",
              "      <td>0</td>\n",
              "    </tr>\n",
              "    <tr>\n",
              "      <th>825</th>\n",
              "      <td>1767</td>\n",
              "      <td>0</td>\n",
              "    </tr>\n",
              "    <tr>\n",
              "      <th>826</th>\n",
              "      <td>1770</td>\n",
              "      <td>0</td>\n",
              "    </tr>\n",
              "    <tr>\n",
              "      <th>827</th>\n",
              "      <td>1772</td>\n",
              "      <td>0</td>\n",
              "    </tr>\n",
              "    <tr>\n",
              "      <th>828</th>\n",
              "      <td>1774</td>\n",
              "      <td>0</td>\n",
              "    </tr>\n",
              "  </tbody>\n",
              "</table>\n",
              "<p>829 rows × 2 columns</p>\n",
              "</div>"
            ],
            "text/plain": [
              "     Auction_key  Hammer_price\n",
              "0           1778             0\n",
              "1           1779             0\n",
              "2           1784             0\n",
              "3           1786             0\n",
              "4           1790             0\n",
              "..           ...           ...\n",
              "824         1762             0\n",
              "825         1767             0\n",
              "826         1770             0\n",
              "827         1772             0\n",
              "828         1774             0\n",
              "\n",
              "[829 rows x 2 columns]"
            ]
          },
          "metadata": {
            "tags": []
          },
          "execution_count": 62
        }
      ]
    },
    {
      "cell_type": "code",
      "metadata": {
        "id": "UadxGJSJfA-t"
      },
      "source": [
        "submission['Hammer_price'] = y_pred"
      ],
      "execution_count": null,
      "outputs": []
    },
    {
      "cell_type": "code",
      "metadata": {
        "colab": {
          "base_uri": "https://localhost:8080/",
          "height": 418
        },
        "id": "2ZA4BkhlfgVq",
        "outputId": "b3b7dd6a-01af-439f-c67e-88e2a3412109"
      },
      "source": [
        "submission"
      ],
      "execution_count": null,
      "outputs": [
        {
          "output_type": "execute_result",
          "data": {
            "text/html": [
              "<div>\n",
              "<style scoped>\n",
              "    .dataframe tbody tr th:only-of-type {\n",
              "        vertical-align: middle;\n",
              "    }\n",
              "\n",
              "    .dataframe tbody tr th {\n",
              "        vertical-align: top;\n",
              "    }\n",
              "\n",
              "    .dataframe thead th {\n",
              "        text-align: right;\n",
              "    }\n",
              "</style>\n",
              "<table border=\"1\" class=\"dataframe\">\n",
              "  <thead>\n",
              "    <tr style=\"text-align: right;\">\n",
              "      <th></th>\n",
              "      <th>Auction_key</th>\n",
              "      <th>Hammer_price</th>\n",
              "    </tr>\n",
              "  </thead>\n",
              "  <tbody>\n",
              "    <tr>\n",
              "      <th>0</th>\n",
              "      <td>1778</td>\n",
              "      <td>140236320</td>\n",
              "    </tr>\n",
              "    <tr>\n",
              "      <th>1</th>\n",
              "      <td>1779</td>\n",
              "      <td>134898704</td>\n",
              "    </tr>\n",
              "    <tr>\n",
              "      <th>2</th>\n",
              "      <td>1784</td>\n",
              "      <td>140236320</td>\n",
              "    </tr>\n",
              "    <tr>\n",
              "      <th>3</th>\n",
              "      <td>1786</td>\n",
              "      <td>140236320</td>\n",
              "    </tr>\n",
              "    <tr>\n",
              "      <th>4</th>\n",
              "      <td>1790</td>\n",
              "      <td>140236320</td>\n",
              "    </tr>\n",
              "    <tr>\n",
              "      <th>...</th>\n",
              "      <td>...</td>\n",
              "      <td>...</td>\n",
              "    </tr>\n",
              "    <tr>\n",
              "      <th>824</th>\n",
              "      <td>1762</td>\n",
              "      <td>439640512</td>\n",
              "    </tr>\n",
              "    <tr>\n",
              "      <th>825</th>\n",
              "      <td>1767</td>\n",
              "      <td>554746944</td>\n",
              "    </tr>\n",
              "    <tr>\n",
              "      <th>826</th>\n",
              "      <td>1770</td>\n",
              "      <td>279084032</td>\n",
              "    </tr>\n",
              "    <tr>\n",
              "      <th>827</th>\n",
              "      <td>1772</td>\n",
              "      <td>510447936</td>\n",
              "    </tr>\n",
              "    <tr>\n",
              "      <th>828</th>\n",
              "      <td>1774</td>\n",
              "      <td>423951872</td>\n",
              "    </tr>\n",
              "  </tbody>\n",
              "</table>\n",
              "<p>829 rows × 2 columns</p>\n",
              "</div>"
            ],
            "text/plain": [
              "     Auction_key  Hammer_price\n",
              "0           1778     140236320\n",
              "1           1779     134898704\n",
              "2           1784     140236320\n",
              "3           1786     140236320\n",
              "4           1790     140236320\n",
              "..           ...           ...\n",
              "824         1762     439640512\n",
              "825         1767     554746944\n",
              "826         1770     279084032\n",
              "827         1772     510447936\n",
              "828         1774     423951872\n",
              "\n",
              "[829 rows x 2 columns]"
            ]
          },
          "metadata": {
            "tags": []
          },
          "execution_count": 64
        }
      ]
    },
    {
      "cell_type": "code",
      "metadata": {
        "colab": {
          "base_uri": "https://localhost:8080/"
        },
        "id": "_Jfs63YKeEY-",
        "outputId": "1a6542ac-4330-4b2c-8799-58562cdff682"
      },
      "source": [
        "train.Hammer_price"
      ],
      "execution_count": null,
      "outputs": [
        {
          "output_type": "execute_result",
          "data": {
            "text/plain": [
              "0        760000000\n",
              "1        971889999\n",
              "2         93399999\n",
              "3        256899000\n",
              "4        158660000\n",
              "           ...    \n",
              "1928     402500000\n",
              "1929     430234600\n",
              "1930    1118999990\n",
              "1931     403000000\n",
              "1932     686010000\n",
              "Name: Hammer_price, Length: 1933, dtype: int64"
            ]
          },
          "metadata": {
            "tags": []
          },
          "execution_count": 65
        }
      ]
    },
    {
      "cell_type": "code",
      "metadata": {
        "id": "3TEqb2VrdjXp"
      },
      "source": [
        "submission.to_csv('submission.csv',index=False)"
      ],
      "execution_count": null,
      "outputs": []
    },
    {
      "cell_type": "code",
      "metadata": {
        "id": "4uzbINDId3yG"
      },
      "source": [
        ""
      ],
      "execution_count": null,
      "outputs": []
    }
  ]
}